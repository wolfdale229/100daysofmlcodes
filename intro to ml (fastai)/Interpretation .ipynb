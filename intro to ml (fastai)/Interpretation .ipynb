{
 "cells": [
  {
   "cell_type": "markdown",
   "metadata": {
    "heading_collapsed": true
   },
   "source": [
    "# Random Forest Interpretation "
   ]
  },
  {
   "cell_type": "code",
   "execution_count": 16,
   "metadata": {
    "deletable": false,
    "editable": false,
    "hidden": true,
    "run_control": {
     "frozen": true
    }
   },
   "outputs": [],
   "source": [
    "2020-7-7 14:52:43 "
   ]
  },
  {
   "cell_type": "markdown",
   "metadata": {
    "heading_collapsed": true,
    "hidden": true
   },
   "source": [
    "## Imports"
   ]
  },
  {
   "cell_type": "code",
   "execution_count": 72,
   "metadata": {
    "hidden": true
   },
   "outputs": [],
   "source": [
    "%reload_ext autoreload\n",
    "%autoreload 2\n",
    "%matplotlib inline"
   ]
  },
  {
   "cell_type": "code",
   "execution_count": 73,
   "metadata": {
    "hidden": true
   },
   "outputs": [],
   "source": [
    "from fastai.imports import *\n",
    "from fastai.structured import *"
   ]
  },
  {
   "cell_type": "code",
   "execution_count": 74,
   "metadata": {
    "hidden": true
   },
   "outputs": [],
   "source": [
    "import pandas as pd\n",
    "import numpy as np\n",
    "import seaborn as sns\n",
    "import matplotlib.pyplot as plt\n",
    "\n",
    "from pandas_summary import DataFrameSummary\n",
    "from sklearn import metrics\n",
    "from IPython.display import display\n",
    "from sklearn.ensemble import RandomForestRegressor\n",
    "from sklearn.metrics import mean_squared_error\n",
    "\n",
    "sns.set_style('darkgrid')"
   ]
  },
  {
   "cell_type": "markdown",
   "metadata": {
    "heading_collapsed": true,
    "hidden": true
   },
   "source": [
    "## Processing Data"
   ]
  },
  {
   "cell_type": "code",
   "execution_count": 75,
   "metadata": {
    "hidden": true
   },
   "outputs": [],
   "source": [
    "df_raw = pd.read_feather('tmp/df_raw1')"
   ]
  },
  {
   "cell_type": "code",
   "execution_count": 76,
   "metadata": {
    "hidden": true
   },
   "outputs": [],
   "source": [
    "df, y, nas = proc_df(df_raw, 'SalePrice', subset=100000)"
   ]
  },
  {
   "cell_type": "code",
   "execution_count": 77,
   "metadata": {
    "hidden": true
   },
   "outputs": [
    {
     "data": {
      "text/plain": [
       "((100000, 66), (100000,))"
      ]
     },
     "execution_count": 77,
     "metadata": {},
     "output_type": "execute_result"
    }
   ],
   "source": [
    "df.shape, y.shape"
   ]
  },
  {
   "cell_type": "code",
   "execution_count": 78,
   "metadata": {
    "hidden": true
   },
   "outputs": [],
   "source": [
    "def split(data_set, size):\n",
    "    return data_set[:size], data_set[size:]\n",
    "test_size = 12000\n",
    "size = len(df) - test_size\n",
    "\n",
    "X_train, X_valid = split(df, size)\n",
    "y_train, y_valid =  split(y, size)\n",
    "raw_train, raw_valid = split(df_raw, size)"
   ]
  },
  {
   "cell_type": "code",
   "execution_count": 79,
   "metadata": {
    "hidden": true
   },
   "outputs": [
    {
     "data": {
      "text/html": [
       "<div>\n",
       "<style scoped>\n",
       "    .dataframe tbody tr th:only-of-type {\n",
       "        vertical-align: middle;\n",
       "    }\n",
       "\n",
       "    .dataframe tbody tr th {\n",
       "        vertical-align: top;\n",
       "    }\n",
       "\n",
       "    .dataframe thead th {\n",
       "        text-align: right;\n",
       "    }\n",
       "</style>\n",
       "<table border=\"1\" class=\"dataframe\">\n",
       "  <thead>\n",
       "    <tr style=\"text-align: right;\">\n",
       "      <th></th>\n",
       "      <th>SalesID</th>\n",
       "      <th>SalePrice</th>\n",
       "      <th>MachineID</th>\n",
       "      <th>ModelID</th>\n",
       "      <th>datasource</th>\n",
       "      <th>auctioneerID</th>\n",
       "      <th>YearMade</th>\n",
       "      <th>MachineHoursCurrentMeter</th>\n",
       "      <th>UsageBand</th>\n",
       "      <th>fiModelDesc</th>\n",
       "      <th>...</th>\n",
       "      <th>saleDay</th>\n",
       "      <th>saleDayofweek</th>\n",
       "      <th>saleDayofyear</th>\n",
       "      <th>saleIs_month_end</th>\n",
       "      <th>saleIs_month_start</th>\n",
       "      <th>saleIs_quarter_end</th>\n",
       "      <th>saleIs_quarter_start</th>\n",
       "      <th>saleIs_year_end</th>\n",
       "      <th>saleIs_year_start</th>\n",
       "      <th>saleElapsed</th>\n",
       "    </tr>\n",
       "  </thead>\n",
       "  <tbody>\n",
       "    <tr>\n",
       "      <th>0</th>\n",
       "      <td>1139246</td>\n",
       "      <td>11.097410</td>\n",
       "      <td>999089</td>\n",
       "      <td>3157</td>\n",
       "      <td>121</td>\n",
       "      <td>3.0</td>\n",
       "      <td>2004</td>\n",
       "      <td>68.0</td>\n",
       "      <td>Low</td>\n",
       "      <td>521D</td>\n",
       "      <td>...</td>\n",
       "      <td>16</td>\n",
       "      <td>3</td>\n",
       "      <td>320</td>\n",
       "      <td>False</td>\n",
       "      <td>False</td>\n",
       "      <td>False</td>\n",
       "      <td>False</td>\n",
       "      <td>False</td>\n",
       "      <td>False</td>\n",
       "      <td>1163635200</td>\n",
       "    </tr>\n",
       "    <tr>\n",
       "      <th>1</th>\n",
       "      <td>1139248</td>\n",
       "      <td>10.950807</td>\n",
       "      <td>117657</td>\n",
       "      <td>77</td>\n",
       "      <td>121</td>\n",
       "      <td>3.0</td>\n",
       "      <td>1996</td>\n",
       "      <td>4640.0</td>\n",
       "      <td>Low</td>\n",
       "      <td>950FII</td>\n",
       "      <td>...</td>\n",
       "      <td>26</td>\n",
       "      <td>4</td>\n",
       "      <td>86</td>\n",
       "      <td>False</td>\n",
       "      <td>False</td>\n",
       "      <td>False</td>\n",
       "      <td>False</td>\n",
       "      <td>False</td>\n",
       "      <td>False</td>\n",
       "      <td>1080259200</td>\n",
       "    </tr>\n",
       "    <tr>\n",
       "      <th>2</th>\n",
       "      <td>1139249</td>\n",
       "      <td>9.210340</td>\n",
       "      <td>434808</td>\n",
       "      <td>7009</td>\n",
       "      <td>121</td>\n",
       "      <td>3.0</td>\n",
       "      <td>2001</td>\n",
       "      <td>2838.0</td>\n",
       "      <td>High</td>\n",
       "      <td>226</td>\n",
       "      <td>...</td>\n",
       "      <td>26</td>\n",
       "      <td>3</td>\n",
       "      <td>57</td>\n",
       "      <td>False</td>\n",
       "      <td>False</td>\n",
       "      <td>False</td>\n",
       "      <td>False</td>\n",
       "      <td>False</td>\n",
       "      <td>False</td>\n",
       "      <td>1077753600</td>\n",
       "    </tr>\n",
       "    <tr>\n",
       "      <th>3</th>\n",
       "      <td>1139251</td>\n",
       "      <td>10.558414</td>\n",
       "      <td>1026470</td>\n",
       "      <td>332</td>\n",
       "      <td>121</td>\n",
       "      <td>3.0</td>\n",
       "      <td>2001</td>\n",
       "      <td>3486.0</td>\n",
       "      <td>High</td>\n",
       "      <td>PC120-6E</td>\n",
       "      <td>...</td>\n",
       "      <td>19</td>\n",
       "      <td>3</td>\n",
       "      <td>139</td>\n",
       "      <td>False</td>\n",
       "      <td>False</td>\n",
       "      <td>False</td>\n",
       "      <td>False</td>\n",
       "      <td>False</td>\n",
       "      <td>False</td>\n",
       "      <td>1305763200</td>\n",
       "    </tr>\n",
       "    <tr>\n",
       "      <th>4</th>\n",
       "      <td>1139253</td>\n",
       "      <td>9.305651</td>\n",
       "      <td>1057373</td>\n",
       "      <td>17311</td>\n",
       "      <td>121</td>\n",
       "      <td>3.0</td>\n",
       "      <td>2007</td>\n",
       "      <td>722.0</td>\n",
       "      <td>Medium</td>\n",
       "      <td>S175</td>\n",
       "      <td>...</td>\n",
       "      <td>23</td>\n",
       "      <td>3</td>\n",
       "      <td>204</td>\n",
       "      <td>False</td>\n",
       "      <td>False</td>\n",
       "      <td>False</td>\n",
       "      <td>False</td>\n",
       "      <td>False</td>\n",
       "      <td>False</td>\n",
       "      <td>1248307200</td>\n",
       "    </tr>\n",
       "    <tr>\n",
       "      <th>...</th>\n",
       "      <td>...</td>\n",
       "      <td>...</td>\n",
       "      <td>...</td>\n",
       "      <td>...</td>\n",
       "      <td>...</td>\n",
       "      <td>...</td>\n",
       "      <td>...</td>\n",
       "      <td>...</td>\n",
       "      <td>...</td>\n",
       "      <td>...</td>\n",
       "      <td>...</td>\n",
       "      <td>...</td>\n",
       "      <td>...</td>\n",
       "      <td>...</td>\n",
       "      <td>...</td>\n",
       "      <td>...</td>\n",
       "      <td>...</td>\n",
       "      <td>...</td>\n",
       "      <td>...</td>\n",
       "      <td>...</td>\n",
       "      <td>...</td>\n",
       "    </tr>\n",
       "    <tr>\n",
       "      <th>401120</th>\n",
       "      <td>6333336</td>\n",
       "      <td>9.259131</td>\n",
       "      <td>1840702</td>\n",
       "      <td>21439</td>\n",
       "      <td>149</td>\n",
       "      <td>1.0</td>\n",
       "      <td>2005</td>\n",
       "      <td>NaN</td>\n",
       "      <td>NaN</td>\n",
       "      <td>35NX2</td>\n",
       "      <td>...</td>\n",
       "      <td>2</td>\n",
       "      <td>2</td>\n",
       "      <td>306</td>\n",
       "      <td>False</td>\n",
       "      <td>False</td>\n",
       "      <td>False</td>\n",
       "      <td>False</td>\n",
       "      <td>False</td>\n",
       "      <td>False</td>\n",
       "      <td>1320192000</td>\n",
       "    </tr>\n",
       "    <tr>\n",
       "      <th>401121</th>\n",
       "      <td>6333337</td>\n",
       "      <td>9.305651</td>\n",
       "      <td>1830472</td>\n",
       "      <td>21439</td>\n",
       "      <td>149</td>\n",
       "      <td>1.0</td>\n",
       "      <td>2005</td>\n",
       "      <td>NaN</td>\n",
       "      <td>NaN</td>\n",
       "      <td>35NX2</td>\n",
       "      <td>...</td>\n",
       "      <td>2</td>\n",
       "      <td>2</td>\n",
       "      <td>306</td>\n",
       "      <td>False</td>\n",
       "      <td>False</td>\n",
       "      <td>False</td>\n",
       "      <td>False</td>\n",
       "      <td>False</td>\n",
       "      <td>False</td>\n",
       "      <td>1320192000</td>\n",
       "    </tr>\n",
       "    <tr>\n",
       "      <th>401122</th>\n",
       "      <td>6333338</td>\n",
       "      <td>9.350102</td>\n",
       "      <td>1887659</td>\n",
       "      <td>21439</td>\n",
       "      <td>149</td>\n",
       "      <td>1.0</td>\n",
       "      <td>2005</td>\n",
       "      <td>NaN</td>\n",
       "      <td>NaN</td>\n",
       "      <td>35NX2</td>\n",
       "      <td>...</td>\n",
       "      <td>2</td>\n",
       "      <td>2</td>\n",
       "      <td>306</td>\n",
       "      <td>False</td>\n",
       "      <td>False</td>\n",
       "      <td>False</td>\n",
       "      <td>False</td>\n",
       "      <td>False</td>\n",
       "      <td>False</td>\n",
       "      <td>1320192000</td>\n",
       "    </tr>\n",
       "    <tr>\n",
       "      <th>401123</th>\n",
       "      <td>6333341</td>\n",
       "      <td>9.104980</td>\n",
       "      <td>1903570</td>\n",
       "      <td>21435</td>\n",
       "      <td>149</td>\n",
       "      <td>2.0</td>\n",
       "      <td>2005</td>\n",
       "      <td>NaN</td>\n",
       "      <td>NaN</td>\n",
       "      <td>30NX</td>\n",
       "      <td>...</td>\n",
       "      <td>25</td>\n",
       "      <td>1</td>\n",
       "      <td>298</td>\n",
       "      <td>False</td>\n",
       "      <td>False</td>\n",
       "      <td>False</td>\n",
       "      <td>False</td>\n",
       "      <td>False</td>\n",
       "      <td>False</td>\n",
       "      <td>1319500800</td>\n",
       "    </tr>\n",
       "    <tr>\n",
       "      <th>401124</th>\n",
       "      <td>6333342</td>\n",
       "      <td>8.955448</td>\n",
       "      <td>1926965</td>\n",
       "      <td>21435</td>\n",
       "      <td>149</td>\n",
       "      <td>2.0</td>\n",
       "      <td>2005</td>\n",
       "      <td>NaN</td>\n",
       "      <td>NaN</td>\n",
       "      <td>30NX</td>\n",
       "      <td>...</td>\n",
       "      <td>25</td>\n",
       "      <td>1</td>\n",
       "      <td>298</td>\n",
       "      <td>False</td>\n",
       "      <td>False</td>\n",
       "      <td>False</td>\n",
       "      <td>False</td>\n",
       "      <td>False</td>\n",
       "      <td>False</td>\n",
       "      <td>1319500800</td>\n",
       "    </tr>\n",
       "  </tbody>\n",
       "</table>\n",
       "<p>401125 rows × 65 columns</p>\n",
       "</div>"
      ],
      "text/plain": [
       "        SalesID  SalePrice  MachineID  ModelID  datasource  auctioneerID  \\\n",
       "0       1139246  11.097410     999089     3157         121           3.0   \n",
       "1       1139248  10.950807     117657       77         121           3.0   \n",
       "2       1139249   9.210340     434808     7009         121           3.0   \n",
       "3       1139251  10.558414    1026470      332         121           3.0   \n",
       "4       1139253   9.305651    1057373    17311         121           3.0   \n",
       "...         ...        ...        ...      ...         ...           ...   \n",
       "401120  6333336   9.259131    1840702    21439         149           1.0   \n",
       "401121  6333337   9.305651    1830472    21439         149           1.0   \n",
       "401122  6333338   9.350102    1887659    21439         149           1.0   \n",
       "401123  6333341   9.104980    1903570    21435         149           2.0   \n",
       "401124  6333342   8.955448    1926965    21435         149           2.0   \n",
       "\n",
       "        YearMade  MachineHoursCurrentMeter UsageBand fiModelDesc  ... saleDay  \\\n",
       "0           2004                      68.0       Low        521D  ...      16   \n",
       "1           1996                    4640.0       Low      950FII  ...      26   \n",
       "2           2001                    2838.0      High         226  ...      26   \n",
       "3           2001                    3486.0      High    PC120-6E  ...      19   \n",
       "4           2007                     722.0    Medium        S175  ...      23   \n",
       "...          ...                       ...       ...         ...  ...     ...   \n",
       "401120      2005                       NaN       NaN       35NX2  ...       2   \n",
       "401121      2005                       NaN       NaN       35NX2  ...       2   \n",
       "401122      2005                       NaN       NaN       35NX2  ...       2   \n",
       "401123      2005                       NaN       NaN        30NX  ...      25   \n",
       "401124      2005                       NaN       NaN        30NX  ...      25   \n",
       "\n",
       "       saleDayofweek saleDayofyear saleIs_month_end saleIs_month_start  \\\n",
       "0                  3           320            False              False   \n",
       "1                  4            86            False              False   \n",
       "2                  3            57            False              False   \n",
       "3                  3           139            False              False   \n",
       "4                  3           204            False              False   \n",
       "...              ...           ...              ...                ...   \n",
       "401120             2           306            False              False   \n",
       "401121             2           306            False              False   \n",
       "401122             2           306            False              False   \n",
       "401123             1           298            False              False   \n",
       "401124             1           298            False              False   \n",
       "\n",
       "       saleIs_quarter_end saleIs_quarter_start saleIs_year_end  \\\n",
       "0                   False                False           False   \n",
       "1                   False                False           False   \n",
       "2                   False                False           False   \n",
       "3                   False                False           False   \n",
       "4                   False                False           False   \n",
       "...                   ...                  ...             ...   \n",
       "401120              False                False           False   \n",
       "401121              False                False           False   \n",
       "401122              False                False           False   \n",
       "401123              False                False           False   \n",
       "401124              False                False           False   \n",
       "\n",
       "       saleIs_year_start saleElapsed  \n",
       "0                  False  1163635200  \n",
       "1                  False  1080259200  \n",
       "2                  False  1077753600  \n",
       "3                  False  1305763200  \n",
       "4                  False  1248307200  \n",
       "...                  ...         ...  \n",
       "401120             False  1320192000  \n",
       "401121             False  1320192000  \n",
       "401122             False  1320192000  \n",
       "401123             False  1319500800  \n",
       "401124             False  1319500800  \n",
       "\n",
       "[401125 rows x 65 columns]"
      ]
     },
     "execution_count": 79,
     "metadata": {},
     "output_type": "execute_result"
    }
   ],
   "source": [
    "df_raw"
   ]
  },
  {
   "cell_type": "code",
   "execution_count": 80,
   "metadata": {
    "hidden": true
   },
   "outputs": [
    {
     "data": {
      "text/plain": [
       "((12000, 66), (88000, 66), (88000,))"
      ]
     },
     "execution_count": 80,
     "metadata": {},
     "output_type": "execute_result"
    }
   ],
   "source": [
    "X_valid.shape, X_train.shape, y_train.shape"
   ]
  },
  {
   "cell_type": "markdown",
   "metadata": {
    "heading_collapsed": true,
    "hidden": true
   },
   "source": [
    "## Training a model"
   ]
  },
  {
   "cell_type": "code",
   "execution_count": 81,
   "metadata": {
    "code_folding": [
     0,
     4,
     15
    ],
    "hidden": true
   },
   "outputs": [],
   "source": [
    "def rmse(actuals, predicted):\n",
    "    '''Returns the root mean square log error between the actual value and predicted value '''\n",
    "    return np.sqrt(mean_squared_error(actuals, predicted))\n",
    "\n",
    "def print_score(model):\n",
    "    '''Prints out a series of score about the model passed \n",
    "    \n",
    "    score\n",
    "    =====\n",
    "    The R^2 score of the training or validation set\n",
    "    \n",
    "    rmse\n",
    "    ====\n",
    "    The root mean square log error between the actual price and the predicted price\n",
    "    '''\n",
    "    scores = [rmse(y_train , model.predict(X_train)), rmse(y_valid, model.predict(X_valid)),\n",
    "              model.score(X_train, y_train), model.score(X_valid, y_valid)\n",
    "            ]\n",
    "    print(f'The rmse of the train set : {scores[0]}')\n",
    "    print(f'The rmse of the validation set : {scores[1]}')\n",
    "    print(f'The score of the train set : {scores[2]}')\n",
    "    print(f'The score of the validation set : {scores[3]}')\n",
    "\n",
    "    # adding the oob_score\n",
    "    if hasattr(model, 'oob_score_'):\n",
    "        scores.append(model.oob_score_)\n",
    "        print(f'The OOB_score : {scores[4]}')"
   ]
  },
  {
   "cell_type": "code",
   "execution_count": 82,
   "metadata": {
    "hidden": true,
    "scrolled": true
   },
   "outputs": [
    {
     "name": "stdout",
     "output_type": "stream",
     "text": [
      "The rmse of the train set : 0.131819604799707\n",
      "The rmse of the validation set : 0.26953353967811977\n",
      "The score of the train set : 0.9631536666029288\n",
      "The score of the validation set : 0.8656843857809882\n",
      "The OOB_score : 0.8857240466563893\n"
     ]
    }
   ],
   "source": [
    "rf = RandomForestRegressor(n_estimators=40, max_features=0.5,\n",
    "                           min_samples_leaf=3, oob_score=True, n_jobs=-1)\n",
    "rf.fit(X_train, y_train)\n",
    "print_score(rf)"
   ]
  },
  {
   "cell_type": "markdown",
   "metadata": {},
   "source": [
    "# Interpretation"
   ]
  },
  {
   "cell_type": "markdown",
   "metadata": {},
   "source": [
    "## Confidence based on tree variance"
   ]
  },
  {
   "cell_type": "code",
   "execution_count": 101,
   "metadata": {},
   "outputs": [],
   "source": [
    "set_rf_samples(50000)"
   ]
  },
  {
   "cell_type": "code",
   "execution_count": 84,
   "metadata": {},
   "outputs": [
    {
     "data": {
      "text/plain": [
       "(10.998660470565383, 0.2557028195599826)"
      ]
     },
     "execution_count": 84,
     "metadata": {},
     "output_type": "execute_result"
    }
   ],
   "source": [
    "preds = np.stack([t.predict(X_valid) for t in rf.estimators_])\n",
    "np.mean(preds[:,0]), np.std(preds[:, 0])"
   ]
  },
  {
   "cell_type": "code",
   "execution_count": 85,
   "metadata": {},
   "outputs": [
    {
     "data": {
      "text/plain": [
       "(10.998660470565383, 0.2557028195599826)"
      ]
     },
     "execution_count": 85,
     "metadata": {},
     "output_type": "execute_result"
    }
   ],
   "source": [
    "def get_predict(t):\n",
    "    return t.predict(X_valid)\n",
    "preds = np.stack(parallel_trees(rf, get_predict))\n",
    "preds[:,0].mean(), np.std(preds[:,0])"
   ]
  },
  {
   "cell_type": "code",
   "execution_count": 86,
   "metadata": {},
   "outputs": [],
   "source": [
    "x = raw_valid.copy()\n",
    "x['pred_std'] = np.std(preds[:, 0])\n",
    "x['pred'] = np.mean(preds[:, 0])"
   ]
  },
  {
   "cell_type": "code",
   "execution_count": 87,
   "metadata": {},
   "outputs": [
    {
     "data": {
      "image/png": "[encoded data removed]",
      "text/plain": [
       "<Figure size 720x576 with 1 Axes>"
      ]
     },
     "metadata": {},
     "output_type": "display_data"
    }
   ],
   "source": [
    "x.Enclosure.value_counts().plot.barh(figsize=(10, 8))\n",
    "plt.show()"
   ]
  },
  {
   "cell_type": "code",
   "execution_count": 88,
   "metadata": {},
   "outputs": [
    {
     "data": {
      "text/html": [
       "<div>\n",
       "<style scoped>\n",
       "    .dataframe tbody tr th:only-of-type {\n",
       "        vertical-align: middle;\n",
       "    }\n",
       "\n",
       "    .dataframe tbody tr th {\n",
       "        vertical-align: top;\n",
       "    }\n",
       "\n",
       "    .dataframe thead th {\n",
       "        text-align: right;\n",
       "    }\n",
       "</style>\n",
       "<table border=\"1\" class=\"dataframe\">\n",
       "  <thead>\n",
       "    <tr style=\"text-align: right;\">\n",
       "      <th></th>\n",
       "      <th>Enclosure</th>\n",
       "      <th>SalePrice</th>\n",
       "      <th>pred</th>\n",
       "      <th>pred_std</th>\n",
       "    </tr>\n",
       "  </thead>\n",
       "  <tbody>\n",
       "    <tr>\n",
       "      <th>0</th>\n",
       "      <td>EROPS</td>\n",
       "      <td>10.058795</td>\n",
       "      <td>10.99866</td>\n",
       "      <td>0.255703</td>\n",
       "    </tr>\n",
       "    <tr>\n",
       "      <th>1</th>\n",
       "      <td>EROPS AC</td>\n",
       "      <td>9.852914</td>\n",
       "      <td>10.99866</td>\n",
       "      <td>0.255703</td>\n",
       "    </tr>\n",
       "    <tr>\n",
       "      <th>2</th>\n",
       "      <td>EROPS w AC</td>\n",
       "      <td>10.693282</td>\n",
       "      <td>10.99866</td>\n",
       "      <td>0.255703</td>\n",
       "    </tr>\n",
       "    <tr>\n",
       "      <th>3</th>\n",
       "      <td>NO ROPS</td>\n",
       "      <td>10.697825</td>\n",
       "      <td>10.99866</td>\n",
       "      <td>0.255703</td>\n",
       "    </tr>\n",
       "    <tr>\n",
       "      <th>4</th>\n",
       "      <td>None or Unspecified</td>\n",
       "      <td>9.699503</td>\n",
       "      <td>10.99866</td>\n",
       "      <td>0.255703</td>\n",
       "    </tr>\n",
       "    <tr>\n",
       "      <th>5</th>\n",
       "      <td>OROPS</td>\n",
       "      <td>9.810282</td>\n",
       "      <td>10.99866</td>\n",
       "      <td>0.255703</td>\n",
       "    </tr>\n",
       "  </tbody>\n",
       "</table>\n",
       "</div>"
      ],
      "text/plain": [
       "             Enclosure  SalePrice      pred  pred_std\n",
       "0                EROPS  10.058795  10.99866  0.255703\n",
       "1             EROPS AC   9.852914  10.99866  0.255703\n",
       "2           EROPS w AC  10.693282  10.99866  0.255703\n",
       "3              NO ROPS  10.697825  10.99866  0.255703\n",
       "4  None or Unspecified   9.699503  10.99866  0.255703\n",
       "5                OROPS   9.810282  10.99866  0.255703"
      ]
     },
     "execution_count": 88,
     "metadata": {},
     "output_type": "execute_result"
    }
   ],
   "source": [
    "fld = ['Enclosure', 'SalePrice', 'pred', 'pred_std']\n",
    "x[fld].groupby('Enclosure', as_index=False).mean()"
   ]
  },
  {
   "cell_type": "code",
   "execution_count": 89,
   "metadata": {},
   "outputs": [
    {
     "data": {
      "image/png": "[encoded data removed]",
      "text/plain": [
       "<Figure size 432x288 with 1 Axes>"
      ]
     },
     "metadata": {},
     "output_type": "display_data"
    }
   ],
   "source": [
    "x.ProductSize.value_counts().plot.barh()\n",
    "plt.show()"
   ]
  },
  {
   "cell_type": "code",
   "execution_count": 90,
   "metadata": {},
   "outputs": [
    {
     "data": {
      "text/html": [
       "<div>\n",
       "<style scoped>\n",
       "    .dataframe tbody tr th:only-of-type {\n",
       "        vertical-align: middle;\n",
       "    }\n",
       "\n",
       "    .dataframe tbody tr th {\n",
       "        vertical-align: top;\n",
       "    }\n",
       "\n",
       "    .dataframe thead th {\n",
       "        text-align: right;\n",
       "    }\n",
       "</style>\n",
       "<table border=\"1\" class=\"dataframe\">\n",
       "  <thead>\n",
       "    <tr style=\"text-align: right;\">\n",
       "      <th></th>\n",
       "      <th>pred_std</th>\n",
       "      <th>pred</th>\n",
       "      <th>SalePrice</th>\n",
       "    </tr>\n",
       "    <tr>\n",
       "      <th>ProductSize</th>\n",
       "      <th></th>\n",
       "      <th></th>\n",
       "      <th></th>\n",
       "    </tr>\n",
       "  </thead>\n",
       "  <tbody>\n",
       "    <tr>\n",
       "      <th>Compact</th>\n",
       "      <td>0.255703</td>\n",
       "      <td>10.99866</td>\n",
       "      <td>9.669399</td>\n",
       "    </tr>\n",
       "    <tr>\n",
       "      <th>Large</th>\n",
       "      <td>0.255703</td>\n",
       "      <td>10.99866</td>\n",
       "      <td>10.427667</td>\n",
       "    </tr>\n",
       "    <tr>\n",
       "      <th>Large / Medium</th>\n",
       "      <td>0.255703</td>\n",
       "      <td>10.99866</td>\n",
       "      <td>10.631128</td>\n",
       "    </tr>\n",
       "    <tr>\n",
       "      <th>Medium</th>\n",
       "      <td>0.255703</td>\n",
       "      <td>10.99866</td>\n",
       "      <td>10.531843</td>\n",
       "    </tr>\n",
       "    <tr>\n",
       "      <th>Mini</th>\n",
       "      <td>0.255703</td>\n",
       "      <td>10.99866</td>\n",
       "      <td>9.519885</td>\n",
       "    </tr>\n",
       "    <tr>\n",
       "      <th>Small</th>\n",
       "      <td>0.255703</td>\n",
       "      <td>10.99866</td>\n",
       "      <td>10.260832</td>\n",
       "    </tr>\n",
       "  </tbody>\n",
       "</table>\n",
       "</div>"
      ],
      "text/plain": [
       "                pred_std      pred  SalePrice\n",
       "ProductSize                                  \n",
       "Compact         0.255703  10.99866   9.669399\n",
       "Large           0.255703  10.99866  10.427667\n",
       "Large / Medium  0.255703  10.99866  10.631128\n",
       "Medium          0.255703  10.99866  10.531843\n",
       "Mini            0.255703  10.99866   9.519885\n",
       "Small           0.255703  10.99866  10.260832"
      ]
     },
     "execution_count": 90,
     "metadata": {},
     "output_type": "execute_result"
    }
   ],
   "source": [
    "flds = ['pred_std', 'pred', 'ProductSize', 'SalePrice']\n",
    "summ = x[flds].groupby('ProductSize').mean()\n",
    "summ"
   ]
  },
  {
   "cell_type": "markdown",
   "metadata": {},
   "source": [
    "## Feature Importance"
   ]
  },
  {
   "cell_type": "code",
   "execution_count": 91,
   "metadata": {},
   "outputs": [
    {
     "data": {
      "text/html": [
       "<div>\n",
       "<style scoped>\n",
       "    .dataframe tbody tr th:only-of-type {\n",
       "        vertical-align: middle;\n",
       "    }\n",
       "\n",
       "    .dataframe tbody tr th {\n",
       "        vertical-align: top;\n",
       "    }\n",
       "\n",
       "    .dataframe thead th {\n",
       "        text-align: right;\n",
       "    }\n",
       "</style>\n",
       "<table border=\"1\" class=\"dataframe\">\n",
       "  <thead>\n",
       "    <tr style=\"text-align: right;\">\n",
       "      <th></th>\n",
       "      <th>cols</th>\n",
       "      <th>imp</th>\n",
       "    </tr>\n",
       "  </thead>\n",
       "  <tbody>\n",
       "    <tr>\n",
       "      <th>5</th>\n",
       "      <td>YearMade</td>\n",
       "      <td>0.180587</td>\n",
       "    </tr>\n",
       "    <tr>\n",
       "      <th>37</th>\n",
       "      <td>Coupler_System</td>\n",
       "      <td>0.116093</td>\n",
       "    </tr>\n",
       "    <tr>\n",
       "      <th>13</th>\n",
       "      <td>ProductSize</td>\n",
       "      <td>0.109986</td>\n",
       "    </tr>\n",
       "    <tr>\n",
       "      <th>14</th>\n",
       "      <td>fiProductClassDesc</td>\n",
       "      <td>0.068707</td>\n",
       "    </tr>\n",
       "    <tr>\n",
       "      <th>2</th>\n",
       "      <td>ModelID</td>\n",
       "      <td>0.060660</td>\n",
       "    </tr>\n",
       "    <tr>\n",
       "      <th>63</th>\n",
       "      <td>saleElapsed</td>\n",
       "      <td>0.051862</td>\n",
       "    </tr>\n",
       "    <tr>\n",
       "      <th>10</th>\n",
       "      <td>fiSecondaryDesc</td>\n",
       "      <td>0.044187</td>\n",
       "    </tr>\n",
       "    <tr>\n",
       "      <th>38</th>\n",
       "      <td>Grouser_Tracks</td>\n",
       "      <td>0.041647</td>\n",
       "    </tr>\n",
       "    <tr>\n",
       "      <th>8</th>\n",
       "      <td>fiModelDesc</td>\n",
       "      <td>0.035043</td>\n",
       "    </tr>\n",
       "    <tr>\n",
       "      <th>19</th>\n",
       "      <td>Enclosure</td>\n",
       "      <td>0.032650</td>\n",
       "    </tr>\n",
       "  </tbody>\n",
       "</table>\n",
       "</div>"
      ],
      "text/plain": [
       "                  cols       imp\n",
       "5             YearMade  0.180587\n",
       "37      Coupler_System  0.116093\n",
       "13         ProductSize  0.109986\n",
       "14  fiProductClassDesc  0.068707\n",
       "2              ModelID  0.060660\n",
       "63         saleElapsed  0.051862\n",
       "10     fiSecondaryDesc  0.044187\n",
       "38      Grouser_Tracks  0.041647\n",
       "8          fiModelDesc  0.035043\n",
       "19           Enclosure  0.032650"
      ]
     },
     "execution_count": 91,
     "metadata": {},
     "output_type": "execute_result"
    }
   ],
   "source": [
    "fi = rf_feat_importance(rf, df)\n",
    "fi[:10]"
   ]
  },
  {
   "cell_type": "code",
   "execution_count": 92,
   "metadata": {},
   "outputs": [
    {
     "data": {
      "image/png": "[encoded data removed]",
      "text/plain": [
       "<Figure size 864x576 with 1 Axes>"
      ]
     },
     "metadata": {},
     "output_type": "display_data"
    }
   ],
   "source": [
    "fi.plot('cols', 'imp', figsize=(12, 8), legend=False)\n",
    "plt.show()"
   ]
  },
  {
   "cell_type": "code",
   "execution_count": 93,
   "metadata": {},
   "outputs": [
    {
     "data": {
      "image/png": "[encoded data removed]",
      "text/plain": [
       "<Figure size 720x576 with 1 Axes>"
      ]
     },
     "metadata": {},
     "output_type": "display_data"
    }
   ],
   "source": [
    "fi[:30].plot.barh('cols', 'imp', figsize=(10, 8))\n",
    "plt.show()"
   ]
  },
  {
   "cell_type": "code",
   "execution_count": 116,
   "metadata": {},
   "outputs": [
    {
     "data": {
      "text/plain": [
       "20"
      ]
     },
     "execution_count": 116,
     "metadata": {},
     "output_type": "execute_result"
    }
   ],
   "source": [
    "to_keep = fi[fi.imp > 0.005].cols\n",
    "len(to_keep)"
   ]
  },
  {
   "cell_type": "code",
   "execution_count": 117,
   "metadata": {},
   "outputs": [],
   "source": [
    "df_keep = df[to_keep].copy()\n",
    "X_train, X_valid = split(df_keep, size)"
   ]
  },
  {
   "cell_type": "code",
   "execution_count": 118,
   "metadata": {},
   "outputs": [
    {
     "name": "stdout",
     "output_type": "stream",
     "text": [
      "The rmse of the train set : 0.14095792777054933\n",
      "The rmse of the validation set : 0.27266380696387926\n",
      "The score of the train set : 0.957867883156624\n",
      "The score of the validation set : 0.8625464815604831\n",
      "The OOB_score : 0.8862551337300549\n"
     ]
    }
   ],
   "source": [
    "rf = RandomForestRegressor(n_estimators=40, max_features=0.5,\n",
    "                           min_samples_leaf=3, oob_score=True, n_jobs=-1).fit(X_train, y_train)\n",
    "print_score(rf)"
   ]
  },
  {
   "cell_type": "code",
   "execution_count": 119,
   "metadata": {},
   "outputs": [
    {
     "data": {
      "text/html": [
       "<div>\n",
       "<style scoped>\n",
       "    .dataframe tbody tr th:only-of-type {\n",
       "        vertical-align: middle;\n",
       "    }\n",
       "\n",
       "    .dataframe tbody tr th {\n",
       "        vertical-align: top;\n",
       "    }\n",
       "\n",
       "    .dataframe thead th {\n",
       "        text-align: right;\n",
       "    }\n",
       "</style>\n",
       "<table border=\"1\" class=\"dataframe\">\n",
       "  <thead>\n",
       "    <tr style=\"text-align: right;\">\n",
       "      <th></th>\n",
       "      <th>cols</th>\n",
       "      <th>imp</th>\n",
       "    </tr>\n",
       "  </thead>\n",
       "  <tbody>\n",
       "    <tr>\n",
       "      <th>0</th>\n",
       "      <td>YearMade</td>\n",
       "      <td>0.177596</td>\n",
       "    </tr>\n",
       "    <tr>\n",
       "      <th>2</th>\n",
       "      <td>ProductSize</td>\n",
       "      <td>0.116813</td>\n",
       "    </tr>\n",
       "    <tr>\n",
       "      <th>1</th>\n",
       "      <td>Coupler_System</td>\n",
       "      <td>0.094579</td>\n",
       "    </tr>\n",
       "    <tr>\n",
       "      <th>3</th>\n",
       "      <td>fiProductClassDesc</td>\n",
       "      <td>0.078904</td>\n",
       "    </tr>\n",
       "    <tr>\n",
       "      <th>4</th>\n",
       "      <td>ModelID</td>\n",
       "      <td>0.063135</td>\n",
       "    </tr>\n",
       "    <tr>\n",
       "      <th>5</th>\n",
       "      <td>saleElapsed</td>\n",
       "      <td>0.057785</td>\n",
       "    </tr>\n",
       "    <tr>\n",
       "      <th>7</th>\n",
       "      <td>fiSecondaryDesc</td>\n",
       "      <td>0.052262</td>\n",
       "    </tr>\n",
       "    <tr>\n",
       "      <th>8</th>\n",
       "      <td>Hydraulics_Flow</td>\n",
       "      <td>0.045783</td>\n",
       "    </tr>\n",
       "    <tr>\n",
       "      <th>6</th>\n",
       "      <td>Grouser_Tracks</td>\n",
       "      <td>0.043932</td>\n",
       "    </tr>\n",
       "    <tr>\n",
       "      <th>9</th>\n",
       "      <td>Enclosure</td>\n",
       "      <td>0.039811</td>\n",
       "    </tr>\n",
       "  </tbody>\n",
       "</table>\n",
       "</div>"
      ],
      "text/plain": [
       "                 cols       imp\n",
       "0            YearMade  0.177596\n",
       "2         ProductSize  0.116813\n",
       "1      Coupler_System  0.094579\n",
       "3  fiProductClassDesc  0.078904\n",
       "4             ModelID  0.063135\n",
       "5         saleElapsed  0.057785\n",
       "7     fiSecondaryDesc  0.052262\n",
       "8     Hydraulics_Flow  0.045783\n",
       "6      Grouser_Tracks  0.043932\n",
       "9           Enclosure  0.039811"
      ]
     },
     "execution_count": 119,
     "metadata": {},
     "output_type": "execute_result"
    }
   ],
   "source": [
    "fi = rf_feat_importance(rf, df_keep)\n",
    "fi[:10]"
   ]
  },
  {
   "cell_type": "code",
   "execution_count": 120,
   "metadata": {
    "scrolled": false
   },
   "outputs": [
    {
     "data": {
      "image/png": "[encoded data removed]",
      "text/plain": [
       "<Figure size 720x576 with 1 Axes>"
      ]
     },
     "metadata": {},
     "output_type": "display_data"
    }
   ],
   "source": [
    "fi.plot.barh('cols', 'imp', figsize=(10,8))\n",
    "plt.show()"
   ]
  },
  {
   "cell_type": "code",
   "execution_count": null,
   "metadata": {},
   "outputs": [],
   "source": []
  }
 ],
 "metadata": {
  "kernelspec": {
   "display_name": "Python 3.7.4 64-bit ('base': conda)",
   "language": "python",
   "name": "python37464bitbaseconda02803511e82243628460d84236bfc9e6"
  },
  "language_info": {
   "codemirror_mode": {
    "name": "ipython",
    "version": 3
   },
   "file_extension": ".py",
   "mimetype": "text/x-python",
   "name": "python",
   "nbconvert_exporter": "python",
   "pygments_lexer": "ipython3",
   "version": "3.7.6"
  },
  "nbTranslate": {
   "displayLangs": [
    "*"
   ],
   "hotkey": "alt-t",
   "langInMainMenu": true,
   "sourceLang": "en",
   "targetLang": "fr",
   "useGoogleTranslate": true
  },
  "toc": {
   "base_numbering": 1,
   "nav_menu": {
    "height": "135px",
    "width": "160px"
   },
   "number_sections": true,
   "sideBar": true,
   "skip_h1_title": false,
   "title_cell": "Table of Contents",
   "title_sidebar": "Contents",
   "toc_cell": false,
   "toc_position": {},
   "toc_section_display": true,
   "toc_window_display": false
  }
 },
 "nbformat": 4,
 "nbformat_minor": 2
}
