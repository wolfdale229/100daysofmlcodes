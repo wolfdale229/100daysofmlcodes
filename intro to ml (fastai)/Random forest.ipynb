{
 "cells": [
  {
   "cell_type": "markdown",
   "metadata": {},
   "source": [
    "# Random Forest Regression "
   ]
  },
  {
   "cell_type": "code",
   "execution_count": 1,
   "metadata": {},
   "outputs": [],
   "source": [
    "%reload_ext autoreload\n",
    "%autoreload 2\n",
    "%matplotlib inline"
   ]
  },
  {
   "cell_type": "code",
   "execution_count": 2,
   "metadata": {},
   "outputs": [
    {
     "name": "stderr",
     "output_type": "stream",
     "text": [
      "/home/eclipse/anaconda3/lib/python3.7/site-packages/sklearn/utils/deprecation.py:144: FutureWarning: The sklearn.ensemble.forest module is  deprecated in version 0.22 and will be removed in version 0.24. The corresponding classes / functions should instead be imported from sklearn.ensemble. Anything that cannot be imported from sklearn.ensemble is now part of the private API.\n",
      "  warnings.warn(message, FutureWarning)\n"
     ]
    }
   ],
   "source": [
    "from fastai.imports import *\n",
    "from fastai.structured import *"
   ]
  },
  {
   "cell_type": "code",
   "execution_count": 3,
   "metadata": {},
   "outputs": [],
   "source": [
    "import os\n",
    "import pandas as pd\n",
    "import numpy as np\n",
    "import seaborn as sns\n",
    "import matplotlib.pyplot as plt\n",
    "\n",
    "from sklearn.ensemble import RandomForestRegressor\n",
    "from sklearn.model_selection import train_test_split\n",
    "# from sklearn.preprocessing import OneHotEncoder\n",
    "from sklearn.metrics import mean_squared_error\n",
    "\n",
    "sns.set_style('darkgrid')"
   ]
  },
  {
   "cell_type": "code",
   "execution_count": 4,
   "metadata": {},
   "outputs": [],
   "source": [
    "file = '../data/bluebook-for-bulldozers/Train.csv'"
   ]
  },
  {
   "cell_type": "code",
   "execution_count": 5,
   "metadata": {},
   "outputs": [],
   "source": [
    "df_raw = pd.read_csv(file, parse_dates=['saledate'], low_memory=False)"
   ]
  },
  {
   "cell_type": "code",
   "execution_count": 6,
   "metadata": {},
   "outputs": [
    {
     "data": {
      "text/plain": [
       "(401125, 53)"
      ]
     },
     "execution_count": 6,
     "metadata": {},
     "output_type": "execute_result"
    }
   ],
   "source": [
    "df_raw.shape"
   ]
  },
  {
   "cell_type": "markdown",
   "metadata": {},
   "source": [
    "Due to computational constriants the model would only run on 10000 samples of the whole data set."
   ]
  },
  {
   "cell_type": "code",
   "execution_count": 7,
   "metadata": {},
   "outputs": [],
   "source": [
    "sample_size = 100000 # using only 10000 sample points for this exercise, computational expenses"
   ]
  },
  {
   "cell_type": "markdown",
   "metadata": {},
   "source": [
    "## A glance through at the properties of the data set."
   ]
  },
  {
   "cell_type": "code",
   "execution_count": 8,
   "metadata": {},
   "outputs": [
    {
     "name": "stdout",
     "output_type": "stream",
     "text": [
      "Feature values of the first five samples in the data set :\n"
     ]
    },
    {
     "data": {
      "text/html": [
       "<div>\n",
       "<style scoped>\n",
       "    .dataframe tbody tr th:only-of-type {\n",
       "        vertical-align: middle;\n",
       "    }\n",
       "\n",
       "    .dataframe tbody tr th {\n",
       "        vertical-align: top;\n",
       "    }\n",
       "\n",
       "    .dataframe thead th {\n",
       "        text-align: right;\n",
       "    }\n",
       "</style>\n",
       "<table border=\"1\" class=\"dataframe\">\n",
       "  <thead>\n",
       "    <tr style=\"text-align: right;\">\n",
       "      <th></th>\n",
       "      <th>SalesID</th>\n",
       "      <th>SalePrice</th>\n",
       "      <th>MachineID</th>\n",
       "      <th>ModelID</th>\n",
       "      <th>datasource</th>\n",
       "      <th>auctioneerID</th>\n",
       "      <th>YearMade</th>\n",
       "      <th>MachineHoursCurrentMeter</th>\n",
       "      <th>UsageBand</th>\n",
       "      <th>saledate</th>\n",
       "      <th>...</th>\n",
       "      <th>Undercarriage_Pad_Width</th>\n",
       "      <th>Stick_Length</th>\n",
       "      <th>Thumb</th>\n",
       "      <th>Pattern_Changer</th>\n",
       "      <th>Grouser_Type</th>\n",
       "      <th>Backhoe_Mounting</th>\n",
       "      <th>Blade_Type</th>\n",
       "      <th>Travel_Controls</th>\n",
       "      <th>Differential_Type</th>\n",
       "      <th>Steering_Controls</th>\n",
       "    </tr>\n",
       "  </thead>\n",
       "  <tbody>\n",
       "    <tr>\n",
       "      <th>0</th>\n",
       "      <td>1139246</td>\n",
       "      <td>66000</td>\n",
       "      <td>999089</td>\n",
       "      <td>3157</td>\n",
       "      <td>121</td>\n",
       "      <td>3.0</td>\n",
       "      <td>2004</td>\n",
       "      <td>68.0</td>\n",
       "      <td>Low</td>\n",
       "      <td>2006-11-16</td>\n",
       "      <td>...</td>\n",
       "      <td>NaN</td>\n",
       "      <td>NaN</td>\n",
       "      <td>NaN</td>\n",
       "      <td>NaN</td>\n",
       "      <td>NaN</td>\n",
       "      <td>NaN</td>\n",
       "      <td>NaN</td>\n",
       "      <td>NaN</td>\n",
       "      <td>Standard</td>\n",
       "      <td>Conventional</td>\n",
       "    </tr>\n",
       "    <tr>\n",
       "      <th>1</th>\n",
       "      <td>1139248</td>\n",
       "      <td>57000</td>\n",
       "      <td>117657</td>\n",
       "      <td>77</td>\n",
       "      <td>121</td>\n",
       "      <td>3.0</td>\n",
       "      <td>1996</td>\n",
       "      <td>4640.0</td>\n",
       "      <td>Low</td>\n",
       "      <td>2004-03-26</td>\n",
       "      <td>...</td>\n",
       "      <td>NaN</td>\n",
       "      <td>NaN</td>\n",
       "      <td>NaN</td>\n",
       "      <td>NaN</td>\n",
       "      <td>NaN</td>\n",
       "      <td>NaN</td>\n",
       "      <td>NaN</td>\n",
       "      <td>NaN</td>\n",
       "      <td>Standard</td>\n",
       "      <td>Conventional</td>\n",
       "    </tr>\n",
       "    <tr>\n",
       "      <th>2</th>\n",
       "      <td>1139249</td>\n",
       "      <td>10000</td>\n",
       "      <td>434808</td>\n",
       "      <td>7009</td>\n",
       "      <td>121</td>\n",
       "      <td>3.0</td>\n",
       "      <td>2001</td>\n",
       "      <td>2838.0</td>\n",
       "      <td>High</td>\n",
       "      <td>2004-02-26</td>\n",
       "      <td>...</td>\n",
       "      <td>NaN</td>\n",
       "      <td>NaN</td>\n",
       "      <td>NaN</td>\n",
       "      <td>NaN</td>\n",
       "      <td>NaN</td>\n",
       "      <td>NaN</td>\n",
       "      <td>NaN</td>\n",
       "      <td>NaN</td>\n",
       "      <td>NaN</td>\n",
       "      <td>NaN</td>\n",
       "    </tr>\n",
       "    <tr>\n",
       "      <th>3</th>\n",
       "      <td>1139251</td>\n",
       "      <td>38500</td>\n",
       "      <td>1026470</td>\n",
       "      <td>332</td>\n",
       "      <td>121</td>\n",
       "      <td>3.0</td>\n",
       "      <td>2001</td>\n",
       "      <td>3486.0</td>\n",
       "      <td>High</td>\n",
       "      <td>2011-05-19</td>\n",
       "      <td>...</td>\n",
       "      <td>NaN</td>\n",
       "      <td>NaN</td>\n",
       "      <td>NaN</td>\n",
       "      <td>NaN</td>\n",
       "      <td>NaN</td>\n",
       "      <td>NaN</td>\n",
       "      <td>NaN</td>\n",
       "      <td>NaN</td>\n",
       "      <td>NaN</td>\n",
       "      <td>NaN</td>\n",
       "    </tr>\n",
       "    <tr>\n",
       "      <th>4</th>\n",
       "      <td>1139253</td>\n",
       "      <td>11000</td>\n",
       "      <td>1057373</td>\n",
       "      <td>17311</td>\n",
       "      <td>121</td>\n",
       "      <td>3.0</td>\n",
       "      <td>2007</td>\n",
       "      <td>722.0</td>\n",
       "      <td>Medium</td>\n",
       "      <td>2009-07-23</td>\n",
       "      <td>...</td>\n",
       "      <td>NaN</td>\n",
       "      <td>NaN</td>\n",
       "      <td>NaN</td>\n",
       "      <td>NaN</td>\n",
       "      <td>NaN</td>\n",
       "      <td>NaN</td>\n",
       "      <td>NaN</td>\n",
       "      <td>NaN</td>\n",
       "      <td>NaN</td>\n",
       "      <td>NaN</td>\n",
       "    </tr>\n",
       "  </tbody>\n",
       "</table>\n",
       "<p>5 rows × 53 columns</p>\n",
       "</div>"
      ],
      "text/plain": [
       "   SalesID  SalePrice  MachineID  ModelID  datasource  auctioneerID  YearMade  \\\n",
       "0  1139246      66000     999089     3157         121           3.0      2004   \n",
       "1  1139248      57000     117657       77         121           3.0      1996   \n",
       "2  1139249      10000     434808     7009         121           3.0      2001   \n",
       "3  1139251      38500    1026470      332         121           3.0      2001   \n",
       "4  1139253      11000    1057373    17311         121           3.0      2007   \n",
       "\n",
       "   MachineHoursCurrentMeter UsageBand   saledate  ... Undercarriage_Pad_Width  \\\n",
       "0                      68.0       Low 2006-11-16  ...                     NaN   \n",
       "1                    4640.0       Low 2004-03-26  ...                     NaN   \n",
       "2                    2838.0      High 2004-02-26  ...                     NaN   \n",
       "3                    3486.0      High 2011-05-19  ...                     NaN   \n",
       "4                     722.0    Medium 2009-07-23  ...                     NaN   \n",
       "\n",
       "  Stick_Length Thumb Pattern_Changer Grouser_Type Backhoe_Mounting Blade_Type  \\\n",
       "0          NaN   NaN             NaN          NaN              NaN        NaN   \n",
       "1          NaN   NaN             NaN          NaN              NaN        NaN   \n",
       "2          NaN   NaN             NaN          NaN              NaN        NaN   \n",
       "3          NaN   NaN             NaN          NaN              NaN        NaN   \n",
       "4          NaN   NaN             NaN          NaN              NaN        NaN   \n",
       "\n",
       "  Travel_Controls Differential_Type Steering_Controls  \n",
       "0             NaN          Standard      Conventional  \n",
       "1             NaN          Standard      Conventional  \n",
       "2             NaN               NaN               NaN  \n",
       "3             NaN               NaN               NaN  \n",
       "4             NaN               NaN               NaN  \n",
       "\n",
       "[5 rows x 53 columns]"
      ]
     },
     "execution_count": 8,
     "metadata": {},
     "output_type": "execute_result"
    }
   ],
   "source": [
    "print('Feature values of the first five samples in the data set :')\n",
    "df_raw.head()"
   ]
  },
  {
   "cell_type": "code",
   "execution_count": 9,
   "metadata": {
    "scrolled": true
   },
   "outputs": [
    {
     "name": "stdout",
     "output_type": "stream",
     "text": [
      "<class 'pandas.core.frame.DataFrame'>\n",
      "RangeIndex: 401125 entries, 0 to 401124\n",
      "Data columns (total 53 columns):\n",
      " #   Column                    Non-Null Count   Dtype         \n",
      "---  ------                    --------------   -----         \n",
      " 0   SalesID                   401125 non-null  int64         \n",
      " 1   SalePrice                 401125 non-null  int64         \n",
      " 2   MachineID                 401125 non-null  int64         \n",
      " 3   ModelID                   401125 non-null  int64         \n",
      " 4   datasource                401125 non-null  int64         \n",
      " 5   auctioneerID              380989 non-null  float64       \n",
      " 6   YearMade                  401125 non-null  int64         \n",
      " 7   MachineHoursCurrentMeter  142765 non-null  float64       \n",
      " 8   UsageBand                 69639 non-null   object        \n",
      " 9   saledate                  401125 non-null  datetime64[ns]\n",
      " 10  fiModelDesc               401125 non-null  object        \n",
      " 11  fiBaseModel               401125 non-null  object        \n",
      " 12  fiSecondaryDesc           263934 non-null  object        \n",
      " 13  fiModelSeries             56908 non-null   object        \n",
      " 14  fiModelDescriptor         71919 non-null   object        \n",
      " 15  ProductSize               190350 non-null  object        \n",
      " 16  fiProductClassDesc        401125 non-null  object        \n",
      " 17  state                     401125 non-null  object        \n",
      " 18  ProductGroup              401125 non-null  object        \n",
      " 19  ProductGroupDesc          401125 non-null  object        \n",
      " 20  Drive_System              104361 non-null  object        \n",
      " 21  Enclosure                 400800 non-null  object        \n",
      " 22  Forks                     192077 non-null  object        \n",
      " 23  Pad_Type                  79134 non-null   object        \n",
      " 24  Ride_Control              148606 non-null  object        \n",
      " 25  Stick                     79134 non-null   object        \n",
      " 26  Transmission              183230 non-null  object        \n",
      " 27  Turbocharged              79134 non-null   object        \n",
      " 28  Blade_Extension           25219 non-null   object        \n",
      " 29  Blade_Width               25219 non-null   object        \n",
      " 30  Enclosure_Type            25219 non-null   object        \n",
      " 31  Engine_Horsepower         25219 non-null   object        \n",
      " 32  Hydraulics                320570 non-null  object        \n",
      " 33  Pushblock                 25219 non-null   object        \n",
      " 34  Ripper                    104137 non-null  object        \n",
      " 35  Scarifier                 25230 non-null   object        \n",
      " 36  Tip_Control               25219 non-null   object        \n",
      " 37  Tire_Size                 94718 non-null   object        \n",
      " 38  Coupler                   213952 non-null  object        \n",
      " 39  Coupler_System            43458 non-null   object        \n",
      " 40  Grouser_Tracks            43362 non-null   object        \n",
      " 41  Hydraulics_Flow           43362 non-null   object        \n",
      " 42  Track_Type                99153 non-null   object        \n",
      " 43  Undercarriage_Pad_Width   99872 non-null   object        \n",
      " 44  Stick_Length              99218 non-null   object        \n",
      " 45  Thumb                     99288 non-null   object        \n",
      " 46  Pattern_Changer           99218 non-null   object        \n",
      " 47  Grouser_Type              99153 non-null   object        \n",
      " 48  Backhoe_Mounting          78672 non-null   object        \n",
      " 49  Blade_Type                79833 non-null   object        \n",
      " 50  Travel_Controls           79834 non-null   object        \n",
      " 51  Differential_Type         69411 non-null   object        \n",
      " 52  Steering_Controls         69369 non-null   object        \n",
      "dtypes: datetime64[ns](1), float64(2), int64(6), object(44)\n",
      "memory usage: 162.2+ MB\n"
     ]
    }
   ],
   "source": [
    "df_raw.info()"
   ]
  },
  {
   "cell_type": "code",
   "execution_count": 10,
   "metadata": {},
   "outputs": [
    {
     "name": "stdout",
     "output_type": "stream",
     "text": [
      "The data set contain 401125 samples and 53 features\n"
     ]
    }
   ],
   "source": [
    "print(f'The data set contain {df_raw.shape[0]} samples and {df_raw.shape[1]} features')"
   ]
  },
  {
   "cell_type": "code",
   "execution_count": 11,
   "metadata": {
    "scrolled": true
   },
   "outputs": [
    {
     "name": "stdout",
     "output_type": "stream",
     "text": [
      "Here is a list of the features present in the data set Index(['SalesID', 'SalePrice', 'MachineID', 'ModelID', 'datasource',\n",
      "       'auctioneerID', 'YearMade', 'MachineHoursCurrentMeter', 'UsageBand',\n",
      "       'saledate', 'fiModelDesc', 'fiBaseModel', 'fiSecondaryDesc',\n",
      "       'fiModelSeries', 'fiModelDescriptor', 'ProductSize',\n",
      "       'fiProductClassDesc', 'state', 'ProductGroup', 'ProductGroupDesc',\n",
      "       'Drive_System', 'Enclosure', 'Forks', 'Pad_Type', 'Ride_Control',\n",
      "       'Stick', 'Transmission', 'Turbocharged', 'Blade_Extension',\n",
      "       'Blade_Width', 'Enclosure_Type', 'Engine_Horsepower', 'Hydraulics',\n",
      "       'Pushblock', 'Ripper', 'Scarifier', 'Tip_Control', 'Tire_Size',\n",
      "       'Coupler', 'Coupler_System', 'Grouser_Tracks', 'Hydraulics_Flow',\n",
      "       'Track_Type', 'Undercarriage_Pad_Width', 'Stick_Length', 'Thumb',\n",
      "       'Pattern_Changer', 'Grouser_Type', 'Backhoe_Mounting', 'Blade_Type',\n",
      "       'Travel_Controls', 'Differential_Type', 'Steering_Controls'],\n",
      "      dtype='object')\n"
     ]
    }
   ],
   "source": [
    "print(f'Here is a list of the features present in the data set {df_raw.columns}')"
   ]
  },
  {
   "cell_type": "code",
   "execution_count": 12,
   "metadata": {},
   "outputs": [
    {
     "name": "stdout",
     "output_type": "stream",
     "text": [
      "Description of the data set\n"
     ]
    },
    {
     "data": {
      "text/html": [
       "<div>\n",
       "<style scoped>\n",
       "    .dataframe tbody tr th:only-of-type {\n",
       "        vertical-align: middle;\n",
       "    }\n",
       "\n",
       "    .dataframe tbody tr th {\n",
       "        vertical-align: top;\n",
       "    }\n",
       "\n",
       "    .dataframe thead th {\n",
       "        text-align: right;\n",
       "    }\n",
       "</style>\n",
       "<table border=\"1\" class=\"dataframe\">\n",
       "  <thead>\n",
       "    <tr style=\"text-align: right;\">\n",
       "      <th></th>\n",
       "      <th>SalesID</th>\n",
       "      <th>SalePrice</th>\n",
       "      <th>MachineID</th>\n",
       "      <th>ModelID</th>\n",
       "      <th>datasource</th>\n",
       "      <th>auctioneerID</th>\n",
       "      <th>YearMade</th>\n",
       "      <th>MachineHoursCurrentMeter</th>\n",
       "    </tr>\n",
       "  </thead>\n",
       "  <tbody>\n",
       "    <tr>\n",
       "      <th>count</th>\n",
       "      <td>4.011250e+05</td>\n",
       "      <td>401125.000000</td>\n",
       "      <td>4.011250e+05</td>\n",
       "      <td>401125.000000</td>\n",
       "      <td>401125.000000</td>\n",
       "      <td>380989.000000</td>\n",
       "      <td>401125.000000</td>\n",
       "      <td>1.427650e+05</td>\n",
       "    </tr>\n",
       "    <tr>\n",
       "      <th>mean</th>\n",
       "      <td>1.919713e+06</td>\n",
       "      <td>31099.712848</td>\n",
       "      <td>1.217903e+06</td>\n",
       "      <td>6889.702980</td>\n",
       "      <td>134.665810</td>\n",
       "      <td>6.556040</td>\n",
       "      <td>1899.156901</td>\n",
       "      <td>3.457955e+03</td>\n",
       "    </tr>\n",
       "    <tr>\n",
       "      <th>std</th>\n",
       "      <td>9.090215e+05</td>\n",
       "      <td>23036.898502</td>\n",
       "      <td>4.409920e+05</td>\n",
       "      <td>6221.777842</td>\n",
       "      <td>8.962237</td>\n",
       "      <td>16.976779</td>\n",
       "      <td>291.797469</td>\n",
       "      <td>2.759026e+04</td>\n",
       "    </tr>\n",
       "    <tr>\n",
       "      <th>min</th>\n",
       "      <td>1.139246e+06</td>\n",
       "      <td>4750.000000</td>\n",
       "      <td>0.000000e+00</td>\n",
       "      <td>28.000000</td>\n",
       "      <td>121.000000</td>\n",
       "      <td>0.000000</td>\n",
       "      <td>1000.000000</td>\n",
       "      <td>0.000000e+00</td>\n",
       "    </tr>\n",
       "    <tr>\n",
       "      <th>25%</th>\n",
       "      <td>1.418371e+06</td>\n",
       "      <td>14500.000000</td>\n",
       "      <td>1.088697e+06</td>\n",
       "      <td>3259.000000</td>\n",
       "      <td>132.000000</td>\n",
       "      <td>1.000000</td>\n",
       "      <td>1985.000000</td>\n",
       "      <td>0.000000e+00</td>\n",
       "    </tr>\n",
       "    <tr>\n",
       "      <th>50%</th>\n",
       "      <td>1.639422e+06</td>\n",
       "      <td>24000.000000</td>\n",
       "      <td>1.279490e+06</td>\n",
       "      <td>4604.000000</td>\n",
       "      <td>132.000000</td>\n",
       "      <td>2.000000</td>\n",
       "      <td>1995.000000</td>\n",
       "      <td>0.000000e+00</td>\n",
       "    </tr>\n",
       "    <tr>\n",
       "      <th>75%</th>\n",
       "      <td>2.242707e+06</td>\n",
       "      <td>40000.000000</td>\n",
       "      <td>1.468067e+06</td>\n",
       "      <td>8724.000000</td>\n",
       "      <td>136.000000</td>\n",
       "      <td>4.000000</td>\n",
       "      <td>2000.000000</td>\n",
       "      <td>3.025000e+03</td>\n",
       "    </tr>\n",
       "    <tr>\n",
       "      <th>max</th>\n",
       "      <td>6.333342e+06</td>\n",
       "      <td>142000.000000</td>\n",
       "      <td>2.486330e+06</td>\n",
       "      <td>37198.000000</td>\n",
       "      <td>172.000000</td>\n",
       "      <td>99.000000</td>\n",
       "      <td>2013.000000</td>\n",
       "      <td>2.483300e+06</td>\n",
       "    </tr>\n",
       "  </tbody>\n",
       "</table>\n",
       "</div>"
      ],
      "text/plain": [
       "            SalesID      SalePrice     MachineID        ModelID  \\\n",
       "count  4.011250e+05  401125.000000  4.011250e+05  401125.000000   \n",
       "mean   1.919713e+06   31099.712848  1.217903e+06    6889.702980   \n",
       "std    9.090215e+05   23036.898502  4.409920e+05    6221.777842   \n",
       "min    1.139246e+06    4750.000000  0.000000e+00      28.000000   \n",
       "25%    1.418371e+06   14500.000000  1.088697e+06    3259.000000   \n",
       "50%    1.639422e+06   24000.000000  1.279490e+06    4604.000000   \n",
       "75%    2.242707e+06   40000.000000  1.468067e+06    8724.000000   \n",
       "max    6.333342e+06  142000.000000  2.486330e+06   37198.000000   \n",
       "\n",
       "          datasource   auctioneerID       YearMade  MachineHoursCurrentMeter  \n",
       "count  401125.000000  380989.000000  401125.000000              1.427650e+05  \n",
       "mean      134.665810       6.556040    1899.156901              3.457955e+03  \n",
       "std         8.962237      16.976779     291.797469              2.759026e+04  \n",
       "min       121.000000       0.000000    1000.000000              0.000000e+00  \n",
       "25%       132.000000       1.000000    1985.000000              0.000000e+00  \n",
       "50%       132.000000       2.000000    1995.000000              0.000000e+00  \n",
       "75%       136.000000       4.000000    2000.000000              3.025000e+03  \n",
       "max       172.000000      99.000000    2013.000000              2.483300e+06  "
      ]
     },
     "execution_count": 12,
     "metadata": {},
     "output_type": "execute_result"
    }
   ],
   "source": [
    "print(f'Description of the data set')\n",
    "df_raw.describe()"
   ]
  },
  {
   "cell_type": "markdown",
   "metadata": {},
   "source": [
    "## Preparing the data for modelling"
   ]
  },
  {
   "cell_type": "code",
   "execution_count": 13,
   "metadata": {},
   "outputs": [],
   "source": [
    "df_raw['SalePrice'] = np.log(df_raw['SalePrice'])"
   ]
  },
  {
   "cell_type": "markdown",
   "metadata": {},
   "source": [
    "The precesseding code splits the data set into the features and target values, where the feature value contains the predictor values and the target holds the target's value (price)."
   ]
  },
  {
   "cell_type": "code",
   "execution_count": 14,
   "metadata": {},
   "outputs": [
    {
     "data": {
      "text/plain": [
       "((401125, 52), (401125,))"
      ]
     },
     "execution_count": 14,
     "metadata": {},
     "output_type": "execute_result"
    }
   ],
   "source": [
    "X, y = df_raw.drop('SalePrice', axis=1), df_raw['SalePrice'].copy()\n",
    "X.shape, y.shape"
   ]
  },
  {
   "cell_type": "markdown",
   "metadata": {},
   "source": [
    "### First model without preprocessing the data"
   ]
  },
  {
   "cell_type": "code",
   "execution_count": 15,
   "metadata": {
    "scrolled": true
   },
   "outputs": [
    {
     "ename": "ValueError",
     "evalue": "could not convert string to float: 'Low'",
     "output_type": "error",
     "traceback": [
      "\u001b[0;31m---------------------------------------------------------------------------\u001b[0m",
      "\u001b[0;31mValueError\u001b[0m                                Traceback (most recent call last)",
      "\u001b[0;32m<ipython-input-15-cbc92da9141a>\u001b[0m in \u001b[0;36m<module>\u001b[0;34m\u001b[0m\n\u001b[0;32m----> 1\u001b[0;31m \u001b[0mrf\u001b[0m \u001b[0;34m=\u001b[0m \u001b[0mRandomForestRegressor\u001b[0m\u001b[0;34m(\u001b[0m\u001b[0mmax_samples\u001b[0m\u001b[0;34m=\u001b[0m\u001b[0msample_size\u001b[0m\u001b[0;34m)\u001b[0m\u001b[0;34m.\u001b[0m\u001b[0mfit\u001b[0m\u001b[0;34m(\u001b[0m\u001b[0mX\u001b[0m\u001b[0;34m,\u001b[0m \u001b[0my\u001b[0m\u001b[0;34m)\u001b[0m\u001b[0;34m\u001b[0m\u001b[0;34m\u001b[0m\u001b[0m\n\u001b[0m",
      "\u001b[0;32m~/anaconda3/lib/python3.7/site-packages/sklearn/ensemble/_forest.py\u001b[0m in \u001b[0;36mfit\u001b[0;34m(self, X, y, sample_weight)\u001b[0m\n\u001b[1;32m    293\u001b[0m         \"\"\"\n\u001b[1;32m    294\u001b[0m         \u001b[0;31m# Validate or convert input data\u001b[0m\u001b[0;34m\u001b[0m\u001b[0;34m\u001b[0m\u001b[0;34m\u001b[0m\u001b[0m\n\u001b[0;32m--> 295\u001b[0;31m         \u001b[0mX\u001b[0m \u001b[0;34m=\u001b[0m \u001b[0mcheck_array\u001b[0m\u001b[0;34m(\u001b[0m\u001b[0mX\u001b[0m\u001b[0;34m,\u001b[0m \u001b[0maccept_sparse\u001b[0m\u001b[0;34m=\u001b[0m\u001b[0;34m\"csc\"\u001b[0m\u001b[0;34m,\u001b[0m \u001b[0mdtype\u001b[0m\u001b[0;34m=\u001b[0m\u001b[0mDTYPE\u001b[0m\u001b[0;34m)\u001b[0m\u001b[0;34m\u001b[0m\u001b[0;34m\u001b[0m\u001b[0m\n\u001b[0m\u001b[1;32m    296\u001b[0m         \u001b[0my\u001b[0m \u001b[0;34m=\u001b[0m \u001b[0mcheck_array\u001b[0m\u001b[0;34m(\u001b[0m\u001b[0my\u001b[0m\u001b[0;34m,\u001b[0m \u001b[0maccept_sparse\u001b[0m\u001b[0;34m=\u001b[0m\u001b[0;34m'csc'\u001b[0m\u001b[0;34m,\u001b[0m \u001b[0mensure_2d\u001b[0m\u001b[0;34m=\u001b[0m\u001b[0;32mFalse\u001b[0m\u001b[0;34m,\u001b[0m \u001b[0mdtype\u001b[0m\u001b[0;34m=\u001b[0m\u001b[0;32mNone\u001b[0m\u001b[0;34m)\u001b[0m\u001b[0;34m\u001b[0m\u001b[0;34m\u001b[0m\u001b[0m\n\u001b[1;32m    297\u001b[0m         \u001b[0;32mif\u001b[0m \u001b[0msample_weight\u001b[0m \u001b[0;32mis\u001b[0m \u001b[0;32mnot\u001b[0m \u001b[0;32mNone\u001b[0m\u001b[0;34m:\u001b[0m\u001b[0;34m\u001b[0m\u001b[0;34m\u001b[0m\u001b[0m\n",
      "\u001b[0;32m~/anaconda3/lib/python3.7/site-packages/sklearn/utils/validation.py\u001b[0m in \u001b[0;36mcheck_array\u001b[0;34m(array, accept_sparse, accept_large_sparse, dtype, order, copy, force_all_finite, ensure_2d, allow_nd, ensure_min_samples, ensure_min_features, warn_on_dtype, estimator)\u001b[0m\n\u001b[1;32m    529\u001b[0m                     \u001b[0marray\u001b[0m \u001b[0;34m=\u001b[0m \u001b[0marray\u001b[0m\u001b[0;34m.\u001b[0m\u001b[0mastype\u001b[0m\u001b[0;34m(\u001b[0m\u001b[0mdtype\u001b[0m\u001b[0;34m,\u001b[0m \u001b[0mcasting\u001b[0m\u001b[0;34m=\u001b[0m\u001b[0;34m\"unsafe\"\u001b[0m\u001b[0;34m,\u001b[0m \u001b[0mcopy\u001b[0m\u001b[0;34m=\u001b[0m\u001b[0;32mFalse\u001b[0m\u001b[0;34m)\u001b[0m\u001b[0;34m\u001b[0m\u001b[0;34m\u001b[0m\u001b[0m\n\u001b[1;32m    530\u001b[0m                 \u001b[0;32melse\u001b[0m\u001b[0;34m:\u001b[0m\u001b[0;34m\u001b[0m\u001b[0;34m\u001b[0m\u001b[0m\n\u001b[0;32m--> 531\u001b[0;31m                     \u001b[0marray\u001b[0m \u001b[0;34m=\u001b[0m \u001b[0mnp\u001b[0m\u001b[0;34m.\u001b[0m\u001b[0masarray\u001b[0m\u001b[0;34m(\u001b[0m\u001b[0marray\u001b[0m\u001b[0;34m,\u001b[0m \u001b[0morder\u001b[0m\u001b[0;34m=\u001b[0m\u001b[0morder\u001b[0m\u001b[0;34m,\u001b[0m \u001b[0mdtype\u001b[0m\u001b[0;34m=\u001b[0m\u001b[0mdtype\u001b[0m\u001b[0;34m)\u001b[0m\u001b[0;34m\u001b[0m\u001b[0;34m\u001b[0m\u001b[0m\n\u001b[0m\u001b[1;32m    532\u001b[0m             \u001b[0;32mexcept\u001b[0m \u001b[0mComplexWarning\u001b[0m\u001b[0;34m:\u001b[0m\u001b[0;34m\u001b[0m\u001b[0;34m\u001b[0m\u001b[0m\n\u001b[1;32m    533\u001b[0m                 raise ValueError(\"Complex data not supported\\n\"\n",
      "\u001b[0;32m~/anaconda3/lib/python3.7/site-packages/numpy/core/_asarray.py\u001b[0m in \u001b[0;36masarray\u001b[0;34m(a, dtype, order)\u001b[0m\n\u001b[1;32m     83\u001b[0m \u001b[0;34m\u001b[0m\u001b[0m\n\u001b[1;32m     84\u001b[0m     \"\"\"\n\u001b[0;32m---> 85\u001b[0;31m     \u001b[0;32mreturn\u001b[0m \u001b[0marray\u001b[0m\u001b[0;34m(\u001b[0m\u001b[0ma\u001b[0m\u001b[0;34m,\u001b[0m \u001b[0mdtype\u001b[0m\u001b[0;34m,\u001b[0m \u001b[0mcopy\u001b[0m\u001b[0;34m=\u001b[0m\u001b[0;32mFalse\u001b[0m\u001b[0;34m,\u001b[0m \u001b[0morder\u001b[0m\u001b[0;34m=\u001b[0m\u001b[0morder\u001b[0m\u001b[0;34m)\u001b[0m\u001b[0;34m\u001b[0m\u001b[0;34m\u001b[0m\u001b[0m\n\u001b[0m\u001b[1;32m     86\u001b[0m \u001b[0;34m\u001b[0m\u001b[0m\n\u001b[1;32m     87\u001b[0m \u001b[0;34m\u001b[0m\u001b[0m\n",
      "\u001b[0;31mValueError\u001b[0m: could not convert string to float: 'Low'"
     ]
    }
   ],
   "source": [
    "rf = RandomForestRegressor(max_samples=sample_size).fit(X, y)"
   ]
  },
  {
   "cell_type": "markdown",
   "metadata": {
    "heading_collapsed": true
   },
   "source": [
    "# All These are my Practice Codes"
   ]
  },
  {
   "cell_type": "code",
   "execution_count": null,
   "metadata": {
    "hidden": true
   },
   "outputs": [],
   "source": [
    "# # extracting features fromthe date attribute\n",
    "# def add_date(df, name):\n",
    "#     fld = df[name]\n",
    "#     target = re.sub('[Dd]ate$', '', name)\n",
    "#     for n in ['Year', 'Month', 'Day']:\n",
    "#         df[target+n] = getattr(fld.dt, n.lower())\n",
    "#     df.drop(name, axis=1, inplace=True)\n",
    "# add_date(df_raw, 'saledate')"
   ]
  },
  {
   "cell_type": "code",
   "execution_count": null,
   "metadata": {
    "hidden": true
   },
   "outputs": [],
   "source": [
    "# df_raw"
   ]
  },
  {
   "cell_type": "code",
   "execution_count": null,
   "metadata": {
    "hidden": true
   },
   "outputs": [],
   "source": [
    "# df_raw['UsageBand'] = pd.Categorical(df_raw['UsageBand']).codes+1\n",
    "# df_raw['UsageBand']"
   ]
  },
  {
   "cell_type": "code",
   "execution_count": null,
   "metadata": {
    "hidden": true
   },
   "outputs": [],
   "source": [
    "# df_raw.isnull().sum()"
   ]
  },
  {
   "cell_type": "code",
   "execution_count": null,
   "metadata": {
    "hidden": true
   },
   "outputs": [],
   "source": [
    "# # Changing object to categorical data types\n",
    "# for column, content in df_raw.items():\n",
    "#     if not pd.api.types.is_numeric_dtype(content):\n",
    "#         df_raw[column] = content.astype('category').cat.as_ordered()"
   ]
  },
  {
   "cell_type": "code",
   "execution_count": null,
   "metadata": {
    "hidden": true,
    "scrolled": true
   },
   "outputs": [],
   "source": [
    "# # dealing with null values and filling the the values of missing numeric type with their median value       \n",
    "# for column, content in df_raw.items():\n",
    "#     if pd.api.types.is_numeric_dtype(content):\n",
    "#         if pd.isnull(content).sum():                         \n",
    "#             df_raw[column+'_na'] = pd.isnull(content)\n",
    "#             df_raw[column] = content.fillna(content.median())"
   ]
  },
  {
   "cell_type": "code",
   "execution_count": null,
   "metadata": {
    "hidden": true
   },
   "outputs": [],
   "source": [
    "# df_raw"
   ]
  },
  {
   "cell_type": "code",
   "execution_count": null,
   "metadata": {
    "hidden": true
   },
   "outputs": [],
   "source": [
    "# # Dealing with categorical values\n",
    "# for column, content in df_raw.items():\n",
    "#     if not pd.api.types.is_numeric_dtype(content):\n",
    "#         if pd.isnull(content).sum():                                     \n",
    "#             df_raw[column+'_na'] = pd.isnull(content)\n",
    "#             df_raw[column] = pd.Categorical(content).codes+1"
   ]
  },
  {
   "cell_type": "code",
   "execution_count": null,
   "metadata": {
    "hidden": true
   },
   "outputs": [],
   "source": [
    "# df_raw"
   ]
  },
  {
   "cell_type": "code",
   "execution_count": null,
   "metadata": {
    "hidden": true
   },
   "outputs": [],
   "source": [
    "# display(df_raw.iloc[4:, 9::2].tail(20).T)"
   ]
  },
  {
   "cell_type": "code",
   "execution_count": null,
   "metadata": {
    "hidden": true
   },
   "outputs": [],
   "source": [
    "# df_raw.info()"
   ]
  },
  {
   "cell_type": "code",
   "execution_count": null,
   "metadata": {
    "hidden": true
   },
   "outputs": [],
   "source": [
    "# X, y = df_raw.drop('SalePrice', axis=1), df_raw['SalePrice'].copy()"
   ]
  },
  {
   "cell_type": "code",
   "execution_count": null,
   "metadata": {
    "hidden": true
   },
   "outputs": [],
   "source": [
    "# rf = RandomForestRegressor(max_samples=10000, n_jobs=-1).fit(X, y)\n",
    "# rf.score(X, y)"
   ]
  },
  {
   "cell_type": "code",
   "execution_count": null,
   "metadata": {
    "hidden": true
   },
   "outputs": [],
   "source": [
    "#  Splitting the data into train and validation sets"
   ]
  },
  {
   "cell_type": "code",
   "execution_count": null,
   "metadata": {
    "hidden": true
   },
   "outputs": [],
   "source": [
    "# test_size = 12000\n",
    "# train_size = len(X) - test_size\n",
    "\n",
    "# def split_data(df, size):\n",
    "#     #splits data in train and validation sets\n",
    "#     return df[:size].copy(), df[size:].copy()"
   ]
  },
  {
   "cell_type": "code",
   "execution_count": null,
   "metadata": {
    "hidden": true
   },
   "outputs": [],
   "source": [
    "# X_train, X_valid = split_data(X, train_size)\n",
    "# y_train, y_test = split_data(y, train_size)"
   ]
  },
  {
   "cell_type": "code",
   "execution_count": null,
   "metadata": {
    "hidden": true
   },
   "outputs": [],
   "source": [
    "# X_train.shape, X_valid.shape, y_train.shape"
   ]
  },
  {
   "cell_type": "code",
   "execution_count": null,
   "metadata": {
    "hidden": true
   },
   "outputs": [],
   "source": [
    "# rf= RandomForestRegressor(max_samples=20000, n_jobs=-1).fit(X_train, y_train)\n",
    "# rf.score(X_train, y_train)"
   ]
  },
  {
   "cell_type": "code",
   "execution_count": null,
   "metadata": {
    "hidden": true
   },
   "outputs": [],
   "source": [
    "# X_trn, X_tst, y_trn, y_tst = train_test_split(X, y, test_size=0.30)"
   ]
  },
  {
   "cell_type": "code",
   "execution_count": null,
   "metadata": {
    "hidden": true
   },
   "outputs": [],
   "source": [
    "# rf= RandomForestRegressor(max_samples=10000, n_jobs=-1).fit(X_trn, y_trn)\n",
    "# rf.score(X_trn, y_trn)"
   ]
  },
  {
   "cell_type": "markdown",
   "metadata": {
    "heading_collapsed": true
   },
   "source": [
    "# End's Here"
   ]
  },
  {
   "cell_type": "code",
   "execution_count": 16,
   "metadata": {
    "hidden": true
   },
   "outputs": [
    {
     "data": {
      "text/plain": [
       "0        2006-11-16\n",
       "1        2004-03-26\n",
       "2        2004-02-26\n",
       "3        2011-05-19\n",
       "4        2009-07-23\n",
       "            ...    \n",
       "401120   2011-11-02\n",
       "401121   2011-11-02\n",
       "401122   2011-11-02\n",
       "401123   2011-10-25\n",
       "401124   2011-10-25\n",
       "Name: saledate, Length: 401125, dtype: datetime64[ns]"
      ]
     },
     "execution_count": 16,
     "metadata": {},
     "output_type": "execute_result"
    }
   ],
   "source": [
    "df_raw['saledate']"
   ]
  },
  {
   "cell_type": "code",
   "execution_count": 17,
   "metadata": {
    "hidden": true
   },
   "outputs": [],
   "source": [
    "# turning the saledate in to unique datetime points\n",
    "add_datepart(df_raw, 'saledate')"
   ]
  },
  {
   "cell_type": "code",
   "execution_count": 18,
   "metadata": {
    "hidden": true,
    "scrolled": true
   },
   "outputs": [
    {
     "data": {
      "text/html": [
       "<div>\n",
       "<style scoped>\n",
       "    .dataframe tbody tr th:only-of-type {\n",
       "        vertical-align: middle;\n",
       "    }\n",
       "\n",
       "    .dataframe tbody tr th {\n",
       "        vertical-align: top;\n",
       "    }\n",
       "\n",
       "    .dataframe thead th {\n",
       "        text-align: right;\n",
       "    }\n",
       "</style>\n",
       "<table border=\"1\" class=\"dataframe\">\n",
       "  <thead>\n",
       "    <tr style=\"text-align: right;\">\n",
       "      <th></th>\n",
       "      <th>SalesID</th>\n",
       "      <th>SalePrice</th>\n",
       "      <th>MachineID</th>\n",
       "      <th>ModelID</th>\n",
       "      <th>datasource</th>\n",
       "      <th>auctioneerID</th>\n",
       "      <th>YearMade</th>\n",
       "      <th>MachineHoursCurrentMeter</th>\n",
       "      <th>UsageBand</th>\n",
       "      <th>fiModelDesc</th>\n",
       "      <th>...</th>\n",
       "      <th>saleDay</th>\n",
       "      <th>saleDayofweek</th>\n",
       "      <th>saleDayofyear</th>\n",
       "      <th>saleIs_month_end</th>\n",
       "      <th>saleIs_month_start</th>\n",
       "      <th>saleIs_quarter_end</th>\n",
       "      <th>saleIs_quarter_start</th>\n",
       "      <th>saleIs_year_end</th>\n",
       "      <th>saleIs_year_start</th>\n",
       "      <th>saleElapsed</th>\n",
       "    </tr>\n",
       "  </thead>\n",
       "  <tbody>\n",
       "    <tr>\n",
       "      <th>0</th>\n",
       "      <td>1139246</td>\n",
       "      <td>11.097410</td>\n",
       "      <td>999089</td>\n",
       "      <td>3157</td>\n",
       "      <td>121</td>\n",
       "      <td>3.0</td>\n",
       "      <td>2004</td>\n",
       "      <td>68.0</td>\n",
       "      <td>Low</td>\n",
       "      <td>521D</td>\n",
       "      <td>...</td>\n",
       "      <td>16</td>\n",
       "      <td>3</td>\n",
       "      <td>320</td>\n",
       "      <td>False</td>\n",
       "      <td>False</td>\n",
       "      <td>False</td>\n",
       "      <td>False</td>\n",
       "      <td>False</td>\n",
       "      <td>False</td>\n",
       "      <td>1163635200</td>\n",
       "    </tr>\n",
       "    <tr>\n",
       "      <th>1</th>\n",
       "      <td>1139248</td>\n",
       "      <td>10.950807</td>\n",
       "      <td>117657</td>\n",
       "      <td>77</td>\n",
       "      <td>121</td>\n",
       "      <td>3.0</td>\n",
       "      <td>1996</td>\n",
       "      <td>4640.0</td>\n",
       "      <td>Low</td>\n",
       "      <td>950FII</td>\n",
       "      <td>...</td>\n",
       "      <td>26</td>\n",
       "      <td>4</td>\n",
       "      <td>86</td>\n",
       "      <td>False</td>\n",
       "      <td>False</td>\n",
       "      <td>False</td>\n",
       "      <td>False</td>\n",
       "      <td>False</td>\n",
       "      <td>False</td>\n",
       "      <td>1080259200</td>\n",
       "    </tr>\n",
       "    <tr>\n",
       "      <th>2</th>\n",
       "      <td>1139249</td>\n",
       "      <td>9.210340</td>\n",
       "      <td>434808</td>\n",
       "      <td>7009</td>\n",
       "      <td>121</td>\n",
       "      <td>3.0</td>\n",
       "      <td>2001</td>\n",
       "      <td>2838.0</td>\n",
       "      <td>High</td>\n",
       "      <td>226</td>\n",
       "      <td>...</td>\n",
       "      <td>26</td>\n",
       "      <td>3</td>\n",
       "      <td>57</td>\n",
       "      <td>False</td>\n",
       "      <td>False</td>\n",
       "      <td>False</td>\n",
       "      <td>False</td>\n",
       "      <td>False</td>\n",
       "      <td>False</td>\n",
       "      <td>1077753600</td>\n",
       "    </tr>\n",
       "    <tr>\n",
       "      <th>3</th>\n",
       "      <td>1139251</td>\n",
       "      <td>10.558414</td>\n",
       "      <td>1026470</td>\n",
       "      <td>332</td>\n",
       "      <td>121</td>\n",
       "      <td>3.0</td>\n",
       "      <td>2001</td>\n",
       "      <td>3486.0</td>\n",
       "      <td>High</td>\n",
       "      <td>PC120-6E</td>\n",
       "      <td>...</td>\n",
       "      <td>19</td>\n",
       "      <td>3</td>\n",
       "      <td>139</td>\n",
       "      <td>False</td>\n",
       "      <td>False</td>\n",
       "      <td>False</td>\n",
       "      <td>False</td>\n",
       "      <td>False</td>\n",
       "      <td>False</td>\n",
       "      <td>1305763200</td>\n",
       "    </tr>\n",
       "    <tr>\n",
       "      <th>4</th>\n",
       "      <td>1139253</td>\n",
       "      <td>9.305651</td>\n",
       "      <td>1057373</td>\n",
       "      <td>17311</td>\n",
       "      <td>121</td>\n",
       "      <td>3.0</td>\n",
       "      <td>2007</td>\n",
       "      <td>722.0</td>\n",
       "      <td>Medium</td>\n",
       "      <td>S175</td>\n",
       "      <td>...</td>\n",
       "      <td>23</td>\n",
       "      <td>3</td>\n",
       "      <td>204</td>\n",
       "      <td>False</td>\n",
       "      <td>False</td>\n",
       "      <td>False</td>\n",
       "      <td>False</td>\n",
       "      <td>False</td>\n",
       "      <td>False</td>\n",
       "      <td>1248307200</td>\n",
       "    </tr>\n",
       "    <tr>\n",
       "      <th>...</th>\n",
       "      <td>...</td>\n",
       "      <td>...</td>\n",
       "      <td>...</td>\n",
       "      <td>...</td>\n",
       "      <td>...</td>\n",
       "      <td>...</td>\n",
       "      <td>...</td>\n",
       "      <td>...</td>\n",
       "      <td>...</td>\n",
       "      <td>...</td>\n",
       "      <td>...</td>\n",
       "      <td>...</td>\n",
       "      <td>...</td>\n",
       "      <td>...</td>\n",
       "      <td>...</td>\n",
       "      <td>...</td>\n",
       "      <td>...</td>\n",
       "      <td>...</td>\n",
       "      <td>...</td>\n",
       "      <td>...</td>\n",
       "      <td>...</td>\n",
       "    </tr>\n",
       "    <tr>\n",
       "      <th>401120</th>\n",
       "      <td>6333336</td>\n",
       "      <td>9.259131</td>\n",
       "      <td>1840702</td>\n",
       "      <td>21439</td>\n",
       "      <td>149</td>\n",
       "      <td>1.0</td>\n",
       "      <td>2005</td>\n",
       "      <td>NaN</td>\n",
       "      <td>NaN</td>\n",
       "      <td>35NX2</td>\n",
       "      <td>...</td>\n",
       "      <td>2</td>\n",
       "      <td>2</td>\n",
       "      <td>306</td>\n",
       "      <td>False</td>\n",
       "      <td>False</td>\n",
       "      <td>False</td>\n",
       "      <td>False</td>\n",
       "      <td>False</td>\n",
       "      <td>False</td>\n",
       "      <td>1320192000</td>\n",
       "    </tr>\n",
       "    <tr>\n",
       "      <th>401121</th>\n",
       "      <td>6333337</td>\n",
       "      <td>9.305651</td>\n",
       "      <td>1830472</td>\n",
       "      <td>21439</td>\n",
       "      <td>149</td>\n",
       "      <td>1.0</td>\n",
       "      <td>2005</td>\n",
       "      <td>NaN</td>\n",
       "      <td>NaN</td>\n",
       "      <td>35NX2</td>\n",
       "      <td>...</td>\n",
       "      <td>2</td>\n",
       "      <td>2</td>\n",
       "      <td>306</td>\n",
       "      <td>False</td>\n",
       "      <td>False</td>\n",
       "      <td>False</td>\n",
       "      <td>False</td>\n",
       "      <td>False</td>\n",
       "      <td>False</td>\n",
       "      <td>1320192000</td>\n",
       "    </tr>\n",
       "    <tr>\n",
       "      <th>401122</th>\n",
       "      <td>6333338</td>\n",
       "      <td>9.350102</td>\n",
       "      <td>1887659</td>\n",
       "      <td>21439</td>\n",
       "      <td>149</td>\n",
       "      <td>1.0</td>\n",
       "      <td>2005</td>\n",
       "      <td>NaN</td>\n",
       "      <td>NaN</td>\n",
       "      <td>35NX2</td>\n",
       "      <td>...</td>\n",
       "      <td>2</td>\n",
       "      <td>2</td>\n",
       "      <td>306</td>\n",
       "      <td>False</td>\n",
       "      <td>False</td>\n",
       "      <td>False</td>\n",
       "      <td>False</td>\n",
       "      <td>False</td>\n",
       "      <td>False</td>\n",
       "      <td>1320192000</td>\n",
       "    </tr>\n",
       "    <tr>\n",
       "      <th>401123</th>\n",
       "      <td>6333341</td>\n",
       "      <td>9.104980</td>\n",
       "      <td>1903570</td>\n",
       "      <td>21435</td>\n",
       "      <td>149</td>\n",
       "      <td>2.0</td>\n",
       "      <td>2005</td>\n",
       "      <td>NaN</td>\n",
       "      <td>NaN</td>\n",
       "      <td>30NX</td>\n",
       "      <td>...</td>\n",
       "      <td>25</td>\n",
       "      <td>1</td>\n",
       "      <td>298</td>\n",
       "      <td>False</td>\n",
       "      <td>False</td>\n",
       "      <td>False</td>\n",
       "      <td>False</td>\n",
       "      <td>False</td>\n",
       "      <td>False</td>\n",
       "      <td>1319500800</td>\n",
       "    </tr>\n",
       "    <tr>\n",
       "      <th>401124</th>\n",
       "      <td>6333342</td>\n",
       "      <td>8.955448</td>\n",
       "      <td>1926965</td>\n",
       "      <td>21435</td>\n",
       "      <td>149</td>\n",
       "      <td>2.0</td>\n",
       "      <td>2005</td>\n",
       "      <td>NaN</td>\n",
       "      <td>NaN</td>\n",
       "      <td>30NX</td>\n",
       "      <td>...</td>\n",
       "      <td>25</td>\n",
       "      <td>1</td>\n",
       "      <td>298</td>\n",
       "      <td>False</td>\n",
       "      <td>False</td>\n",
       "      <td>False</td>\n",
       "      <td>False</td>\n",
       "      <td>False</td>\n",
       "      <td>False</td>\n",
       "      <td>1319500800</td>\n",
       "    </tr>\n",
       "  </tbody>\n",
       "</table>\n",
       "<p>401125 rows × 65 columns</p>\n",
       "</div>"
      ],
      "text/plain": [
       "        SalesID  SalePrice  MachineID  ModelID  datasource  auctioneerID  \\\n",
       "0       1139246  11.097410     999089     3157         121           3.0   \n",
       "1       1139248  10.950807     117657       77         121           3.0   \n",
       "2       1139249   9.210340     434808     7009         121           3.0   \n",
       "3       1139251  10.558414    1026470      332         121           3.0   \n",
       "4       1139253   9.305651    1057373    17311         121           3.0   \n",
       "...         ...        ...        ...      ...         ...           ...   \n",
       "401120  6333336   9.259131    1840702    21439         149           1.0   \n",
       "401121  6333337   9.305651    1830472    21439         149           1.0   \n",
       "401122  6333338   9.350102    1887659    21439         149           1.0   \n",
       "401123  6333341   9.104980    1903570    21435         149           2.0   \n",
       "401124  6333342   8.955448    1926965    21435         149           2.0   \n",
       "\n",
       "        YearMade  MachineHoursCurrentMeter UsageBand fiModelDesc  ... saleDay  \\\n",
       "0           2004                      68.0       Low        521D  ...      16   \n",
       "1           1996                    4640.0       Low      950FII  ...      26   \n",
       "2           2001                    2838.0      High         226  ...      26   \n",
       "3           2001                    3486.0      High    PC120-6E  ...      19   \n",
       "4           2007                     722.0    Medium        S175  ...      23   \n",
       "...          ...                       ...       ...         ...  ...     ...   \n",
       "401120      2005                       NaN       NaN       35NX2  ...       2   \n",
       "401121      2005                       NaN       NaN       35NX2  ...       2   \n",
       "401122      2005                       NaN       NaN       35NX2  ...       2   \n",
       "401123      2005                       NaN       NaN        30NX  ...      25   \n",
       "401124      2005                       NaN       NaN        30NX  ...      25   \n",
       "\n",
       "       saleDayofweek saleDayofyear saleIs_month_end saleIs_month_start  \\\n",
       "0                  3           320            False              False   \n",
       "1                  4            86            False              False   \n",
       "2                  3            57            False              False   \n",
       "3                  3           139            False              False   \n",
       "4                  3           204            False              False   \n",
       "...              ...           ...              ...                ...   \n",
       "401120             2           306            False              False   \n",
       "401121             2           306            False              False   \n",
       "401122             2           306            False              False   \n",
       "401123             1           298            False              False   \n",
       "401124             1           298            False              False   \n",
       "\n",
       "       saleIs_quarter_end saleIs_quarter_start saleIs_year_end  \\\n",
       "0                   False                False           False   \n",
       "1                   False                False           False   \n",
       "2                   False                False           False   \n",
       "3                   False                False           False   \n",
       "4                   False                False           False   \n",
       "...                   ...                  ...             ...   \n",
       "401120              False                False           False   \n",
       "401121              False                False           False   \n",
       "401122              False                False           False   \n",
       "401123              False                False           False   \n",
       "401124              False                False           False   \n",
       "\n",
       "       saleIs_year_start saleElapsed  \n",
       "0                  False  1163635200  \n",
       "1                  False  1080259200  \n",
       "2                  False  1077753600  \n",
       "3                  False  1305763200  \n",
       "4                  False  1248307200  \n",
       "...                  ...         ...  \n",
       "401120             False  1320192000  \n",
       "401121             False  1320192000  \n",
       "401122             False  1320192000  \n",
       "401123             False  1319500800  \n",
       "401124             False  1319500800  \n",
       "\n",
       "[401125 rows x 65 columns]"
      ]
     },
     "execution_count": 18,
     "metadata": {},
     "output_type": "execute_result"
    }
   ],
   "source": [
    "df_raw"
   ]
  },
  {
   "cell_type": "code",
   "execution_count": 19,
   "metadata": {
    "hidden": true,
    "scrolled": false
   },
   "outputs": [
    {
     "data": {
      "text/html": [
       "<div>\n",
       "<style scoped>\n",
       "    .dataframe tbody tr th:only-of-type {\n",
       "        vertical-align: middle;\n",
       "    }\n",
       "\n",
       "    .dataframe tbody tr th {\n",
       "        vertical-align: top;\n",
       "    }\n",
       "\n",
       "    .dataframe thead th {\n",
       "        text-align: right;\n",
       "    }\n",
       "</style>\n",
       "<table border=\"1\" class=\"dataframe\">\n",
       "  <thead>\n",
       "    <tr style=\"text-align: right;\">\n",
       "      <th></th>\n",
       "      <th>SalesID</th>\n",
       "      <th>SalePrice</th>\n",
       "      <th>MachineID</th>\n",
       "      <th>ModelID</th>\n",
       "      <th>datasource</th>\n",
       "      <th>auctioneerID</th>\n",
       "      <th>YearMade</th>\n",
       "      <th>MachineHoursCurrentMeter</th>\n",
       "      <th>UsageBand</th>\n",
       "      <th>fiModelDesc</th>\n",
       "      <th>...</th>\n",
       "      <th>saleDay</th>\n",
       "      <th>saleDayofweek</th>\n",
       "      <th>saleDayofyear</th>\n",
       "      <th>saleIs_month_end</th>\n",
       "      <th>saleIs_month_start</th>\n",
       "      <th>saleIs_quarter_end</th>\n",
       "      <th>saleIs_quarter_start</th>\n",
       "      <th>saleIs_year_end</th>\n",
       "      <th>saleIs_year_start</th>\n",
       "      <th>saleElapsed</th>\n",
       "    </tr>\n",
       "  </thead>\n",
       "  <tbody>\n",
       "    <tr>\n",
       "      <th>0</th>\n",
       "      <td>1139246</td>\n",
       "      <td>11.097410</td>\n",
       "      <td>999089</td>\n",
       "      <td>3157</td>\n",
       "      <td>121</td>\n",
       "      <td>3.0</td>\n",
       "      <td>2004</td>\n",
       "      <td>68.0</td>\n",
       "      <td>Low</td>\n",
       "      <td>521D</td>\n",
       "      <td>...</td>\n",
       "      <td>16</td>\n",
       "      <td>3</td>\n",
       "      <td>320</td>\n",
       "      <td>False</td>\n",
       "      <td>False</td>\n",
       "      <td>False</td>\n",
       "      <td>False</td>\n",
       "      <td>False</td>\n",
       "      <td>False</td>\n",
       "      <td>1163635200</td>\n",
       "    </tr>\n",
       "    <tr>\n",
       "      <th>1</th>\n",
       "      <td>1139248</td>\n",
       "      <td>10.950807</td>\n",
       "      <td>117657</td>\n",
       "      <td>77</td>\n",
       "      <td>121</td>\n",
       "      <td>3.0</td>\n",
       "      <td>1996</td>\n",
       "      <td>4640.0</td>\n",
       "      <td>Low</td>\n",
       "      <td>950FII</td>\n",
       "      <td>...</td>\n",
       "      <td>26</td>\n",
       "      <td>4</td>\n",
       "      <td>86</td>\n",
       "      <td>False</td>\n",
       "      <td>False</td>\n",
       "      <td>False</td>\n",
       "      <td>False</td>\n",
       "      <td>False</td>\n",
       "      <td>False</td>\n",
       "      <td>1080259200</td>\n",
       "    </tr>\n",
       "    <tr>\n",
       "      <th>2</th>\n",
       "      <td>1139249</td>\n",
       "      <td>9.210340</td>\n",
       "      <td>434808</td>\n",
       "      <td>7009</td>\n",
       "      <td>121</td>\n",
       "      <td>3.0</td>\n",
       "      <td>2001</td>\n",
       "      <td>2838.0</td>\n",
       "      <td>High</td>\n",
       "      <td>226</td>\n",
       "      <td>...</td>\n",
       "      <td>26</td>\n",
       "      <td>3</td>\n",
       "      <td>57</td>\n",
       "      <td>False</td>\n",
       "      <td>False</td>\n",
       "      <td>False</td>\n",
       "      <td>False</td>\n",
       "      <td>False</td>\n",
       "      <td>False</td>\n",
       "      <td>1077753600</td>\n",
       "    </tr>\n",
       "    <tr>\n",
       "      <th>3</th>\n",
       "      <td>1139251</td>\n",
       "      <td>10.558414</td>\n",
       "      <td>1026470</td>\n",
       "      <td>332</td>\n",
       "      <td>121</td>\n",
       "      <td>3.0</td>\n",
       "      <td>2001</td>\n",
       "      <td>3486.0</td>\n",
       "      <td>High</td>\n",
       "      <td>PC120-6E</td>\n",
       "      <td>...</td>\n",
       "      <td>19</td>\n",
       "      <td>3</td>\n",
       "      <td>139</td>\n",
       "      <td>False</td>\n",
       "      <td>False</td>\n",
       "      <td>False</td>\n",
       "      <td>False</td>\n",
       "      <td>False</td>\n",
       "      <td>False</td>\n",
       "      <td>1305763200</td>\n",
       "    </tr>\n",
       "    <tr>\n",
       "      <th>4</th>\n",
       "      <td>1139253</td>\n",
       "      <td>9.305651</td>\n",
       "      <td>1057373</td>\n",
       "      <td>17311</td>\n",
       "      <td>121</td>\n",
       "      <td>3.0</td>\n",
       "      <td>2007</td>\n",
       "      <td>722.0</td>\n",
       "      <td>Medium</td>\n",
       "      <td>S175</td>\n",
       "      <td>...</td>\n",
       "      <td>23</td>\n",
       "      <td>3</td>\n",
       "      <td>204</td>\n",
       "      <td>False</td>\n",
       "      <td>False</td>\n",
       "      <td>False</td>\n",
       "      <td>False</td>\n",
       "      <td>False</td>\n",
       "      <td>False</td>\n",
       "      <td>1248307200</td>\n",
       "    </tr>\n",
       "    <tr>\n",
       "      <th>...</th>\n",
       "      <td>...</td>\n",
       "      <td>...</td>\n",
       "      <td>...</td>\n",
       "      <td>...</td>\n",
       "      <td>...</td>\n",
       "      <td>...</td>\n",
       "      <td>...</td>\n",
       "      <td>...</td>\n",
       "      <td>...</td>\n",
       "      <td>...</td>\n",
       "      <td>...</td>\n",
       "      <td>...</td>\n",
       "      <td>...</td>\n",
       "      <td>...</td>\n",
       "      <td>...</td>\n",
       "      <td>...</td>\n",
       "      <td>...</td>\n",
       "      <td>...</td>\n",
       "      <td>...</td>\n",
       "      <td>...</td>\n",
       "      <td>...</td>\n",
       "    </tr>\n",
       "    <tr>\n",
       "      <th>401120</th>\n",
       "      <td>6333336</td>\n",
       "      <td>9.259131</td>\n",
       "      <td>1840702</td>\n",
       "      <td>21439</td>\n",
       "      <td>149</td>\n",
       "      <td>1.0</td>\n",
       "      <td>2005</td>\n",
       "      <td>NaN</td>\n",
       "      <td>NaN</td>\n",
       "      <td>35NX2</td>\n",
       "      <td>...</td>\n",
       "      <td>2</td>\n",
       "      <td>2</td>\n",
       "      <td>306</td>\n",
       "      <td>False</td>\n",
       "      <td>False</td>\n",
       "      <td>False</td>\n",
       "      <td>False</td>\n",
       "      <td>False</td>\n",
       "      <td>False</td>\n",
       "      <td>1320192000</td>\n",
       "    </tr>\n",
       "    <tr>\n",
       "      <th>401121</th>\n",
       "      <td>6333337</td>\n",
       "      <td>9.305651</td>\n",
       "      <td>1830472</td>\n",
       "      <td>21439</td>\n",
       "      <td>149</td>\n",
       "      <td>1.0</td>\n",
       "      <td>2005</td>\n",
       "      <td>NaN</td>\n",
       "      <td>NaN</td>\n",
       "      <td>35NX2</td>\n",
       "      <td>...</td>\n",
       "      <td>2</td>\n",
       "      <td>2</td>\n",
       "      <td>306</td>\n",
       "      <td>False</td>\n",
       "      <td>False</td>\n",
       "      <td>False</td>\n",
       "      <td>False</td>\n",
       "      <td>False</td>\n",
       "      <td>False</td>\n",
       "      <td>1320192000</td>\n",
       "    </tr>\n",
       "    <tr>\n",
       "      <th>401122</th>\n",
       "      <td>6333338</td>\n",
       "      <td>9.350102</td>\n",
       "      <td>1887659</td>\n",
       "      <td>21439</td>\n",
       "      <td>149</td>\n",
       "      <td>1.0</td>\n",
       "      <td>2005</td>\n",
       "      <td>NaN</td>\n",
       "      <td>NaN</td>\n",
       "      <td>35NX2</td>\n",
       "      <td>...</td>\n",
       "      <td>2</td>\n",
       "      <td>2</td>\n",
       "      <td>306</td>\n",
       "      <td>False</td>\n",
       "      <td>False</td>\n",
       "      <td>False</td>\n",
       "      <td>False</td>\n",
       "      <td>False</td>\n",
       "      <td>False</td>\n",
       "      <td>1320192000</td>\n",
       "    </tr>\n",
       "    <tr>\n",
       "      <th>401123</th>\n",
       "      <td>6333341</td>\n",
       "      <td>9.104980</td>\n",
       "      <td>1903570</td>\n",
       "      <td>21435</td>\n",
       "      <td>149</td>\n",
       "      <td>2.0</td>\n",
       "      <td>2005</td>\n",
       "      <td>NaN</td>\n",
       "      <td>NaN</td>\n",
       "      <td>30NX</td>\n",
       "      <td>...</td>\n",
       "      <td>25</td>\n",
       "      <td>1</td>\n",
       "      <td>298</td>\n",
       "      <td>False</td>\n",
       "      <td>False</td>\n",
       "      <td>False</td>\n",
       "      <td>False</td>\n",
       "      <td>False</td>\n",
       "      <td>False</td>\n",
       "      <td>1319500800</td>\n",
       "    </tr>\n",
       "    <tr>\n",
       "      <th>401124</th>\n",
       "      <td>6333342</td>\n",
       "      <td>8.955448</td>\n",
       "      <td>1926965</td>\n",
       "      <td>21435</td>\n",
       "      <td>149</td>\n",
       "      <td>2.0</td>\n",
       "      <td>2005</td>\n",
       "      <td>NaN</td>\n",
       "      <td>NaN</td>\n",
       "      <td>30NX</td>\n",
       "      <td>...</td>\n",
       "      <td>25</td>\n",
       "      <td>1</td>\n",
       "      <td>298</td>\n",
       "      <td>False</td>\n",
       "      <td>False</td>\n",
       "      <td>False</td>\n",
       "      <td>False</td>\n",
       "      <td>False</td>\n",
       "      <td>False</td>\n",
       "      <td>1319500800</td>\n",
       "    </tr>\n",
       "  </tbody>\n",
       "</table>\n",
       "<p>401125 rows × 65 columns</p>\n",
       "</div>"
      ],
      "text/plain": [
       "        SalesID  SalePrice  MachineID  ModelID  datasource  auctioneerID  \\\n",
       "0       1139246  11.097410     999089     3157         121           3.0   \n",
       "1       1139248  10.950807     117657       77         121           3.0   \n",
       "2       1139249   9.210340     434808     7009         121           3.0   \n",
       "3       1139251  10.558414    1026470      332         121           3.0   \n",
       "4       1139253   9.305651    1057373    17311         121           3.0   \n",
       "...         ...        ...        ...      ...         ...           ...   \n",
       "401120  6333336   9.259131    1840702    21439         149           1.0   \n",
       "401121  6333337   9.305651    1830472    21439         149           1.0   \n",
       "401122  6333338   9.350102    1887659    21439         149           1.0   \n",
       "401123  6333341   9.104980    1903570    21435         149           2.0   \n",
       "401124  6333342   8.955448    1926965    21435         149           2.0   \n",
       "\n",
       "        YearMade  MachineHoursCurrentMeter UsageBand fiModelDesc  ... saleDay  \\\n",
       "0           2004                      68.0       Low        521D  ...      16   \n",
       "1           1996                    4640.0       Low      950FII  ...      26   \n",
       "2           2001                    2838.0      High         226  ...      26   \n",
       "3           2001                    3486.0      High    PC120-6E  ...      19   \n",
       "4           2007                     722.0    Medium        S175  ...      23   \n",
       "...          ...                       ...       ...         ...  ...     ...   \n",
       "401120      2005                       NaN       NaN       35NX2  ...       2   \n",
       "401121      2005                       NaN       NaN       35NX2  ...       2   \n",
       "401122      2005                       NaN       NaN       35NX2  ...       2   \n",
       "401123      2005                       NaN       NaN        30NX  ...      25   \n",
       "401124      2005                       NaN       NaN        30NX  ...      25   \n",
       "\n",
       "       saleDayofweek saleDayofyear saleIs_month_end saleIs_month_start  \\\n",
       "0                  3           320            False              False   \n",
       "1                  4            86            False              False   \n",
       "2                  3            57            False              False   \n",
       "3                  3           139            False              False   \n",
       "4                  3           204            False              False   \n",
       "...              ...           ...              ...                ...   \n",
       "401120             2           306            False              False   \n",
       "401121             2           306            False              False   \n",
       "401122             2           306            False              False   \n",
       "401123             1           298            False              False   \n",
       "401124             1           298            False              False   \n",
       "\n",
       "       saleIs_quarter_end saleIs_quarter_start saleIs_year_end  \\\n",
       "0                   False                False           False   \n",
       "1                   False                False           False   \n",
       "2                   False                False           False   \n",
       "3                   False                False           False   \n",
       "4                   False                False           False   \n",
       "...                   ...                  ...             ...   \n",
       "401120              False                False           False   \n",
       "401121              False                False           False   \n",
       "401122              False                False           False   \n",
       "401123              False                False           False   \n",
       "401124              False                False           False   \n",
       "\n",
       "       saleIs_year_start saleElapsed  \n",
       "0                  False  1163635200  \n",
       "1                  False  1080259200  \n",
       "2                  False  1077753600  \n",
       "3                  False  1305763200  \n",
       "4                  False  1248307200  \n",
       "...                  ...         ...  \n",
       "401120             False  1320192000  \n",
       "401121             False  1320192000  \n",
       "401122             False  1320192000  \n",
       "401123             False  1319500800  \n",
       "401124             False  1319500800  \n",
       "\n",
       "[401125 rows x 65 columns]"
      ]
     },
     "execution_count": 19,
     "metadata": {},
     "output_type": "execute_result"
    }
   ],
   "source": [
    "# dealing with categorical variable\n",
    "train_cats(df_raw)\n",
    "df_raw"
   ]
  },
  {
   "cell_type": "code",
   "execution_count": 20,
   "metadata": {
    "hidden": true
   },
   "outputs": [],
   "source": [
    "df_raw['UsageBand'].cat.set_categories(['High', \"Medium\", 'Low'], inplace=True)"
   ]
  },
  {
   "cell_type": "code",
   "execution_count": 21,
   "metadata": {
    "hidden": true,
    "scrolled": true
   },
   "outputs": [
    {
     "data": {
      "text/plain": [
       "0         2\n",
       "1         2\n",
       "2         0\n",
       "3         0\n",
       "4         1\n",
       "         ..\n",
       "401120   -1\n",
       "401121   -1\n",
       "401122   -1\n",
       "401123   -1\n",
       "401124   -1\n",
       "Length: 401125, dtype: int8"
      ]
     },
     "execution_count": 21,
     "metadata": {},
     "output_type": "execute_result"
    }
   ],
   "source": [
    "df_raw['UsageBand'].cat.codes"
   ]
  },
  {
   "cell_type": "code",
   "execution_count": 22,
   "metadata": {
    "hidden": true
   },
   "outputs": [
    {
     "name": "stdout",
     "output_type": "stream",
     "text": [
      "After preprocessing out data set, it now contains 401125 samples and 65 features\n"
     ]
    }
   ],
   "source": [
    "print(f'After preprocessing out data set, it now contains {df_raw.shape[0]} samples and {df_raw.shape[1]} features')"
   ]
  },
  {
   "cell_type": "code",
   "execution_count": 23,
   "metadata": {
    "hidden": true
   },
   "outputs": [],
   "source": [
    "# saving the file to feather-format\n",
    "os.makedirs('tmp', exist_ok=True)\n",
    "df_raw.to_feather('tmp/df_raw1')"
   ]
  },
  {
   "cell_type": "code",
   "execution_count": 24,
   "metadata": {
    "hidden": true
   },
   "outputs": [],
   "source": [
    "df_raw = pd.read_feather('tmp/df_raw1')"
   ]
  },
  {
   "cell_type": "code",
   "execution_count": 25,
   "metadata": {
    "hidden": true
   },
   "outputs": [
    {
     "data": {
      "text/html": [
       "<div>\n",
       "<style scoped>\n",
       "    .dataframe tbody tr th:only-of-type {\n",
       "        vertical-align: middle;\n",
       "    }\n",
       "\n",
       "    .dataframe tbody tr th {\n",
       "        vertical-align: top;\n",
       "    }\n",
       "\n",
       "    .dataframe thead th {\n",
       "        text-align: right;\n",
       "    }\n",
       "</style>\n",
       "<table border=\"1\" class=\"dataframe\">\n",
       "  <thead>\n",
       "    <tr style=\"text-align: right;\">\n",
       "      <th></th>\n",
       "      <th>SalesID</th>\n",
       "      <th>SalePrice</th>\n",
       "      <th>MachineID</th>\n",
       "      <th>ModelID</th>\n",
       "      <th>datasource</th>\n",
       "      <th>auctioneerID</th>\n",
       "      <th>YearMade</th>\n",
       "      <th>MachineHoursCurrentMeter</th>\n",
       "      <th>UsageBand</th>\n",
       "      <th>fiModelDesc</th>\n",
       "      <th>...</th>\n",
       "      <th>saleDay</th>\n",
       "      <th>saleDayofweek</th>\n",
       "      <th>saleDayofyear</th>\n",
       "      <th>saleIs_month_end</th>\n",
       "      <th>saleIs_month_start</th>\n",
       "      <th>saleIs_quarter_end</th>\n",
       "      <th>saleIs_quarter_start</th>\n",
       "      <th>saleIs_year_end</th>\n",
       "      <th>saleIs_year_start</th>\n",
       "      <th>saleElapsed</th>\n",
       "    </tr>\n",
       "  </thead>\n",
       "  <tbody>\n",
       "    <tr>\n",
       "      <th>0</th>\n",
       "      <td>1139246</td>\n",
       "      <td>11.097410</td>\n",
       "      <td>999089</td>\n",
       "      <td>3157</td>\n",
       "      <td>121</td>\n",
       "      <td>3.0</td>\n",
       "      <td>2004</td>\n",
       "      <td>68.0</td>\n",
       "      <td>Low</td>\n",
       "      <td>521D</td>\n",
       "      <td>...</td>\n",
       "      <td>16</td>\n",
       "      <td>3</td>\n",
       "      <td>320</td>\n",
       "      <td>False</td>\n",
       "      <td>False</td>\n",
       "      <td>False</td>\n",
       "      <td>False</td>\n",
       "      <td>False</td>\n",
       "      <td>False</td>\n",
       "      <td>1163635200</td>\n",
       "    </tr>\n",
       "    <tr>\n",
       "      <th>1</th>\n",
       "      <td>1139248</td>\n",
       "      <td>10.950807</td>\n",
       "      <td>117657</td>\n",
       "      <td>77</td>\n",
       "      <td>121</td>\n",
       "      <td>3.0</td>\n",
       "      <td>1996</td>\n",
       "      <td>4640.0</td>\n",
       "      <td>Low</td>\n",
       "      <td>950FII</td>\n",
       "      <td>...</td>\n",
       "      <td>26</td>\n",
       "      <td>4</td>\n",
       "      <td>86</td>\n",
       "      <td>False</td>\n",
       "      <td>False</td>\n",
       "      <td>False</td>\n",
       "      <td>False</td>\n",
       "      <td>False</td>\n",
       "      <td>False</td>\n",
       "      <td>1080259200</td>\n",
       "    </tr>\n",
       "    <tr>\n",
       "      <th>2</th>\n",
       "      <td>1139249</td>\n",
       "      <td>9.210340</td>\n",
       "      <td>434808</td>\n",
       "      <td>7009</td>\n",
       "      <td>121</td>\n",
       "      <td>3.0</td>\n",
       "      <td>2001</td>\n",
       "      <td>2838.0</td>\n",
       "      <td>High</td>\n",
       "      <td>226</td>\n",
       "      <td>...</td>\n",
       "      <td>26</td>\n",
       "      <td>3</td>\n",
       "      <td>57</td>\n",
       "      <td>False</td>\n",
       "      <td>False</td>\n",
       "      <td>False</td>\n",
       "      <td>False</td>\n",
       "      <td>False</td>\n",
       "      <td>False</td>\n",
       "      <td>1077753600</td>\n",
       "    </tr>\n",
       "    <tr>\n",
       "      <th>3</th>\n",
       "      <td>1139251</td>\n",
       "      <td>10.558414</td>\n",
       "      <td>1026470</td>\n",
       "      <td>332</td>\n",
       "      <td>121</td>\n",
       "      <td>3.0</td>\n",
       "      <td>2001</td>\n",
       "      <td>3486.0</td>\n",
       "      <td>High</td>\n",
       "      <td>PC120-6E</td>\n",
       "      <td>...</td>\n",
       "      <td>19</td>\n",
       "      <td>3</td>\n",
       "      <td>139</td>\n",
       "      <td>False</td>\n",
       "      <td>False</td>\n",
       "      <td>False</td>\n",
       "      <td>False</td>\n",
       "      <td>False</td>\n",
       "      <td>False</td>\n",
       "      <td>1305763200</td>\n",
       "    </tr>\n",
       "    <tr>\n",
       "      <th>4</th>\n",
       "      <td>1139253</td>\n",
       "      <td>9.305651</td>\n",
       "      <td>1057373</td>\n",
       "      <td>17311</td>\n",
       "      <td>121</td>\n",
       "      <td>3.0</td>\n",
       "      <td>2007</td>\n",
       "      <td>722.0</td>\n",
       "      <td>Medium</td>\n",
       "      <td>S175</td>\n",
       "      <td>...</td>\n",
       "      <td>23</td>\n",
       "      <td>3</td>\n",
       "      <td>204</td>\n",
       "      <td>False</td>\n",
       "      <td>False</td>\n",
       "      <td>False</td>\n",
       "      <td>False</td>\n",
       "      <td>False</td>\n",
       "      <td>False</td>\n",
       "      <td>1248307200</td>\n",
       "    </tr>\n",
       "    <tr>\n",
       "      <th>...</th>\n",
       "      <td>...</td>\n",
       "      <td>...</td>\n",
       "      <td>...</td>\n",
       "      <td>...</td>\n",
       "      <td>...</td>\n",
       "      <td>...</td>\n",
       "      <td>...</td>\n",
       "      <td>...</td>\n",
       "      <td>...</td>\n",
       "      <td>...</td>\n",
       "      <td>...</td>\n",
       "      <td>...</td>\n",
       "      <td>...</td>\n",
       "      <td>...</td>\n",
       "      <td>...</td>\n",
       "      <td>...</td>\n",
       "      <td>...</td>\n",
       "      <td>...</td>\n",
       "      <td>...</td>\n",
       "      <td>...</td>\n",
       "      <td>...</td>\n",
       "    </tr>\n",
       "    <tr>\n",
       "      <th>401120</th>\n",
       "      <td>6333336</td>\n",
       "      <td>9.259131</td>\n",
       "      <td>1840702</td>\n",
       "      <td>21439</td>\n",
       "      <td>149</td>\n",
       "      <td>1.0</td>\n",
       "      <td>2005</td>\n",
       "      <td>NaN</td>\n",
       "      <td>NaN</td>\n",
       "      <td>35NX2</td>\n",
       "      <td>...</td>\n",
       "      <td>2</td>\n",
       "      <td>2</td>\n",
       "      <td>306</td>\n",
       "      <td>False</td>\n",
       "      <td>False</td>\n",
       "      <td>False</td>\n",
       "      <td>False</td>\n",
       "      <td>False</td>\n",
       "      <td>False</td>\n",
       "      <td>1320192000</td>\n",
       "    </tr>\n",
       "    <tr>\n",
       "      <th>401121</th>\n",
       "      <td>6333337</td>\n",
       "      <td>9.305651</td>\n",
       "      <td>1830472</td>\n",
       "      <td>21439</td>\n",
       "      <td>149</td>\n",
       "      <td>1.0</td>\n",
       "      <td>2005</td>\n",
       "      <td>NaN</td>\n",
       "      <td>NaN</td>\n",
       "      <td>35NX2</td>\n",
       "      <td>...</td>\n",
       "      <td>2</td>\n",
       "      <td>2</td>\n",
       "      <td>306</td>\n",
       "      <td>False</td>\n",
       "      <td>False</td>\n",
       "      <td>False</td>\n",
       "      <td>False</td>\n",
       "      <td>False</td>\n",
       "      <td>False</td>\n",
       "      <td>1320192000</td>\n",
       "    </tr>\n",
       "    <tr>\n",
       "      <th>401122</th>\n",
       "      <td>6333338</td>\n",
       "      <td>9.350102</td>\n",
       "      <td>1887659</td>\n",
       "      <td>21439</td>\n",
       "      <td>149</td>\n",
       "      <td>1.0</td>\n",
       "      <td>2005</td>\n",
       "      <td>NaN</td>\n",
       "      <td>NaN</td>\n",
       "      <td>35NX2</td>\n",
       "      <td>...</td>\n",
       "      <td>2</td>\n",
       "      <td>2</td>\n",
       "      <td>306</td>\n",
       "      <td>False</td>\n",
       "      <td>False</td>\n",
       "      <td>False</td>\n",
       "      <td>False</td>\n",
       "      <td>False</td>\n",
       "      <td>False</td>\n",
       "      <td>1320192000</td>\n",
       "    </tr>\n",
       "    <tr>\n",
       "      <th>401123</th>\n",
       "      <td>6333341</td>\n",
       "      <td>9.104980</td>\n",
       "      <td>1903570</td>\n",
       "      <td>21435</td>\n",
       "      <td>149</td>\n",
       "      <td>2.0</td>\n",
       "      <td>2005</td>\n",
       "      <td>NaN</td>\n",
       "      <td>NaN</td>\n",
       "      <td>30NX</td>\n",
       "      <td>...</td>\n",
       "      <td>25</td>\n",
       "      <td>1</td>\n",
       "      <td>298</td>\n",
       "      <td>False</td>\n",
       "      <td>False</td>\n",
       "      <td>False</td>\n",
       "      <td>False</td>\n",
       "      <td>False</td>\n",
       "      <td>False</td>\n",
       "      <td>1319500800</td>\n",
       "    </tr>\n",
       "    <tr>\n",
       "      <th>401124</th>\n",
       "      <td>6333342</td>\n",
       "      <td>8.955448</td>\n",
       "      <td>1926965</td>\n",
       "      <td>21435</td>\n",
       "      <td>149</td>\n",
       "      <td>2.0</td>\n",
       "      <td>2005</td>\n",
       "      <td>NaN</td>\n",
       "      <td>NaN</td>\n",
       "      <td>30NX</td>\n",
       "      <td>...</td>\n",
       "      <td>25</td>\n",
       "      <td>1</td>\n",
       "      <td>298</td>\n",
       "      <td>False</td>\n",
       "      <td>False</td>\n",
       "      <td>False</td>\n",
       "      <td>False</td>\n",
       "      <td>False</td>\n",
       "      <td>False</td>\n",
       "      <td>1319500800</td>\n",
       "    </tr>\n",
       "  </tbody>\n",
       "</table>\n",
       "<p>401125 rows × 65 columns</p>\n",
       "</div>"
      ],
      "text/plain": [
       "        SalesID  SalePrice  MachineID  ModelID  datasource  auctioneerID  \\\n",
       "0       1139246  11.097410     999089     3157         121           3.0   \n",
       "1       1139248  10.950807     117657       77         121           3.0   \n",
       "2       1139249   9.210340     434808     7009         121           3.0   \n",
       "3       1139251  10.558414    1026470      332         121           3.0   \n",
       "4       1139253   9.305651    1057373    17311         121           3.0   \n",
       "...         ...        ...        ...      ...         ...           ...   \n",
       "401120  6333336   9.259131    1840702    21439         149           1.0   \n",
       "401121  6333337   9.305651    1830472    21439         149           1.0   \n",
       "401122  6333338   9.350102    1887659    21439         149           1.0   \n",
       "401123  6333341   9.104980    1903570    21435         149           2.0   \n",
       "401124  6333342   8.955448    1926965    21435         149           2.0   \n",
       "\n",
       "        YearMade  MachineHoursCurrentMeter UsageBand fiModelDesc  ... saleDay  \\\n",
       "0           2004                      68.0       Low        521D  ...      16   \n",
       "1           1996                    4640.0       Low      950FII  ...      26   \n",
       "2           2001                    2838.0      High         226  ...      26   \n",
       "3           2001                    3486.0      High    PC120-6E  ...      19   \n",
       "4           2007                     722.0    Medium        S175  ...      23   \n",
       "...          ...                       ...       ...         ...  ...     ...   \n",
       "401120      2005                       NaN       NaN       35NX2  ...       2   \n",
       "401121      2005                       NaN       NaN       35NX2  ...       2   \n",
       "401122      2005                       NaN       NaN       35NX2  ...       2   \n",
       "401123      2005                       NaN       NaN        30NX  ...      25   \n",
       "401124      2005                       NaN       NaN        30NX  ...      25   \n",
       "\n",
       "       saleDayofweek saleDayofyear saleIs_month_end saleIs_month_start  \\\n",
       "0                  3           320            False              False   \n",
       "1                  4            86            False              False   \n",
       "2                  3            57            False              False   \n",
       "3                  3           139            False              False   \n",
       "4                  3           204            False              False   \n",
       "...              ...           ...              ...                ...   \n",
       "401120             2           306            False              False   \n",
       "401121             2           306            False              False   \n",
       "401122             2           306            False              False   \n",
       "401123             1           298            False              False   \n",
       "401124             1           298            False              False   \n",
       "\n",
       "       saleIs_quarter_end saleIs_quarter_start saleIs_year_end  \\\n",
       "0                   False                False           False   \n",
       "1                   False                False           False   \n",
       "2                   False                False           False   \n",
       "3                   False                False           False   \n",
       "4                   False                False           False   \n",
       "...                   ...                  ...             ...   \n",
       "401120              False                False           False   \n",
       "401121              False                False           False   \n",
       "401122              False                False           False   \n",
       "401123              False                False           False   \n",
       "401124              False                False           False   \n",
       "\n",
       "       saleIs_year_start saleElapsed  \n",
       "0                  False  1163635200  \n",
       "1                  False  1080259200  \n",
       "2                  False  1077753600  \n",
       "3                  False  1305763200  \n",
       "4                  False  1248307200  \n",
       "...                  ...         ...  \n",
       "401120             False  1320192000  \n",
       "401121             False  1320192000  \n",
       "401122             False  1320192000  \n",
       "401123             False  1319500800  \n",
       "401124             False  1319500800  \n",
       "\n",
       "[401125 rows x 65 columns]"
      ]
     },
     "execution_count": 25,
     "metadata": {},
     "output_type": "execute_result"
    }
   ],
   "source": [
    "df_raw"
   ]
  },
  {
   "cell_type": "code",
   "execution_count": 26,
   "metadata": {
    "hidden": true
   },
   "outputs": [
    {
     "data": {
      "text/plain": [
       "(100000, 66)"
      ]
     },
     "execution_count": 26,
     "metadata": {},
     "output_type": "execute_result"
    }
   ],
   "source": [
    "df, y, _ = proc_df(df_raw, 'SalePrice', subset=sample_size)\n",
    "df.shape"
   ]
  },
  {
   "cell_type": "markdown",
   "metadata": {},
   "source": [
    "# Building a second model"
   ]
  },
  {
   "cell_type": "code",
   "execution_count": 27,
   "metadata": {},
   "outputs": [
    {
     "name": "stdout",
     "output_type": "stream",
     "text": [
      "Train score(R^2) : 0.985\n"
     ]
    }
   ],
   "source": [
    "# Making a model\n",
    "rf = RandomForestRegressor().fit(df, y)\n",
    "print(f'Train score(R^2) : {round(rf.score(df, y), 3)}')"
   ]
  },
  {
   "cell_type": "markdown",
   "metadata": {},
   "source": [
    "### splitting into train and validation sets"
   ]
  },
  {
   "cell_type": "code",
   "execution_count": 42,
   "metadata": {},
   "outputs": [
    {
     "data": {
      "text/plain": [
       "((88000, 66), (12000, 66), (88000,))"
      ]
     },
     "execution_count": 42,
     "metadata": {},
     "output_type": "execute_result"
    }
   ],
   "source": [
    "# splitting the data\n",
    "n_size = 12000\n",
    "trn_size = len(df) - n_size\n",
    "\n",
    "def split(df, n):\n",
    "    return df[:n].copy(), df[n:].copy()\n",
    "\n",
    "X_train, X_valid = split(df, trn_size)\n",
    "y_train, y_valid = split(y, trn_size)\n",
    "\n",
    "X_train.shape, X_valid.shape, y_train.shape\n"
   ]
  },
  {
   "cell_type": "code",
   "execution_count": 29,
   "metadata": {},
   "outputs": [],
   "source": [
    "def rmse(predictions, actuals):\n",
    "    '''returns the root mean squared error\n",
    "    of the true value and predicted values\n",
    "    \n",
    "    --------------\n",
    "    predictions : predicted values .i.e model.predict(X)\n",
    "    actuals : actual value of the true target variable (y)\n",
    "    '''\n",
    "    return np.sqrt(mean_squared_error(predictions, actuals))\n",
    "\n",
    "def print_score(model):\n",
    "    '''returns a set of scores from the model. If the oob_score hyperparameter is given it appends it's score \n",
    "    '''\n",
    "    res = [rmse(model.predict(X_train), y_train), rmse(model.predict(X_valid), y_valid), \n",
    "           model.score(X_train, y_train), model.score(X_valid, y_valid)]\n",
    "    if hasattr(model, 'oob_score_'):\n",
    "        res.append(model.oob_score_)\n",
    "        print(f'OOB score of the model : {res[4]}')\n",
    "    print(f'RMSE of the train set : {res[0]}')\n",
    "    print(f'RMSE of the validation set : {res[1]}')\n",
    "    print(f'R^2 score of the train set : {res[2]}')\n",
    "    print(f'R^2 score of the validation set : {res[3]}')"
   ]
  },
  {
   "cell_type": "code",
   "execution_count": 30,
   "metadata": {},
   "outputs": [
    {
     "name": "stdout",
     "output_type": "stream",
     "text": [
      "RMSE of the train set : 0.0865201582771845\n",
      "RMSE of the validation set : 0.26213073735832454\n",
      "R^2 score of the train set : 0.9843836094328581\n",
      "R^2 score of the validation set : 0.8683700641426433\n"
     ]
    }
   ],
   "source": [
    "rf = RandomForestRegressor(n_jobs=-1).fit(X_train, y_train)\n",
    "print_score(rf)"
   ]
  },
  {
   "cell_type": "markdown",
   "metadata": {},
   "source": [
    "From this model we get a RMSE score for the validation set which would place us in the top 29% in the kaggle public leader board. But the R^2 score of the validation is much lower than that of the training set, which would suggest that the data is overfitting."
   ]
  },
  {
   "cell_type": "markdown",
   "metadata": {
    "heading_collapsed": true
   },
   "source": [
    "#  Building a single tree"
   ]
  },
  {
   "cell_type": "code",
   "execution_count": 31,
   "metadata": {
    "hidden": true
   },
   "outputs": [
    {
     "name": "stdout",
     "output_type": "stream",
     "text": [
      "RMSE of the train set : 0.5374297554372752\n",
      "RMSE of the validation set : 0.5998116565399805\n",
      "R^2 score of the train set : 0.3974550267613722\n",
      "R^2 score of the validation set : 0.3107947543949694\n"
     ]
    }
   ],
   "source": [
    "rf = RandomForestRegressor(n_estimators=1, max_depth=3, bootstrap=False, n_jobs=-1).fit(X_train, y_train)\n",
    "print_score(rf)"
   ]
  },
  {
   "cell_type": "code",
   "execution_count": 32,
   "metadata": {
    "hidden": true,
    "scrolled": true
   },
   "outputs": [
    {
     "data": {
      "image/svg+xml": [
       "<?xml version=\"1.0\" encoding=\"UTF-8\" standalone=\"no\"?>\n",
       "<!DOCTYPE svg PUBLIC \"-//W3C//DTD SVG 1.1//EN\"\n",
       " \"http://www.w3.org/Graphics/SVG/1.1/DTD/svg11.dtd\">\n",
       "<!-- Generated by graphviz version 2.40.1 (20161225.0304)\n",
       " -->\n",
       "<!-- Title: Tree Pages: 1 -->\n",
       "<svg width=\"657pt\" height=\"592pt\"\n",
       " viewBox=\"0.00 0.00 657.00 592.10\" xmlns=\"http://www.w3.org/2000/svg\" xmlns:xlink=\"http://www.w3.org/1999/xlink\">\n",
       "<g id=\"graph0\" class=\"graph\" transform=\"scale(1 1) rotate(0) translate(4 588.1)\">\n",
       "<title>Tree</title>\n",
       "<polygon fill=\"#ffffff\" stroke=\"transparent\" points=\"-4,4 -4,-588.1 653,-588.1 653,4 -4,4\"/>\n",
       "<!-- 0 -->\n",
       "<g id=\"node1\" class=\"node\">\n",
       "<title>0</title>\n",
       "<polygon fill=\"#eda775\" stroke=\"#000000\" points=\"140,-355.143 0,-355.143 0,-287.143 140,-287.143 140,-355.143\"/>\n",
       "<text text-anchor=\"start\" x=\"8\" y=\"-339.943\" font-family=\"Times,serif\" font-size=\"14.00\" fill=\"#000000\">Coupler_System ≤ 0.5</text>\n",
       "<text text-anchor=\"start\" x=\"35\" y=\"-324.943\" font-family=\"Times,serif\" font-size=\"14.00\" fill=\"#000000\">mse = 0.479</text>\n",
       "<text text-anchor=\"start\" x=\"23\" y=\"-309.943\" font-family=\"Times,serif\" font-size=\"14.00\" fill=\"#000000\">samples = 96000</text>\n",
       "<text text-anchor=\"start\" x=\"28.5\" y=\"-294.943\" font-family=\"Times,serif\" font-size=\"14.00\" fill=\"#000000\">value = 10.106</text>\n",
       "</g>\n",
       "<!-- 1 -->\n",
       "<g id=\"node2\" class=\"node\">\n",
       "<title>1</title>\n",
       "<polygon fill=\"#eb9f68\" stroke=\"#000000\" points=\"304,-393.143 176,-393.143 176,-325.143 304,-325.143 304,-393.143\"/>\n",
       "<text text-anchor=\"start\" x=\"184\" y=\"-377.943\" font-family=\"Times,serif\" font-size=\"14.00\" fill=\"#000000\">YearMade ≤ 1991.5</text>\n",
       "<text text-anchor=\"start\" x=\"205\" y=\"-362.943\" font-family=\"Times,serif\" font-size=\"14.00\" fill=\"#000000\">mse = 0.416</text>\n",
       "<text text-anchor=\"start\" x=\"193\" y=\"-347.943\" font-family=\"Times,serif\" font-size=\"14.00\" fill=\"#000000\">samples = 85937</text>\n",
       "<text text-anchor=\"start\" x=\"198.5\" y=\"-332.943\" font-family=\"Times,serif\" font-size=\"14.00\" fill=\"#000000\">value = 10.211</text>\n",
       "</g>\n",
       "<!-- 0&#45;&gt;1 -->\n",
       "<g id=\"edge1\" class=\"edge\">\n",
       "<title>0&#45;&gt;1</title>\n",
       "<path fill=\"none\" stroke=\"#000000\" d=\"M140.127,-336.8184C148.6072,-338.714 157.2913,-340.6552 165.8273,-342.5632\"/>\n",
       "<polygon fill=\"#000000\" stroke=\"#000000\" points=\"165.236,-346.0173 175.7587,-344.7832 166.7631,-339.1859 165.236,-346.0173\"/>\n",
       "<text text-anchor=\"middle\" x=\"154.6504\" y=\"-354.4788\" font-family=\"Times,serif\" font-size=\"14.00\" fill=\"#000000\">True</text>\n",
       "</g>\n",
       "<!-- 8 -->\n",
       "<g id=\"node9\" class=\"node\">\n",
       "<title>8</title>\n",
       "<polygon fill=\"#fbede3\" stroke=\"#000000\" points=\"304,-258.143 176,-258.143 176,-190.143 304,-190.143 304,-258.143\"/>\n",
       "<text text-anchor=\"start\" x=\"184\" y=\"-242.943\" font-family=\"Times,serif\" font-size=\"14.00\" fill=\"#000000\">YearMade ≤ 1998.5</text>\n",
       "<text text-anchor=\"start\" x=\"205\" y=\"-227.943\" font-family=\"Times,serif\" font-size=\"14.00\" fill=\"#000000\">mse = 0.115</text>\n",
       "<text text-anchor=\"start\" x=\"193\" y=\"-212.943\" font-family=\"Times,serif\" font-size=\"14.00\" fill=\"#000000\">samples = 10063</text>\n",
       "<text text-anchor=\"start\" x=\"202\" y=\"-197.943\" font-family=\"Times,serif\" font-size=\"14.00\" fill=\"#000000\">value = 9.205</text>\n",
       "</g>\n",
       "<!-- 0&#45;&gt;8 -->\n",
       "<g id=\"edge8\" class=\"edge\">\n",
       "<title>0&#45;&gt;8</title>\n",
       "<path fill=\"none\" stroke=\"#000000\" d=\"M129.9356,-286.9444C143.3449,-279.2933 157.6681,-271.1206 171.398,-263.2865\"/>\n",
       "<polygon fill=\"#000000\" stroke=\"#000000\" points=\"173.3683,-266.192 180.3193,-258.1961 169.8991,-260.1121 173.3683,-266.192\"/>\n",
       "<text text-anchor=\"middle\" x=\"156.2043\" y=\"-247.9029\" font-family=\"Times,serif\" font-size=\"14.00\" fill=\"#000000\">False</text>\n",
       "</g>\n",
       "<!-- 2 -->\n",
       "<g id=\"node3\" class=\"node\">\n",
       "<title>2</title>\n",
       "<polygon fill=\"#efb285\" stroke=\"#000000\" points=\"481,-514.143 361,-514.143 361,-446.143 481,-446.143 481,-514.143\"/>\n",
       "<text text-anchor=\"start\" x=\"369\" y=\"-498.943\" font-family=\"Times,serif\" font-size=\"14.00\" fill=\"#000000\">ModelID ≤ 4420.0</text>\n",
       "<text text-anchor=\"start\" x=\"386\" y=\"-483.943\" font-family=\"Times,serif\" font-size=\"14.00\" fill=\"#000000\">mse = 0.374</text>\n",
       "<text text-anchor=\"start\" x=\"374\" y=\"-468.943\" font-family=\"Times,serif\" font-size=\"14.00\" fill=\"#000000\">samples = 38264</text>\n",
       "<text text-anchor=\"start\" x=\"383\" y=\"-453.943\" font-family=\"Times,serif\" font-size=\"14.00\" fill=\"#000000\">value = 9.972</text>\n",
       "</g>\n",
       "<!-- 1&#45;&gt;2 -->\n",
       "<g id=\"edge2\" class=\"edge\">\n",
       "<title>1&#45;&gt;2</title>\n",
       "<path fill=\"none\" stroke=\"#000000\" d=\"M290.9003,-393.1702C312.7813,-407.7979 338.5095,-424.9974 361.2846,-440.2228\"/>\n",
       "<polygon fill=\"#000000\" stroke=\"#000000\" points=\"359.596,-443.304 369.8547,-445.9519 363.4864,-437.4846 359.596,-443.304\"/>\n",
       "</g>\n",
       "<!-- 5 -->\n",
       "<g id=\"node6\" class=\"node\">\n",
       "<title>5</title>\n",
       "<polygon fill=\"#e89051\" stroke=\"#000000\" points=\"502.5,-393.143 339.5,-393.143 339.5,-325.143 502.5,-325.143 502.5,-393.143\"/>\n",
       "<text text-anchor=\"start\" x=\"347.5\" y=\"-377.943\" font-family=\"Times,serif\" font-size=\"14.00\" fill=\"#000000\">fiProductClassDesc ≤ 13.5</text>\n",
       "<text text-anchor=\"start\" x=\"386\" y=\"-362.943\" font-family=\"Times,serif\" font-size=\"14.00\" fill=\"#000000\">mse = 0.367</text>\n",
       "<text text-anchor=\"start\" x=\"374\" y=\"-347.943\" font-family=\"Times,serif\" font-size=\"14.00\" fill=\"#000000\">samples = 47673</text>\n",
       "<text text-anchor=\"start\" x=\"379.5\" y=\"-332.943\" font-family=\"Times,serif\" font-size=\"14.00\" fill=\"#000000\">value = 10.403</text>\n",
       "</g>\n",
       "<!-- 1&#45;&gt;5 -->\n",
       "<g id=\"edge5\" class=\"edge\">\n",
       "<title>1&#45;&gt;5</title>\n",
       "<path fill=\"none\" stroke=\"#000000\" d=\"M304.0685,-359.143C312.166,-359.143 320.573,-359.143 328.9973,-359.143\"/>\n",
       "<polygon fill=\"#000000\" stroke=\"#000000\" points=\"329.2622,-362.6431 339.2621,-359.143 329.2621,-355.6431 329.2622,-362.6431\"/>\n",
       "</g>\n",
       "<!-- 3 -->\n",
       "<g id=\"node4\" class=\"node\">\n",
       "<title>3</title>\n",
       "<polygon fill=\"#eba06a\" stroke=\"#000000\" points=\"649,-582.643 539,-582.643 539,-529.643 649,-529.643 649,-582.643\"/>\n",
       "<text text-anchor=\"start\" x=\"559\" y=\"-567.443\" font-family=\"Times,serif\" font-size=\"14.00\" fill=\"#000000\">mse = 0.388</text>\n",
       "<text text-anchor=\"start\" x=\"547\" y=\"-552.443\" font-family=\"Times,serif\" font-size=\"14.00\" fill=\"#000000\">samples = 19681</text>\n",
       "<text text-anchor=\"start\" x=\"552.5\" y=\"-537.443\" font-family=\"Times,serif\" font-size=\"14.00\" fill=\"#000000\">value = 10.198</text>\n",
       "</g>\n",
       "<!-- 2&#45;&gt;3 -->\n",
       "<g id=\"edge3\" class=\"edge\">\n",
       "<title>2&#45;&gt;3</title>\n",
       "<path fill=\"none\" stroke=\"#000000\" d=\"M481.0215,-506.5108C496.6848,-513.3918 513.6301,-520.836 529.5144,-527.8141\"/>\n",
       "<polygon fill=\"#000000\" stroke=\"#000000\" points=\"528.1633,-531.0433 538.7265,-531.861 530.9788,-524.6345 528.1633,-531.0433\"/>\n",
       "</g>\n",
       "<!-- 4 -->\n",
       "<g id=\"node5\" class=\"node\">\n",
       "<title>4</title>\n",
       "<polygon fill=\"#f3c4a3\" stroke=\"#000000\" points=\"649,-506.643 539,-506.643 539,-453.643 649,-453.643 649,-506.643\"/>\n",
       "<text text-anchor=\"start\" x=\"559\" y=\"-491.443\" font-family=\"Times,serif\" font-size=\"14.00\" fill=\"#000000\">mse = 0.247</text>\n",
       "<text text-anchor=\"start\" x=\"547\" y=\"-476.443\" font-family=\"Times,serif\" font-size=\"14.00\" fill=\"#000000\">samples = 18583</text>\n",
       "<text text-anchor=\"start\" x=\"556\" y=\"-461.443\" font-family=\"Times,serif\" font-size=\"14.00\" fill=\"#000000\">value = 9.733</text>\n",
       "</g>\n",
       "<!-- 2&#45;&gt;4 -->\n",
       "<g id=\"edge4\" class=\"edge\">\n",
       "<title>2&#45;&gt;4</title>\n",
       "<path fill=\"none\" stroke=\"#000000\" d=\"M481.0215,-480.143C496.392,-480.143 512.9971,-480.143 528.6226,-480.143\"/>\n",
       "<polygon fill=\"#000000\" stroke=\"#000000\" points=\"528.7266,-483.6431 538.7265,-480.143 528.7265,-476.6431 528.7266,-483.6431\"/>\n",
       "</g>\n",
       "<!-- 6 -->\n",
       "<g id=\"node7\" class=\"node\">\n",
       "<title>6</title>\n",
       "<polygon fill=\"#eda876\" stroke=\"#000000\" points=\"649,-431.643 539,-431.643 539,-378.643 649,-378.643 649,-431.643\"/>\n",
       "<text text-anchor=\"start\" x=\"559\" y=\"-416.443\" font-family=\"Times,serif\" font-size=\"14.00\" fill=\"#000000\">mse = 0.208</text>\n",
       "<text text-anchor=\"start\" x=\"547\" y=\"-401.443\" font-family=\"Times,serif\" font-size=\"14.00\" fill=\"#000000\">samples = 18694</text>\n",
       "<text text-anchor=\"start\" x=\"552.5\" y=\"-386.443\" font-family=\"Times,serif\" font-size=\"14.00\" fill=\"#000000\">value = 10.099</text>\n",
       "</g>\n",
       "<!-- 5&#45;&gt;6 -->\n",
       "<g id=\"edge6\" class=\"edge\">\n",
       "<title>5&#45;&gt;6</title>\n",
       "<path fill=\"none\" stroke=\"#000000\" d=\"M502.6873,-380.8633C511.4906,-383.2041 520.3607,-385.5626 528.9311,-387.8414\"/>\n",
       "<polygon fill=\"#000000\" stroke=\"#000000\" points=\"528.2689,-391.2869 538.8326,-390.4742 530.0678,-384.522 528.2689,-391.2869\"/>\n",
       "</g>\n",
       "<!-- 7 -->\n",
       "<g id=\"node8\" class=\"node\">\n",
       "<title>7</title>\n",
       "<polygon fill=\"#e58139\" stroke=\"#000000\" points=\"649,-356.643 539,-356.643 539,-303.643 649,-303.643 649,-356.643\"/>\n",
       "<text text-anchor=\"start\" x=\"559\" y=\"-341.443\" font-family=\"Times,serif\" font-size=\"14.00\" fill=\"#000000\">mse = 0.372</text>\n",
       "<text text-anchor=\"start\" x=\"547\" y=\"-326.443\" font-family=\"Times,serif\" font-size=\"14.00\" fill=\"#000000\">samples = 28979</text>\n",
       "<text text-anchor=\"start\" x=\"552.5\" y=\"-311.443\" font-family=\"Times,serif\" font-size=\"14.00\" fill=\"#000000\">value = 10.599</text>\n",
       "</g>\n",
       "<!-- 5&#45;&gt;7 -->\n",
       "<g id=\"edge7\" class=\"edge\">\n",
       "<title>5&#45;&gt;7</title>\n",
       "<path fill=\"none\" stroke=\"#000000\" d=\"M502.6873,-345.4498C511.4906,-343.9741 520.3607,-342.4872 528.9311,-341.0505\"/>\n",
       "<polygon fill=\"#000000\" stroke=\"#000000\" points=\"529.5488,-344.4959 538.8326,-339.3907 528.3915,-337.5922 529.5488,-344.4959\"/>\n",
       "</g>\n",
       "<!-- 9 -->\n",
       "<g id=\"node10\" class=\"node\">\n",
       "<title>9</title>\n",
       "<polygon fill=\"#fefbf9\" stroke=\"#000000\" points=\"502.5,-258.143 339.5,-258.143 339.5,-190.143 502.5,-190.143 502.5,-258.143\"/>\n",
       "<text text-anchor=\"start\" x=\"347.5\" y=\"-242.943\" font-family=\"Times,serif\" font-size=\"14.00\" fill=\"#000000\">fiProductClassDesc ≤ 40.5</text>\n",
       "<text text-anchor=\"start\" x=\"386\" y=\"-227.943\" font-family=\"Times,serif\" font-size=\"14.00\" fill=\"#000000\">mse = 0.089</text>\n",
       "<text text-anchor=\"start\" x=\"377\" y=\"-212.943\" font-family=\"Times,serif\" font-size=\"14.00\" fill=\"#000000\">samples = 4335</text>\n",
       "<text text-anchor=\"start\" x=\"383\" y=\"-197.943\" font-family=\"Times,serif\" font-size=\"14.00\" fill=\"#000000\">value = 9.026</text>\n",
       "</g>\n",
       "<!-- 8&#45;&gt;9 -->\n",
       "<g id=\"edge9\" class=\"edge\">\n",
       "<title>8&#45;&gt;9</title>\n",
       "<path fill=\"none\" stroke=\"#000000\" d=\"M304.0685,-224.143C312.166,-224.143 320.573,-224.143 328.9973,-224.143\"/>\n",
       "<polygon fill=\"#000000\" stroke=\"#000000\" points=\"329.2622,-227.6431 339.2621,-224.143 329.2621,-220.6431 329.2622,-227.6431\"/>\n",
       "</g>\n",
       "<!-- 12 -->\n",
       "<g id=\"node13\" class=\"node\">\n",
       "<title>12</title>\n",
       "<polygon fill=\"#f9e3d3\" stroke=\"#000000\" points=\"502.5,-137.143 339.5,-137.143 339.5,-69.143 502.5,-69.143 502.5,-137.143\"/>\n",
       "<text text-anchor=\"start\" x=\"347.5\" y=\"-121.943\" font-family=\"Times,serif\" font-size=\"14.00\" fill=\"#000000\">fiProductClassDesc ≤ 40.5</text>\n",
       "<text text-anchor=\"start\" x=\"386\" y=\"-106.943\" font-family=\"Times,serif\" font-size=\"14.00\" fill=\"#000000\">mse = 0.092</text>\n",
       "<text text-anchor=\"start\" x=\"377\" y=\"-91.943\" font-family=\"Times,serif\" font-size=\"14.00\" fill=\"#000000\">samples = 5728</text>\n",
       "<text text-anchor=\"start\" x=\"386\" y=\"-76.943\" font-family=\"Times,serif\" font-size=\"14.00\" fill=\"#000000\">value = 9.34</text>\n",
       "</g>\n",
       "<!-- 8&#45;&gt;12 -->\n",
       "<g id=\"edge12\" class=\"edge\">\n",
       "<title>8&#45;&gt;12</title>\n",
       "<path fill=\"none\" stroke=\"#000000\" d=\"M290.9003,-190.1158C312.7813,-175.4881 338.5095,-158.2886 361.2846,-143.0632\"/>\n",
       "<polygon fill=\"#000000\" stroke=\"#000000\" points=\"363.4864,-145.8014 369.8547,-137.3341 359.596,-139.982 363.4864,-145.8014\"/>\n",
       "</g>\n",
       "<!-- 10 -->\n",
       "<g id=\"node11\" class=\"node\">\n",
       "<title>10</title>\n",
       "<polygon fill=\"#ffffff\" stroke=\"#000000\" points=\"646,-280.643 542,-280.643 542,-227.643 646,-227.643 646,-280.643\"/>\n",
       "<text text-anchor=\"start\" x=\"562.5\" y=\"-265.443\" font-family=\"Times,serif\" font-size=\"14.00\" fill=\"#000000\">mse = 0.07</text>\n",
       "<text text-anchor=\"start\" x=\"550\" y=\"-250.443\" font-family=\"Times,serif\" font-size=\"14.00\" fill=\"#000000\">samples = 3275</text>\n",
       "<text text-anchor=\"start\" x=\"556\" y=\"-235.443\" font-family=\"Times,serif\" font-size=\"14.00\" fill=\"#000000\">value = 8.977</text>\n",
       "</g>\n",
       "<!-- 9&#45;&gt;10 -->\n",
       "<g id=\"edge10\" class=\"edge\">\n",
       "<title>9&#45;&gt;10</title>\n",
       "<path fill=\"none\" stroke=\"#000000\" d=\"M502.6873,-238.3084C512.453,-240.0019 522.3007,-241.7096 531.7306,-243.3448\"/>\n",
       "<polygon fill=\"#000000\" stroke=\"#000000\" points=\"531.3243,-246.8265 541.7753,-245.0867 532.5204,-239.9295 531.3243,-246.8265\"/>\n",
       "</g>\n",
       "<!-- 11 -->\n",
       "<g id=\"node12\" class=\"node\">\n",
       "<title>11</title>\n",
       "<polygon fill=\"#fcefe6\" stroke=\"#000000\" points=\"646,-205.643 542,-205.643 542,-152.643 646,-152.643 646,-205.643\"/>\n",
       "<text text-anchor=\"start\" x=\"559\" y=\"-190.443\" font-family=\"Times,serif\" font-size=\"14.00\" fill=\"#000000\">mse = 0.116</text>\n",
       "<text text-anchor=\"start\" x=\"550\" y=\"-175.443\" font-family=\"Times,serif\" font-size=\"14.00\" fill=\"#000000\">samples = 1060</text>\n",
       "<text text-anchor=\"start\" x=\"556\" y=\"-160.443\" font-family=\"Times,serif\" font-size=\"14.00\" fill=\"#000000\">value = 9.178</text>\n",
       "</g>\n",
       "<!-- 9&#45;&gt;11 -->\n",
       "<g id=\"edge11\" class=\"edge\">\n",
       "<title>9&#45;&gt;11</title>\n",
       "<path fill=\"none\" stroke=\"#000000\" d=\"M502.6873,-202.8949C512.5569,-200.3276 522.5103,-197.7386 532.0314,-195.262\"/>\n",
       "<polygon fill=\"#000000\" stroke=\"#000000\" points=\"532.9785,-198.6322 541.7753,-192.7275 531.2162,-191.8576 532.9785,-198.6322\"/>\n",
       "</g>\n",
       "<!-- 13 -->\n",
       "<g id=\"node14\" class=\"node\">\n",
       "<title>13</title>\n",
       "<polygon fill=\"#fbeade\" stroke=\"#000000\" points=\"646,-129.643 542,-129.643 542,-76.643 646,-76.643 646,-129.643\"/>\n",
       "<text text-anchor=\"start\" x=\"559\" y=\"-114.443\" font-family=\"Times,serif\" font-size=\"14.00\" fill=\"#000000\">mse = 0.086</text>\n",
       "<text text-anchor=\"start\" x=\"550\" y=\"-99.443\" font-family=\"Times,serif\" font-size=\"14.00\" fill=\"#000000\">samples = 3035</text>\n",
       "<text text-anchor=\"start\" x=\"556\" y=\"-84.443\" font-family=\"Times,serif\" font-size=\"14.00\" fill=\"#000000\">value = 9.251</text>\n",
       "</g>\n",
       "<!-- 12&#45;&gt;13 -->\n",
       "<g id=\"edge13\" class=\"edge\">\n",
       "<title>12&#45;&gt;13</title>\n",
       "<path fill=\"none\" stroke=\"#000000\" d=\"M502.6873,-103.143C512.453,-103.143 522.3007,-103.143 531.7306,-103.143\"/>\n",
       "<polygon fill=\"#000000\" stroke=\"#000000\" points=\"531.7753,-106.6431 541.7753,-103.143 531.7753,-99.6431 531.7753,-106.6431\"/>\n",
       "</g>\n",
       "<!-- 14 -->\n",
       "<g id=\"node15\" class=\"node\">\n",
       "<title>14</title>\n",
       "<polygon fill=\"#f8dbc6\" stroke=\"#000000\" points=\"646,-54.643 542,-54.643 542,-1.643 646,-1.643 646,-54.643\"/>\n",
       "<text text-anchor=\"start\" x=\"559\" y=\"-39.443\" font-family=\"Times,serif\" font-size=\"14.00\" fill=\"#000000\">mse = 0.079</text>\n",
       "<text text-anchor=\"start\" x=\"550\" y=\"-24.443\" font-family=\"Times,serif\" font-size=\"14.00\" fill=\"#000000\">samples = 2693</text>\n",
       "<text text-anchor=\"start\" x=\"556\" y=\"-9.443\" font-family=\"Times,serif\" font-size=\"14.00\" fill=\"#000000\">value = 9.441</text>\n",
       "</g>\n",
       "<!-- 12&#45;&gt;14 -->\n",
       "<g id=\"edge14\" class=\"edge\">\n",
       "<title>12&#45;&gt;14</title>\n",
       "<path fill=\"none\" stroke=\"#000000\" d=\"M499.6536,-69.0446C510.6994,-64.256 521.9173,-59.3927 532.5787,-54.7707\"/>\n",
       "<polygon fill=\"#000000\" stroke=\"#000000\" points=\"534.0036,-57.9678 541.7863,-50.779 531.2192,-51.5454 534.0036,-57.9678\"/>\n",
       "</g>\n",
       "</g>\n",
       "</svg>\n"
      ],
      "text/plain": [
       "<graphviz.files.Source at 0x7fc2ff1f2bd0>"
      ]
     },
     "metadata": {},
     "output_type": "display_data"
    }
   ],
   "source": [
    "draw_tree(rf.estimators_[0], df, precision=3, ratio=0.9)"
   ]
  },
  {
   "cell_type": "code",
   "execution_count": 33,
   "metadata": {
    "hidden": true
   },
   "outputs": [
    {
     "name": "stdout",
     "output_type": "stream",
     "text": [
      "RMSE of the train set : 8.484312441289354e-17\n",
      "RMSE of the validation set : 0.3937192565322008\n",
      "R^2 score of the train set : 1.0\n",
      "R^2 score of the validation set : 0.7030440140635894\n"
     ]
    }
   ],
   "source": [
    "# Building a very deep single tree\n",
    "rf = RandomForestRegressor(n_estimators=1, bootstrap=False, n_jobs=-1).fit(X_train, y_train)\n",
    "print_score(rf)"
   ]
  },
  {
   "cell_type": "markdown",
   "metadata": {
    "hidden": true
   },
   "source": [
    "##  Hyperparameter Turning"
   ]
  },
  {
   "cell_type": "markdown",
   "metadata": {
    "hidden": true
   },
   "source": [
    "### Using bagging method to build a better model"
   ]
  },
  {
   "cell_type": "code",
   "execution_count": 34,
   "metadata": {
    "hidden": true
   },
   "outputs": [
    {
     "name": "stdout",
     "output_type": "stream",
     "text": [
      "RMSE of the train set : 0.10276523035677465\n",
      "RMSE of the validation set : 0.2806530868782753\n",
      "R^2 score of the train set : 0.9779687848411432\n",
      "R^2 score of the validation set : 0.8491107089357598\n"
     ]
    }
   ],
   "source": [
    "rf = RandomForestRegressor(n_estimators=10).fit(X_train, y_train)\n",
    "print_score(rf)"
   ]
  },
  {
   "cell_type": "code",
   "execution_count": 35,
   "metadata": {
    "hidden": true
   },
   "outputs": [
    {
     "data": {
      "text/plain": [
       "(array([11.35041, 11.35041, 11.15625, 11.15625, 11.51293, 11.01863, 11.28978, 11.81303, 11.44035, 11.4721 ]),\n",
       " 11.356013893479552,\n",
       " 11.320553572322773)"
      ]
     },
     "execution_count": 35,
     "metadata": {},
     "output_type": "execute_result"
    }
   ],
   "source": [
    "preds = np.stack([t.predict(X_valid) for t in rf.estimators_])\n",
    "preds[:, 0], preds[:, 0].mean(), y_valid[0]"
   ]
  },
  {
   "cell_type": "markdown",
   "metadata": {
    "hidden": true
   },
   "source": [
    "Increasing the number of tree to see if the model would improve"
   ]
  },
  {
   "cell_type": "code",
   "execution_count": 36,
   "metadata": {
    "hidden": true
   },
   "outputs": [
    {
     "name": "stdout",
     "output_type": "stream",
     "text": [
      "RMSE of the train set : 0.09418330612782132\n",
      "RMSE of the validation set : 0.2701593000349475\n",
      "R^2 score of the train set : 0.9814947944006084\n",
      "R^2 score of the validation set : 0.8601834388805935\n"
     ]
    }
   ],
   "source": [
    "rf = RandomForestRegressor(n_estimators=20).fit(X_train, y_train)\n",
    "print_score(rf)"
   ]
  },
  {
   "cell_type": "code",
   "execution_count": 37,
   "metadata": {
    "hidden": true
   },
   "outputs": [
    {
     "name": "stdout",
     "output_type": "stream",
     "text": [
      "RMSE of the train set : 0.09071993636806647\n",
      "RMSE of the validation set : 0.2678372964383188\n",
      "R^2 score of the train set : 0.9828307420476473\n",
      "R^2 score of the validation set : 0.8625765407589985\n"
     ]
    }
   ],
   "source": [
    "rf = RandomForestRegressor(n_estimators=30).fit(X_train, y_train)\n",
    "print_score(rf)"
   ]
  },
  {
   "cell_type": "code",
   "execution_count": 38,
   "metadata": {
    "hidden": true
   },
   "outputs": [
    {
     "name": "stdout",
     "output_type": "stream",
     "text": [
      "RMSE of the train set : 0.08937117144591034\n",
      "RMSE of the validation set : 0.2645147923950682\n",
      "R^2 score of the train set : 0.9833374696758302\n",
      "R^2 score of the validation set : 0.8659648516518355\n"
     ]
    }
   ],
   "source": [
    "rf = RandomForestRegressor(n_estimators=40).fit(X_train, y_train)\n",
    "print_score(rf)"
   ]
  },
  {
   "cell_type": "markdown",
   "metadata": {
    "hidden": true
   },
   "source": [
    "## Using the oob_score_"
   ]
  },
  {
   "cell_type": "code",
   "execution_count": 39,
   "metadata": {
    "hidden": true
   },
   "outputs": [
    {
     "name": "stdout",
     "output_type": "stream",
     "text": [
      "OOB score of the model : 0.8814166072432864\n",
      "RMSE of the train set : 0.08900854440121414\n",
      "RMSE of the validation set : 0.26738339991712373\n",
      "R^2 score of the train set : 0.9834724130950168\n",
      "R^2 score of the validation set : 0.8630419216259282\n"
     ]
    }
   ],
   "source": [
    "rf = RandomForestRegressor(n_estimators=40, oob_score=True, n_jobs=-1).fit(X_train, y_train)\n",
    "print_score(rf)"
   ]
  },
  {
   "cell_type": "markdown",
   "metadata": {
    "hidden": true
   },
   "source": [
    "### Setting the minimun number of leaf nodes"
   ]
  },
  {
   "cell_type": "code",
   "execution_count": 40,
   "metadata": {
    "hidden": true
   },
   "outputs": [
    {
     "name": "stdout",
     "output_type": "stream",
     "text": [
      "OOB score of the model : 0.881868087956587\n",
      "RMSE of the train set : 0.12840167953311923\n",
      "RMSE of the validation set : 0.26258560508052803\n",
      "R^2 score of the train set : 0.9656056219430861\n",
      "R^2 score of the validation set : 0.8679128407076964\n"
     ]
    }
   ],
   "source": [
    "rf = RandomForestRegressor(n_estimators=40, min_samples_leaf=3, oob_score=True, n_jobs=-1)\n",
    "rf.fit(X_train, y_train)\n",
    "print_score(rf)"
   ]
  },
  {
   "cell_type": "markdown",
   "metadata": {
    "hidden": true
   },
   "source": [
    "### setting the max number of features"
   ]
  },
  {
   "cell_type": "code",
   "execution_count": 41,
   "metadata": {
    "hidden": true
   },
   "outputs": [
    {
     "name": "stdout",
     "output_type": "stream",
     "text": [
      "OOB score of the model : 0.8871596103512808\n",
      "RMSE of the train set : 0.1320377826462345\n",
      "RMSE of the validation set : 0.2551933546007444\n",
      "R^2 score of the train set : 0.9636300673662616\n",
      "R^2 score of the validation set : 0.8752451342641315\n"
     ]
    }
   ],
   "source": [
    "rf = RandomForestRegressor(n_estimators=40, min_samples_leaf=3,\n",
    "                           oob_score=True, max_features=0.5, n_jobs=-1)\n",
    "rf.fit(X_train, y_train)\n",
    "print_score(rf)"
   ]
  },
  {
   "cell_type": "code",
   "execution_count": null,
   "metadata": {
    "hidden": true
   },
   "outputs": [],
   "source": []
  }
 ],
 "metadata": {
  "kernelspec": {
   "display_name": "Python 3.7.4 64-bit ('base': conda)",
   "language": "python",
   "name": "python37464bitbaseconda02803511e82243628460d84236bfc9e6"
  },
  "language_info": {
   "codemirror_mode": {
    "name": "ipython",
    "version": 3
   },
   "file_extension": ".py",
   "mimetype": "text/x-python",
   "name": "python",
   "nbconvert_exporter": "python",
   "pygments_lexer": "ipython3",
   "version": "3.7.6"
  },
  "toc": {
   "base_numbering": 1,
   "nav_menu": {},
   "number_sections": true,
   "sideBar": true,
   "skip_h1_title": false,
   "title_cell": "Table of Contents",
   "title_sidebar": "Contents",
   "toc_cell": false,
   "toc_position": {},
   "toc_section_display": true,
   "toc_window_display": false
  }
 },
 "nbformat": 4,
 "nbformat_minor": 4
}
