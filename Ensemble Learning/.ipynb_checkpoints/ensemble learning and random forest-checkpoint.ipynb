{
 "cells": [
  {
   "cell_type": "markdown",
   "metadata": {},
   "source": [
    "**`Ensemble method`** combine the predictions of several base estimators built with different learning algorithm in order to improve generalization/robustness over a single estimator."
   ]
  },
  {
   "cell_type": "code",
   "execution_count": 9,
   "metadata": {},
   "outputs": [],
   "source": [
    "%reload_ext autoreload\n",
    "%autoreload 2\n",
    "%matplotlib inline"
   ]
  },
  {
   "cell_type": "code",
   "execution_count": 10,
   "metadata": {},
   "outputs": [],
   "source": [
    "# Making an ensemble model with different classification models\n",
    "import pandas as pd\n",
    "import numpy as np\n",
    "\n",
    "from sklearn.datasets import make_moons, load_iris\n",
    "\n",
    "from sklearn.svm import SVC\n",
    "from sklearn.tree import DecisionTreeClassifier\n",
    "from sklearn.linear_model import LogisticRegression\n",
    "from sklearn.model_selection import cross_val_score\n",
    "from sklearn.ensemble import (VotingClassifier, RandomForestClassifier,\n",
    "                              BaggingClassifier, ExtraTreesClassifier,\n",
    "                             AdaBoostClassifier, GradientBoostingRegressor)\n",
    "\n",
    "\n",
    "from sklearn.model_selection import train_test_split\n",
    "from sklearn.metrics import accuracy_score"
   ]
  },
  {
   "cell_type": "code",
   "execution_count": 11,
   "metadata": {},
   "outputs": [],
   "source": [
    "X, y = make_moons(n_samples=10000, random_state=7)"
   ]
  },
  {
   "cell_type": "code",
   "execution_count": 12,
   "metadata": {},
   "outputs": [],
   "source": [
    "X_train, X_test, y_train, y_test = train_test_split(X, y, test_size=0.2, random_state=7)"
   ]
  },
  {
   "cell_type": "code",
   "execution_count": 13,
   "metadata": {},
   "outputs": [],
   "source": [
    "log_clf = LogisticRegression()\n",
    "svm_clf = SVC()\n",
    "rf_clf = RandomForestClassifier()\n",
    "\n",
    "voting_clf = VotingClassifier(estimators=[('log_clf', log_clf), ('svm_clf', svm_clf),\n",
    "                                        ('rf_clf',rf_clf)], voting='hard', n_jobs=-1)"
   ]
  },
  {
   "cell_type": "code",
   "execution_count": 14,
   "metadata": {},
   "outputs": [
    {
     "name": "stdout",
     "output_type": "stream",
     "text": [
      "LogisticRegression 0.89325\n",
      "SVC 1.0\n",
      "RandomForestClassifier 1.0\n",
      "VotingClassifier 1.0\n"
     ]
    }
   ],
   "source": [
    "for clf in (log_clf, svm_clf, rf_clf, voting_clf):\n",
    "    clf.fit(X_train, y_train)\n",
    "    y_preds = clf.predict(X_train)\n",
    "    print(clf.__class__.__name__, accuracy_score(y_train, y_preds))"
   ]
  },
  {
   "cell_type": "markdown",
   "metadata": {},
   "source": [
    "####  NB : scaling the Logistic model does little to it's overall accuracy score.\n",
    "\n",
    "from sklearn.pipeline import Pipeline\n",
    "\n",
    "from sklearn.preprocessing import StandardScaler\n",
    "\n",
    "log_scale = Pipeline([\n",
    "    ('scaler', StandardScaler()),\n",
    "])\n",
    "\n",
    "X_prep = log_scale.fit_transform(X_train)\n",
    "\n",
    "log_clf = LogisticRegression()\n",
    "\n",
    "svm_clf = SVC()\n",
    "\n",
    "rf_clf = RandomForestClassifier()\n",
    "\n",
    "voting_clf = VotingClassifier(estimators=[('log_clf', log_clf), ('svm_clf', svm_clf),\n",
    "                                        ('rf_clf',rf_clf)], voting='hard', n_jobs=-1)\n",
    "                                        \n",
    "for clf in [log_clf, svm_clf, rf_clf, voting_clf]:\n",
    "\n",
    "    if clf == log_clf:\n",
    "        clf.fit(X_prep, y_train)\n",
    "        y_pred = clf.predict(X_prep)\n",
    "        print(clf.__class__.__name__, accuracy_score(y_train, y_pred))\n",
    "    else : \n",
    "        clf.fit(X_train, y_train)\n",
    "        y_preds = clf.predict(X_train)\n",
    "        print(clf.__class__.__name__, accuracy_score(y_train, y_preds))\n",
    "        \n",
    "''' scores\n",
    "\n",
    "**`LogisticRegression 0.893625`**\n",
    "\n",
    "**`SVC 1.0`**\n",
    "\n",
    "**`RandomForestClassifier 1.0`**\n",
    "\n",
    "**`VotingClassifier 1.0`**\n",
    "'''"
   ]
  },
  {
   "cell_type": "markdown",
   "metadata": {},
   "source": [
    "#  "
   ]
  },
  {
   "cell_type": "markdown",
   "metadata": {},
   "source": [
    "###  Bagging and Pasting \n",
    "\n",
    "Performing ensemble learning with a random sample of the training set (with replacement  in **`bagging`**, without replacement in **`pasting`**.\n",
    "\n",
    "The **`max_samples`** and **`max_features`** control the size of the sample, while the **`bootstrap`** parameter controls which method to use.\n",
    "\n",
    "bootstrap=True; **`Bagging`**, bootstrap=False; **`Pasting`**"
   ]
  },
  {
   "cell_type": "code",
   "execution_count": 15,
   "metadata": {},
   "outputs": [
    {
     "name": "stdout",
     "output_type": "stream",
     "text": [
      "0.989875\n"
     ]
    }
   ],
   "source": [
    "bag_clf = BaggingClassifier(\n",
    "    DecisionTreeClassifier(), max_samples=100, bootstrap=True, n_jobs=-1)\n",
    "bag_clf.fit(X_train, y_train)\n",
    "y_pred = bag_clf.predict(X_train)\n",
    "print(accuracy_score(y_train, y_pred))"
   ]
  },
  {
   "cell_type": "markdown",
   "metadata": {},
   "source": [
    "# Using cross validation to measure **`Bagging`** and **`Pasting`**"
   ]
  },
  {
   "cell_type": "code",
   "execution_count": 16,
   "metadata": {},
   "outputs": [
    {
     "data": {
      "text/plain": [
       "0.9986"
      ]
     },
     "execution_count": 16,
     "metadata": {},
     "output_type": "execute_result"
    }
   ],
   "source": [
    "# using bootstrap\n",
    "bag_clf = BaggingClassifier(\n",
    "    DecisionTreeClassifier(), max_samples=1000, bootstrap=True, n_jobs=-1)\n",
    "cross_val_score(bag_clf, X, y, cv=100, n_jobs=-1).mean()"
   ]
  },
  {
   "cell_type": "code",
   "execution_count": 17,
   "metadata": {},
   "outputs": [
    {
     "data": {
      "text/plain": [
       "0.9986999999999999"
      ]
     },
     "execution_count": 17,
     "metadata": {},
     "output_type": "execute_result"
    }
   ],
   "source": [
    "# using Pasting\n",
    "bag_clf2 = BaggingClassifier(\n",
    "    DecisionTreeClassifier(), max_samples=1000, bootstrap=False, n_jobs=-1)\n",
    "cross_val_score(bag_clf2, X, y, cv=100, n_jobs=-1).mean()"
   ]
  },
  {
   "cell_type": "markdown",
   "metadata": {},
   "source": [
    "There is little difference between the two methods. Even at **`cv`** value of 100 and **`max_samples`** of 1000"
   ]
  },
  {
   "cell_type": "markdown",
   "metadata": {},
   "source": [
    "## Out-Of-Bag Evaluation\n",
    "Out-of_bag evaluatin is another means of determining the efficiency of a model"
   ]
  },
  {
   "cell_type": "code",
   "execution_count": 18,
   "metadata": {},
   "outputs": [
    {
     "data": {
      "text/plain": [
       "1.0"
      ]
     },
     "execution_count": 18,
     "metadata": {},
     "output_type": "execute_result"
    }
   ],
   "source": [
    "# checking the oob_score accuracy\n",
    "bag_clf_oob = BaggingClassifier(\n",
    "    DecisionTreeClassifier(), oob_score=True, max_samples=100, max_features=0.6,\n",
    "    n_estimators=500, n_jobs=-1, bootstrap=True\n",
    ")\n",
    "bag_clf_oob.fit(X_train, y_train)\n",
    "bag_clf_oob.oob_score_"
   ]
  },
  {
   "cell_type": "code",
   "execution_count": 19,
   "metadata": {},
   "outputs": [
    {
     "data": {
      "text/plain": [
       "1.0"
      ]
     },
     "execution_count": 19,
     "metadata": {},
     "output_type": "execute_result"
    }
   ],
   "source": [
    "# Evaluating the test data\n",
    "y_preds = bag_clf_oob.predict(X_test)\n",
    "accuracy_score(y_test, y_preds)"
   ]
  },
  {
   "cell_type": "code",
   "execution_count": 20,
   "metadata": {},
   "outputs": [
    {
     "data": {
      "text/plain": [
       "array([[0.69230769, 0.30769231],\n",
       "       [0.81352459, 0.18647541],\n",
       "       [0.75101215, 0.24898785],\n",
       "       [0.37826962, 0.62173038],\n",
       "       [0.        , 1.        ],\n",
       "       [0.26666667, 0.73333333],\n",
       "       [0.39148073, 0.60851927],\n",
       "       [1.        , 0.        ],\n",
       "       [0.74141414, 0.25858586],\n",
       "       [0.        , 1.        ]])"
      ]
     },
     "execution_count": 20,
     "metadata": {},
     "output_type": "execute_result"
    }
   ],
   "source": [
    "# the class probability can also be checked\n",
    "bag_clf_oob.oob_decision_function_[:10]"
   ]
  },
  {
   "cell_type": "markdown",
   "metadata": {},
   "source": [
    "# Random Forest"
   ]
  },
  {
   "cell_type": "code",
   "execution_count": 21,
   "metadata": {},
   "outputs": [
    {
     "data": {
      "text/plain": [
       "1.0"
      ]
     },
     "execution_count": 21,
     "metadata": {},
     "output_type": "execute_result"
    }
   ],
   "source": [
    "# running a RandomClassifier on 500 instace sample\n",
    "rf_clf = RandomForestClassifier(n_estimators=500, max_leaf_nodes=16,\n",
    "                               n_jobs=-1).fit(X_train, y_train)\n",
    "y_pred_clf = rf_clf.predict(X_train)\n",
    "accuracy_score(y_train, y_pred_clf)"
   ]
  },
  {
   "cell_type": "code",
   "execution_count": 22,
   "metadata": {},
   "outputs": [
    {
     "data": {
      "text/plain": [
       "0.9985"
      ]
     },
     "execution_count": 22,
     "metadata": {},
     "output_type": "execute_result"
    }
   ],
   "source": [
    "# evaluating on the test set\n",
    "y_test_pred = rf_clf.predict(X_test)\n",
    "accuracy_score(y_test, y_test_pred)"
   ]
  },
  {
   "cell_type": "markdown",
   "metadata": {},
   "source": [
    "#  Extra Trees"
   ]
  },
  {
   "cell_type": "code",
   "execution_count": 23,
   "metadata": {},
   "outputs": [
    {
     "data": {
      "text/plain": [
       "1.0"
      ]
     },
     "execution_count": 23,
     "metadata": {},
     "output_type": "execute_result"
    }
   ],
   "source": [
    "ext_clf = ExtraTreesClassifier().fit(X_train, y_train)\n",
    "ext_clf.score(X_train, y_train)"
   ]
  },
  {
   "cell_type": "markdown",
   "metadata": {},
   "source": [
    "### Feature Importance"
   ]
  },
  {
   "cell_type": "code",
   "execution_count": 24,
   "metadata": {},
   "outputs": [
    {
     "name": "stdout",
     "output_type": "stream",
     "text": [
      "petal length (cm) 0.4399758361786796\n",
      "petal width (cm) 0.4342023286570898\n",
      "sepal length (cm) 0.10340397117794092\n",
      "sepal width (cm) 0.022417863986289793\n"
     ]
    }
   ],
   "source": [
    "iris = load_iris()\n",
    "X, y = iris['data'], iris['target']\n",
    "\n",
    "rf_clf = RandomForestClassifier(n_estimators=500, n_jobs=-1).fit(X, y)\n",
    "for name, score in sorted(zip(iris['feature_names'], rf_clf.feature_importances_)):\n",
    "    print(name , score)"
   ]
  },
  {
   "cell_type": "markdown",
   "metadata": {},
   "source": [
    "# Boosting (AdaBoost and Gradient Boost)"
   ]
  },
  {
   "cell_type": "code",
   "execution_count": 25,
   "metadata": {},
   "outputs": [
    {
     "data": {
      "text/plain": [
       "AdaBoostClassifier(algorithm='SAMME.R',\n",
       "                   base_estimator=DecisionTreeClassifier(ccp_alpha=0.0,\n",
       "                                                         class_weight=None,\n",
       "                                                         criterion='gini',\n",
       "                                                         max_depth=1,\n",
       "                                                         max_features=None,\n",
       "                                                         max_leaf_nodes=None,\n",
       "                                                         min_impurity_decrease=0.0,\n",
       "                                                         min_impurity_split=None,\n",
       "                                                         min_samples_leaf=1,\n",
       "                                                         min_samples_split=2,\n",
       "                                                         min_weight_fraction_leaf=0.0,\n",
       "                                                         presort='deprecated',\n",
       "                                                         random_state=None,\n",
       "                                                         splitter='best'),\n",
       "                   learning_rate=0.5, n_estimators=500, random_state=None)"
      ]
     },
     "execution_count": 25,
     "metadata": {},
     "output_type": "execute_result"
    }
   ],
   "source": [
    "ada_clf = AdaBoostClassifier(\n",
    "    DecisionTreeClassifier(max_depth=1), n_estimators=500,\n",
    "    algorithm='SAMME.R', learning_rate=0.5, \n",
    ")\n",
    "ada_clf.fit(X_train, y_train)"
   ]
  },
  {
   "cell_type": "code",
   "execution_count": 26,
   "metadata": {},
   "outputs": [
    {
     "data": {
      "text/plain": [
       "1.0"
      ]
     },
     "execution_count": 26,
     "metadata": {},
     "output_type": "execute_result"
    }
   ],
   "source": [
    "ada_clf.score(X_train, y_train)"
   ]
  },
  {
   "cell_type": "code",
   "execution_count": 27,
   "metadata": {},
   "outputs": [],
   "source": [
    "# Gradient Boosting\n",
    "tree_reg1 = DecisionTreeClassifier(max_depth=2)\n",
    "tree_reg1.fit(X, y)\n",
    "y2 = y - tree_reg1.predict(X)"
   ]
  },
  {
   "cell_type": "code",
   "execution_count": 28,
   "metadata": {},
   "outputs": [
    {
     "data": {
      "text/plain": [
       "0.9666666666666667"
      ]
     },
     "execution_count": 28,
     "metadata": {},
     "output_type": "execute_result"
    }
   ],
   "source": [
    "tree_reg2 = DecisionTreeClassifier(max_depth=2)\n",
    "tree_reg2.fit(X, y2)\n",
    "y3 = y2 - tree_reg2.predict(X)\n",
    "tree_reg3 = DecisionTreeClassifier(max_depth=2).fit(X, y3)\n",
    "tree_reg3.score(X, y3)"
   ]
  },
  {
   "cell_type": "code",
   "execution_count": 29,
   "metadata": {},
   "outputs": [],
   "source": [
    "y_preds = sum(tree.predict(X) for tree in (tree_reg1, tree_reg2, tree_reg3))"
   ]
  },
  {
   "cell_type": "code",
   "execution_count": 30,
   "metadata": {},
   "outputs": [
    {
     "data": {
      "text/plain": [
       "0.44375375097868175"
      ]
     },
     "execution_count": 30,
     "metadata": {},
     "output_type": "execute_result"
    }
   ],
   "source": [
    "# Using the GradientBoosting classifier\n",
    "gbrt = GradientBoostingRegressor(max_depth=2, n_estimators=3, learning_rate=0.1)\n",
    "gbrt.fit(X, y)\n",
    "gbrt.score(X, y)"
   ]
  },
  {
   "cell_type": "markdown",
   "metadata": {},
   "source": [
    "# Exercise"
   ]
  },
  {
   "cell_type": "code",
   "execution_count": 31,
   "metadata": {},
   "outputs": [],
   "source": [
    "# Using the mnist dataset\n",
    "from sklearn.datasets import fetch_openml\n",
    "mnist = fetch_openml('mnist_784', version=1)"
   ]
  },
  {
   "cell_type": "code",
   "execution_count": 32,
   "metadata": {},
   "outputs": [],
   "source": [
    "X, y = mnist['data'], mnist['target']"
   ]
  },
  {
   "cell_type": "code",
   "execution_count": 33,
   "metadata": {},
   "outputs": [],
   "source": [
    "# splitting into train, validation and test sets\n",
    "X_train, X_val, X_test = X[:50000], X[50000:60000], X[60000:]\n",
    "y_train, y_val, y_test = y[:50000], y[50000:60000], y[60000:]"
   ]
  },
  {
   "cell_type": "code",
   "execution_count": 34,
   "metadata": {},
   "outputs": [
    {
     "data": {
      "text/plain": [
       "1.0"
      ]
     },
     "execution_count": 34,
     "metadata": {},
     "output_type": "execute_result"
    }
   ],
   "source": [
    "# building Random forest model on the train set\n",
    "np.random.seed(7)\n",
    "rf_clf = RandomForestClassifier(n_jobs=-1)\n",
    "rf_clf.fit(X_train, y_train)\n",
    "y_preds_rf = rf_clf.predict(X_train)\n",
    "accuracy_score(y_train, y_preds_rf)"
   ]
  },
  {
   "cell_type": "code",
   "execution_count": 35,
   "metadata": {},
   "outputs": [
    {
     "data": {
      "text/plain": [
       "1.0"
      ]
     },
     "execution_count": 35,
     "metadata": {},
     "output_type": "execute_result"
    }
   ],
   "source": [
    "# Extra-tree classifier\n",
    "np.random.seed(7)\n",
    "ext_clf = ExtraTreesClassifier().fit(X_train, y_train)\n",
    "y_pred_ext = ext_clf.predict(X_train)\n",
    "accuracy_score(y_train, y_pred_ext)"
   ]
  },
  {
   "cell_type": "code",
   "execution_count": 42,
   "metadata": {},
   "outputs": [
    {
     "data": {
      "text/plain": [
       "1.0"
      ]
     },
     "execution_count": 42,
     "metadata": {},
     "output_type": "execute_result"
    }
   ],
   "source": [
    "# Support vector machine\n",
    "np.random.seed(7)\n",
    "des_clf = DecisionTreeClassifier().fit(X_train, y_train)\n",
    "y_pred_des = des_clf.predict(X_train)\n",
    "accuracy_score(y_train, y_pred_des)"
   ]
  },
  {
   "cell_type": "code",
   "execution_count": 41,
   "metadata": {},
   "outputs": [
    {
     "name": "stdout",
     "output_type": "stream",
     "text": [
      "ExtraTreesClassifier 1.0\n",
      "RandomForestClassifier 1.0\n",
      "DecisionTreeClassifier 1.0\n",
      "VotingClassifier 1.0\n"
     ]
    }
   ],
   "source": [
    "# Making an Ensemble model\n",
    "np.random.seed(7)\n",
    "vote_clf = VotingClassifier(estimators=[('ext_clf',ext_clf),('des_clf',des_clf), \n",
    "                                      ('rf_clf',rf_clf)], voting='hard', n_jobs=-1)\n",
    "for clf in (ext_clf, rf_clf, des_clf, vote_clf):\n",
    "    clf.fit(X_val, y_val)\n",
    "    y_pred = clf.predict(X_val)\n",
    "    print(clf.__class__.__name__, accuracy_score(y_val, y_pred))\n"
   ]
  },
  {
   "cell_type": "code",
   "execution_count": null,
   "metadata": {},
   "outputs": [],
   "source": []
  },
  {
   "cell_type": "code",
   "execution_count": null,
   "metadata": {},
   "outputs": [],
   "source": []
  },
  {
   "cell_type": "code",
   "execution_count": null,
   "metadata": {},
   "outputs": [],
   "source": []
  },
  {
   "cell_type": "code",
   "execution_count": null,
   "metadata": {},
   "outputs": [],
   "source": []
  },
  {
   "cell_type": "code",
   "execution_count": null,
   "metadata": {},
   "outputs": [],
   "source": []
  },
  {
   "cell_type": "code",
   "execution_count": null,
   "metadata": {},
   "outputs": [],
   "source": []
  },
  {
   "cell_type": "code",
   "execution_count": null,
   "metadata": {},
   "outputs": [],
   "source": []
  }
 ],
 "metadata": {
  "kernelspec": {
   "display_name": "Python 3",
   "language": "python",
   "name": "python3"
  },
  "language_info": {
   "codemirror_mode": {
    "name": "ipython",
    "version": 3
   },
   "file_extension": ".py",
   "mimetype": "text/x-python",
   "name": "python",
   "nbconvert_exporter": "python",
   "pygments_lexer": "ipython3",
   "version": "3.7.4"
  },
  "widgets": {
   "application/vnd.jupyter.widget-state+json": {
    "state": {},
    "version_major": 2,
    "version_minor": 0
   }
  }
 },
 "nbformat": 4,
 "nbformat_minor": 4
}
