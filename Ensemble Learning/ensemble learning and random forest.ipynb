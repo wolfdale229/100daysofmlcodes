{
 "cells": [
  {
   "cell_type": "markdown",
   "metadata": {},
   "source": [
    "**`Ensemble method`** combine the predictions of several base estimators built with different learning algorithm in order to improve generalization/robustness over a single estimator."
   ]
  },
  {
   "cell_type": "code",
   "execution_count": 1,
   "metadata": {},
   "outputs": [],
   "source": [
    "%reload_ext autoreload\n",
    "%autoreload 2\n",
    "%matplotlib inline"
   ]
  },
  {
   "cell_type": "code",
   "execution_count": 141,
   "metadata": {},
   "outputs": [],
   "source": [
    "# Making an ensemble model with different classification models\n",
    "import pandas as pd\n",
    "import numpy as np\n",
    "\n",
    "from sklearn.datasets import make_moons\n",
    "\n",
    "from sklearn.svm import SVC\n",
    "from sklearn.tree import DecisionTreeClassifier\n",
    "from sklearn.linear_model import LogisticRegression\n",
    "from sklearn.model_selection import cross_val_score\n",
    "from sklearn.ensemble import (VotingClassifier, RandomForestClassifier,\n",
    "                              BaggingClassifier)\n",
    "\n",
    "\n",
    "from sklearn.model_selection import train_test_split\n",
    "from sklearn.metrics import accuracy_score"
   ]
  },
  {
   "cell_type": "code",
   "execution_count": 3,
   "metadata": {},
   "outputs": [],
   "source": [
    "X, y = make_moons(n_samples=10000, random_state=7)"
   ]
  },
  {
   "cell_type": "code",
   "execution_count": 4,
   "metadata": {},
   "outputs": [],
   "source": [
    "X_train, X_test, y_train, y_test = train_test_split(X, y, test_size=0.2, random_state=7)"
   ]
  },
  {
   "cell_type": "code",
   "execution_count": 124,
   "metadata": {},
   "outputs": [],
   "source": [
    "log_clf = LogisticRegression()\n",
    "svm_clf = SVC()\n",
    "rf_clf = RandomForestClassifier()\n",
    "\n",
    "voting_clf = VotingClassifier(estimators=[('log_clf', log_clf), ('svm_clf', svm_clf),\n",
    "                                        ('rf_clf',rf_clf)], voting='hard', n_jobs=-1)"
   ]
  },
  {
   "cell_type": "code",
   "execution_count": 125,
   "metadata": {},
   "outputs": [
    {
     "name": "stdout",
     "output_type": "stream",
     "text": [
      "LogisticRegression 0.89325\n",
      "SVC 1.0\n",
      "RandomForestClassifier 1.0\n",
      "VotingClassifier 1.0\n"
     ]
    }
   ],
   "source": [
    "for clf in (log_clf, svm_clf, rf_clf, voting_clf):\n",
    "    clf.fit(X_train, y_train)\n",
    "    y_preds = clf.predict(X_train)\n",
    "    print(clf.__class__.__name__, accuracy_score(y_train, y_preds))"
   ]
  },
  {
   "cell_type": "markdown",
   "metadata": {},
   "source": [
    "####  NB : scaling the Logistic model does little to it's overall accuracy score.\n",
    "\n",
    "from sklearn.pipeline import Pipeline\n",
    "\n",
    "from sklearn.preprocessing import StandardScaler\n",
    "\n",
    "log_scale = Pipeline([\n",
    "    ('scaler', StandardScaler()),\n",
    "])\n",
    "\n",
    "X_prep = log_scale.fit_transform(X_train)\n",
    "\n",
    "log_clf = LogisticRegression()\n",
    "\n",
    "svm_clf = SVC()\n",
    "\n",
    "rf_clf = RandomForestClassifier()\n",
    "\n",
    "voting_clf = VotingClassifier(estimators=[('log_clf', log_clf), ('svm_clf', svm_clf),\n",
    "                                        ('rf_clf',rf_clf)], voting='hard', n_jobs=-1)\n",
    "                                        \n",
    "for clf in [log_clf, svm_clf, rf_clf, voting_clf]:\n",
    "\n",
    "    if clf == log_clf:\n",
    "        clf.fit(X_prep, y_train)\n",
    "        y_pred = clf.predict(X_prep)\n",
    "        print(clf.__class__.__name__, accuracy_score(y_train, y_pred))\n",
    "    else : \n",
    "        clf.fit(X_train, y_train)\n",
    "        y_preds = clf.predict(X_train)\n",
    "        print(clf.__class__.__name__, accuracy_score(y_train, y_preds))\n",
    "        \n",
    "''' scores\n",
    "\n",
    "**`LogisticRegression 0.893625`**\n",
    "\n",
    "**`SVC 1.0`**\n",
    "\n",
    "**`RandomForestClassifier 1.0`**\n",
    "\n",
    "**`VotingClassifier 1.0`**\n",
    "'''"
   ]
  },
  {
   "cell_type": "markdown",
   "metadata": {},
   "source": [
    "#  "
   ]
  },
  {
   "cell_type": "markdown",
   "metadata": {},
   "source": [
    "###  Bagging and Pasting \n",
    "\n",
    "Performing ensemble learning with a random sample of the training set (with replacement  in **`bagging`**, without replacement in **`pasting`**.\n",
    "\n",
    "The **`max_samples`** and **`max_features`** control the size of the sample, while the **`bootstrap`** parameter controls which method to use.\n",
    "\n",
    "bootstrap=True; **`Bagging`**, bootstrap=False; **`Pasting`**"
   ]
  },
  {
   "cell_type": "code",
   "execution_count": 144,
   "metadata": {},
   "outputs": [
    {
     "name": "stdout",
     "output_type": "stream",
     "text": [
      "0.990125\n"
     ]
    }
   ],
   "source": [
    "bag_clf = BaggingClassifier(\n",
    "    DecisionTreeClassifier(), max_samples=100, bootstrap=True, n_jobs=-1)\n",
    "bag_clf.fit(X_train, y_train)\n",
    "y_pred = bag_clf.predict(X_train)\n",
    "print(accuracy_score(y_train, y_pred))"
   ]
  },
  {
   "cell_type": "markdown",
   "metadata": {},
   "source": [
    "# Using cross validation to measure **`Bagging`** and **`Pasting`**"
   ]
  },
  {
   "cell_type": "code",
   "execution_count": 145,
   "metadata": {},
   "outputs": [
    {
     "data": {
      "text/plain": [
       "0.9983999999999998"
      ]
     },
     "execution_count": 145,
     "metadata": {},
     "output_type": "execute_result"
    }
   ],
   "source": [
    "# using bootstrap\n",
    "bag_clf = BaggingClassifier(\n",
    "    DecisionTreeClassifier(), max_samples=1000, bootstrap=True, n_jobs=-1)\n",
    "cross_val_score(bag_clf, X, y, cv=100, n_jobs=-1).mean()"
   ]
  },
  {
   "cell_type": "code",
   "execution_count": 146,
   "metadata": {},
   "outputs": [
    {
     "data": {
      "text/plain": [
       "0.9986999999999999"
      ]
     },
     "execution_count": 146,
     "metadata": {},
     "output_type": "execute_result"
    }
   ],
   "source": [
    "# using Pasting\n",
    "bag_clf2 = BaggingClassifier(\n",
    "    DecisionTreeClassifier(), max_samples=1000, bootstrap=False, n_jobs=-1)\n",
    "cross_val_score(bag_clf2, X, y, cv=100, n_jobs=-1).mean()"
   ]
  },
  {
   "cell_type": "markdown",
   "metadata": {},
   "source": [
    "There is little difference between the two methods. Even at **`cv`** value of 100 and **`max_samples`** of 1000"
   ]
  },
  {
   "cell_type": "markdown",
   "metadata": {},
   "source": [
    "## Out-Of-Bag Evaluation\n",
    "Out-of_bag evaluatin is another means of determining the efficiency of a model"
   ]
  },
  {
   "cell_type": "code",
   "execution_count": 167,
   "metadata": {},
   "outputs": [
    {
     "data": {
      "text/plain": [
       "1.0"
      ]
     },
     "execution_count": 167,
     "metadata": {},
     "output_type": "execute_result"
    }
   ],
   "source": [
    "# checking the oob_score accuracy\n",
    "bag_clf_oob = BaggingClassifier(\n",
    "    DecisionTreeClassifier(), oob_score=True, max_samples=100, max_features=0.6,\n",
    "    n_estimators=500, n_jobs=-1, bootstrap=True\n",
    ")\n",
    "bag_clf_oob.fit(X_train, y_train)\n",
    "bag_clf_oob.oob_score_"
   ]
  },
  {
   "cell_type": "code",
   "execution_count": 168,
   "metadata": {},
   "outputs": [
    {
     "data": {
      "text/plain": [
       "1.0"
      ]
     },
     "execution_count": 168,
     "metadata": {},
     "output_type": "execute_result"
    }
   ],
   "source": [
    "# Evaluating the test data\n",
    "y_preds = bag_clf_oob.predict(X_test)\n",
    "accuracy_score(y_test, y_preds)"
   ]
  },
  {
   "cell_type": "code",
   "execution_count": 169,
   "metadata": {},
   "outputs": [
    {
     "data": {
      "text/plain": [
       "array([[0.6969697 , 0.3030303 ],\n",
       "       [0.75806452, 0.24193548],\n",
       "       [0.76706827, 0.23293173],\n",
       "       [0.39350913, 0.60649087],\n",
       "       [0.00604839, 0.99395161],\n",
       "       [0.2388664 , 0.7611336 ],\n",
       "       [0.36437247, 0.63562753],\n",
       "       [1.        , 0.        ],\n",
       "       [0.72064777, 0.27935223],\n",
       "       [0.        , 1.        ]])"
      ]
     },
     "execution_count": 169,
     "metadata": {},
     "output_type": "execute_result"
    }
   ],
   "source": [
    "# the class probability can also be checked\n",
    "bag_clf_oob.oob_decision_function_[:10]"
   ]
  },
  {
   "cell_type": "markdown",
   "metadata": {},
   "source": [
    "# Random Forest"
   ]
  },
  {
   "cell_type": "code",
   "execution_count": 171,
   "metadata": {},
   "outputs": [
    {
     "data": {
      "text/plain": [
       "1.0"
      ]
     },
     "execution_count": 171,
     "metadata": {},
     "output_type": "execute_result"
    }
   ],
   "source": [
    "# running a RandomClassifier on 500 instace sample\n",
    "rf_clf = RandomForestClassifier(n_estimators=500, max_leaf_nodes=16,\n",
    "                               n_jobs=-1).fit(X_train, y_train)\n",
    "y_pred_clf = rf_clf.predict(X_train)\n",
    "accuracy_score(y_train, y_pred_clf)"
   ]
  },
  {
   "cell_type": "code",
   "execution_count": 172,
   "metadata": {},
   "outputs": [
    {
     "data": {
      "text/plain": [
       "0.9985"
      ]
     },
     "execution_count": 172,
     "metadata": {},
     "output_type": "execute_result"
    }
   ],
   "source": [
    "# evaluating on the test set\n",
    "y_test_pred = rf_clf.predict(X_test)\n",
    "accuracy_score(y_test, y_test_pred)"
   ]
  },
  {
   "cell_type": "code",
   "execution_count": null,
   "metadata": {},
   "outputs": [],
   "source": []
  },
  {
   "cell_type": "code",
   "execution_count": null,
   "metadata": {},
   "outputs": [],
   "source": []
  },
  {
   "cell_type": "code",
   "execution_count": null,
   "metadata": {},
   "outputs": [],
   "source": []
  },
  {
   "cell_type": "code",
   "execution_count": null,
   "metadata": {},
   "outputs": [],
   "source": []
  },
  {
   "cell_type": "code",
   "execution_count": null,
   "metadata": {},
   "outputs": [],
   "source": []
  },
  {
   "cell_type": "code",
   "execution_count": null,
   "metadata": {},
   "outputs": [],
   "source": []
  }
 ],
 "metadata": {
  "kernelspec": {
   "display_name": "Python 3",
   "language": "python",
   "name": "python3"
  },
  "language_info": {
   "codemirror_mode": {
    "name": "ipython",
    "version": 3
   },
   "file_extension": ".py",
   "mimetype": "text/x-python",
   "name": "python",
   "nbconvert_exporter": "python",
   "pygments_lexer": "ipython3",
   "version": "3.7.4"
  }
 },
 "nbformat": 4,
 "nbformat_minor": 4
}
