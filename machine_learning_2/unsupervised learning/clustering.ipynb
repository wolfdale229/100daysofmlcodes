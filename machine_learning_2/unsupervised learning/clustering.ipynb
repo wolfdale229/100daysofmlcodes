{
 "cells": [
  {
   "cell_type": "markdown",
   "metadata": {},
   "source": [
    "# Clustering\n",
    "It is tasked with identifying similar instances and grouping them into clusters"
   ]
  },
  {
   "cell_type": "markdown",
   "metadata": {},
   "source": [
    "## Uses\n",
    "**`For customer segmentation`**\n",
    "\n",
    "**`For data analysis`**\n",
    "\n",
    "**`Dimensionality reduction technique`**\n",
    "\n",
    "**`Anomaly detection (also called outlier detection)`**\n",
    "\n",
    "**`Semi-supervised learning`**\n",
    "\n",
    "**`For search engines`**\n",
    "\n",
    "**`Image Segmentation`**"
   ]
  },
  {
   "cell_type": "code",
   "execution_count": 1,
   "metadata": {},
   "outputs": [],
   "source": [
    "%reload_ext autoreload\n",
    "%autoreload 2\n",
    "%matplotlib inline"
   ]
  },
  {
   "cell_type": "code",
   "execution_count": 4,
   "metadata": {},
   "outputs": [],
   "source": [
    "import numpy as np\n",
    "import pandas as pd\n",
    "import seaborn as sns\n",
    "import matplotlib.pyplot as plt\n",
    "\n",
    "from sklearn.cluster import KMeans\n",
    "\n",
    "sns.set_style('darkgrid')"
   ]
  },
  {
   "cell_type": "code",
   "execution_count": 71,
   "metadata": {},
   "outputs": [],
   "source": [
    "# generate a dataset\n",
    "from sklearn.datasets import make_blobs\n",
    "X, y = make_blobs(n_samples=100)"
   ]
  },
  {
   "cell_type": "code",
   "execution_count": 80,
   "metadata": {},
   "outputs": [
    {
     "data": {
      "text/plain": [
       "array([2, 1, 2, 1, 4, 2, 2, 1, 4, 2, 4, 3, 0, 3, 3, 2, 4, 3, 3, 3, 4, 2,\n",
       "       0, 0, 4, 2, 3, 2, 1, 3, 2, 2, 0, 1, 1, 4, 3, 2, 1, 4, 3, 2, 4, 4,\n",
       "       0, 0, 2, 0, 2, 3, 1, 2, 0, 2, 2, 1, 2, 4, 3, 4, 1, 4, 3, 0, 3, 2,\n",
       "       2, 2, 4, 3, 2, 2, 3, 2, 1, 2, 2, 2, 0, 2, 3, 0, 4, 4, 2, 1, 1, 2,\n",
       "       1, 2, 4, 2, 3, 3, 4, 2, 3, 1, 0, 3], dtype=int32)"
      ]
     },
     "execution_count": 80,
     "metadata": {},
     "output_type": "execute_result"
    }
   ],
   "source": [
    "np.random.seed(0)\n",
    "k = 5\n",
    "kmeans = KMeans(n_clusters=k)\n",
    "y_preds = kmeans.fit_predict(X)\n",
    "y_preds"
   ]
  },
  {
   "cell_type": "code",
   "execution_count": 75,
   "metadata": {},
   "outputs": [
    {
     "data": {
      "text/plain": [
       "True"
      ]
     },
     "execution_count": 75,
     "metadata": {},
     "output_type": "execute_result"
    }
   ],
   "source": [
    "y_preds is kmeans.labels_"
   ]
  },
  {
   "cell_type": "code",
   "execution_count": 131,
   "metadata": {},
   "outputs": [
    {
     "data": {
      "text/plain": [
       "array([2, 1, 2, 1, 4, 2, 2, 1, 4, 2, 4, 3, 0, 3, 3, 2, 4, 3, 3, 3, 4, 2,\n",
       "       0, 0, 4, 2, 3, 2, 1, 3, 2, 2, 0, 1, 1, 4, 3, 2, 1, 4, 3, 2, 4, 4,\n",
       "       0, 0, 2, 0, 2, 3, 1, 2, 0, 2, 2, 1, 2, 4, 3, 4, 1, 4, 3, 0, 3, 2,\n",
       "       2, 2, 4, 3, 2, 2, 3, 2, 1, 2, 2, 2, 0, 2, 3, 0, 4, 4, 2, 1, 1, 2,\n",
       "       1, 2, 4, 2, 3, 3, 4, 2, 3, 1, 0, 3], dtype=int32)"
      ]
     },
     "execution_count": 131,
     "metadata": {},
     "output_type": "execute_result"
    }
   ],
   "source": [
    "# getting the instance labels\n",
    "kmeans.labels_"
   ]
  },
  {
   "cell_type": "code",
   "execution_count": 82,
   "metadata": {},
   "outputs": [
    {
     "data": {
      "text/plain": [
       "array([[ 8.57014608,  8.33500406],\n",
       "       [-1.82728393,  4.84502284],\n",
       "       [ 3.03301287, -1.27210665],\n",
       "       [ 7.80350324,  9.93014521],\n",
       "       [-2.92460485,  6.26023105]])"
      ]
     },
     "execution_count": 82,
     "metadata": {},
     "output_type": "execute_result"
    }
   ],
   "source": [
    "# getting the cluster centroids\n",
    "kmeans.cluster_centers_"
   ]
  },
  {
   "cell_type": "code",
   "execution_count": 93,
   "metadata": {},
   "outputs": [
    {
     "data": {
      "text/plain": [
       "array([2, 2, 2, 2], dtype=int32)"
      ]
     },
     "execution_count": 93,
     "metadata": {},
     "output_type": "execute_result"
    }
   ],
   "source": [
    "X_new = np.random.rand(4,2)\n",
    "kmeans.predict(X_new)"
   ]
  },
  {
   "cell_type": "code",
   "execution_count": 124,
   "metadata": {},
   "outputs": [
    {
     "data": {
      "text/plain": [
       "array([[11.73638292,  5.02156947,  3.28388271, 12.4022386 ,  6.76605475],\n",
       "       [11.38947121,  4.63968223,  3.45733031, 12.01942337,  6.40021036],\n",
       "       [11.44929703,  4.84787726,  3.27855844, 12.1066039 ,  6.60821746],\n",
       "       [11.66898288,  5.12358034,  3.1343577 , 12.35376574,  6.8751833 ]])"
      ]
     },
     "execution_count": 124,
     "metadata": {},
     "output_type": "execute_result"
    }
   ],
   "source": [
    "kmeans.transform(X_new)"
   ]
  },
  {
   "cell_type": "code",
   "execution_count": null,
   "metadata": {},
   "outputs": [],
   "source": []
  }
 ],
 "metadata": {
  "kernelspec": {
   "display_name": "Python 3",
   "language": "python",
   "name": "python3"
  },
  "language_info": {
   "codemirror_mode": {
    "name": "ipython",
    "version": 3
   },
   "file_extension": ".py",
   "mimetype": "text/x-python",
   "name": "python",
   "nbconvert_exporter": "python",
   "pygments_lexer": "ipython3",
   "version": "3.6.10"
  }
 },
 "nbformat": 4,
 "nbformat_minor": 4
}
